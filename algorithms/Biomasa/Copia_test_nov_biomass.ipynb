{
 "cells": [
  {
   "cell_type": "markdown",
   "metadata": {},
   "source": [
    "### Adapatación código GEE \n",
    "\n",
    "\n",
    "Codigo en GEE, Escrito por Pedro Rodriguez-Veiga\n",
    "//Organization: National Centre for Earth Observation - University of Leiceicester (UK)\n",
    "//In colaboration with: IDEAM - Institute of Hydrology, Meteorology and Environmental Studies (Colombia)\n",
    "//Purpose: Development / testing Colombia's aboveground biomass map algorithm\n",
    "//Current version: 4.1\n",
    "//Improvements version 4.1:\n",
    "//   - AGB estimated using Chave et al. and Alvarez et al. type I allometries\n",
    "//   - Co-registration ALOS-2 PALSAR-2 composite to Sentinel-1\n",
    "//   - The k-fold cross-validation was converted to loop functions\n",
    "//   - The PPM validation is now completely independent (the corresponding conglomerados within the the same location are not used for cal/val)\n",
    "//   - Error propagation on the uncertainty layer (RMSE or Rel_RMSE)"
   ]
  },
  {
   "cell_type": "markdown",
   "metadata": {},
   "source": [
    "### Librerías"
   ]
  },
  {
   "cell_type": "code",
   "execution_count": 2,
   "metadata": {},
   "outputs": [
    {
     "name": "stderr",
     "output_type": "stream",
     "text": [
      "/home/cubo/anaconda/lib/python3.6/site-packages/sklearn/externals/joblib/__init__.py:15: DeprecationWarning: sklearn.externals.joblib is deprecated in 0.21 and will be removed in 0.23. Please import this functionality directly from joblib, which can be installed with: pip install joblib. If this warning is raised when loading pickled models, you may need to re-serialize those models with scikit-learn 0.21+.\n",
      "  warnings.warn(msg, category=DeprecationWarning)\n"
     ]
    }
   ],
   "source": [
    "import datacube\n",
    "from datacube.storage import netcdf_writer\n",
    "from datacube.model import Variable, CRS\n",
    "import os\n",
    "import re\n",
    "import xarray as xr\n",
    "import numpy as np\n",
    "import gdal\n",
    "from sklearn.datasets import make_regression\n",
    "from sklearn import metrics\n",
    "from sklearn.ensemble import RandomForestRegressor\n",
    "from sklearn.externals import joblib\n",
    "from sklearn.utils.multiclass import unique_labels\n",
    "import datetime\n",
    "import matplotlib.pyplot as plt\n",
    "import numpy as np\n",
    "import os\n",
    "from osgeo import gdal,ogr\n",
    "from glob import glob\n",
    "import matplotlib as mpl\n"
   ]
  },
  {
   "cell_type": "markdown",
   "metadata": {},
   "source": [
    "### Definición de funciones"
   ]
  },
  {
   "cell_type": "code",
   "execution_count": 7,
   "metadata": {},
   "outputs": [],
   "source": [
    "def exportar(fname, data, geo_transform, projection):\n",
    "    driver = gdal.GetDriverByName('GTiff')\n",
    "    rows, cols = data.shape\n",
    "    dataset = driver.Create(fname, cols, rows, 1, gdal.GDT_Byte)\n",
    "    dataset.SetGeoTransform(geo_transform)\n",
    "    dataset.SetProjection(projection)\n",
    "    band = dataset.GetRasterBand(1)\n",
    "    band.WriteArray(data)\n",
    "    dataset = None"
   ]
  },
  {
   "cell_type": "code",
   "execution_count": 3,
   "metadata": {},
   "outputs": [],
   "source": [
    "def rasterizar_entrenamiento(plyr, pValFilter, pAttrFil, pAttrAGB, rows, cols , geo_transform, projection):\n",
    "    labeled_pixels = np.zeros((rows, cols)) # imagen base de zeros donde empieza a llenar\n",
    "    plyr.SetAttributeFilter(pAttrFil + \" <> \" + \"'\" + str(pValFilter) + \"'\")  #### Con este filtra\n",
    "    print(\"Nro de Pol Filtrados  <> de\",str(pValFilter),\":\", plyr.GetFeatureCount())\n",
    "    pClasesAGB = []\n",
    "    for feature in plyr:\n",
    "        pClasesAGB.append(feature.GetField(pAttrAGB))\n",
    "        pClasesAGB = list(dict.fromkeys(pClasesAGB)) # remueve Duplicados si hay dos o mas poligonos con el mismo AGB\n",
    "    print(pClasesAGB)\n",
    "  \n",
    "  #driver = gdal.GetDriverByName('MEM')\n",
    "   #target_ds = driver.Create('', cols, rows, 1, gdal.GDT_UInt16)\n",
    "    for val in pClasesAGB:\n",
    "        plyr.SetAttributeFilter(pAttrAGB + \" = \" + str(val))  #### Con este filtra\n",
    "        print(\"AGB:\", val , \"nroPol:\", plyr.GetFeatureCount())\n",
    "        driver = gdal.GetDriverByName('MEM')\n",
    "        target_ds = driver.Create('', cols, rows, 1, gdal.GDT_UInt16)\n",
    "        target_ds.SetGeoTransform(geo_transform)\n",
    "        target_ds.SetProjection(projection)\n",
    "        gdal.RasterizeLayer(target_ds, [1], plyr, burn_values=[val]) ## Asigna el valor de label al poligono \n",
    "      #return target_ds\n",
    "        band = target_ds.GetRasterBand(1)\n",
    "        labeled_pixels += band.ReadAsArray()\n",
    "    return labeled_pixels"
   ]
  },
  {
   "cell_type": "code",
   "execution_count": 69,
   "metadata": {},
   "outputs": [],
   "source": [
    "def ValidarClass(plyr, pValFilter, pAttrFil, pAttrAGB, geo_transform, projection, kFoldImg):\n",
    "        rows, cols = kFoldImg.shape\n",
    "        labeled_pixels = np.zeros((rows, cols)) # imagen base de zeros donde empieza a llenar\n",
    "        plyr.SetAttributeFilter(pAttrFil + \" = \" + \"'\" + str(pValFilter) + \"'\")  #### Con este filtra\n",
    "        print(\"Nro Poligonos para el Kfold\", str(pValFilter), \" = \", plyr.GetFeatureCount())\n",
    "        pClasesAGB = []\n",
    "        for feature in plyr:\n",
    "             pClasesAGB.append(feature.GetField(pAttrAGB))\n",
    "        pClasesAGB = list(dict.fromkeys(pClasesAGB)) # remueve Duplicados si hay dos o mas poligonos con el mismo AGB\n",
    "        for val in pClasesAGB:\n",
    "            plyr.SetAttributeFilter(pAttrAGB + \" = \" + str(val))  #### Con este filtra\n",
    "            print(\"AGB:\", val , \"nroPol:\", plyr.GetFeatureCount())\n",
    "            driver = gdal.GetDriverByName('MEM')\n",
    "            target_ds = driver.Create('', cols, rows, 1, gdal.GDT_UInt16)\n",
    "            target_ds.SetGeoTransform(geo_transform)\n",
    "            target_ds.SetProjection(projection)\n",
    "            gdal.RasterizeLayer(target_ds, [1], plyr, burn_values=[val]) ## Asigna el valor de label al poligono \n",
    "            band = target_ds.GetRasterBand(1)\n",
    "            ### Valida el poligono contra los datos del shape\n",
    "            pImgPol = np.array(band.ReadAsArray())\n",
    "            pClassImaKfold = np.array(kFoldImg)\n",
    "            n_samples = rows*cols\n",
    "            imagRes = np.where(pImgPol.reshape((n_samples, 1)) > 0, pClassImaKfold.reshape((n_samples, 1)), 0) \n",
    "            print(\"AGB en Shp: \", str(val),\"Media Calculada:\", np.mean(imagRes[imagRes != 0]))\n",
    "            labeled_pixels += imagRes.reshape((rows, cols))\n",
    "        return labeled_pixels\n"
   ]
  },
  {
   "cell_type": "code",
   "execution_count": null,
   "metadata": {},
   "outputs": [],
   "source": []
  },
  {
   "cell_type": "markdown",
   "metadata": {
    "colab_type": "text",
    "id": "6yPQosVGdDoU"
   },
   "source": [
    "### Definción de Consulta"
   ]
  },
  {
   "cell_type": "markdown",
   "metadata": {},
   "source": [
    "#### Parámetros de Consulta"
   ]
  },
  {
   "cell_type": "code",
   "execution_count": 8,
   "metadata": {},
   "outputs": [],
   "source": [
    "execID=1\n",
    "algorithm = \"RandomForestReg\"\n",
    "version= \"1.0\""
   ]
  },
  {
   "cell_type": "markdown",
   "metadata": {},
   "source": [
    "##### Los parametros que encontrará a continuación corresponde \n",
    "\n",
    "- products = Unidad de almacenamiento que desea consultar (Sátelite), Landsat 5, 7 y 8 \n",
    "- bands = Las bandas que desea emplear para el calculo de medianas y los índices que encontrará debajo  de la función de medianas\n",
    "- time_ranges = Rango o periodo de tiempo a cosultar (Veriricar que corresponda a los datos disponibles por unidad de almacenamiento)\n",
    "- Área = El usuario debe definir la longitud mínima, máxima y la latitud mínima, máxima del área de consulta\n",
    "- normalized = Función para normalizar los valores resultantes del cálculo de las medianas\n",
    "- minValid = Valor mínimo valido que empleará el algoritmo  para el cálculo de las medianas\n",
    "- nodata= -9999 Es el valor por defecto que se dará a los valores no data en el cálculo de las medianas"
   ]
  },
  {
   "cell_type": "code",
   "execution_count": 10,
   "metadata": {},
   "outputs": [],
   "source": [
    "products = ['LS8_OLI_LASRC'] #Productos sobre los que se hará la consulta (unidades de almacenamiento)\n",
    "bands=[\"red\",\"nir\", \"swir1\",\"swir2\",\"green\",\"blue\"] #arreglo de bandas #\"blue\",\"green\",\n",
    "time_ranges = [(\"2016-01-01\", \"2016-02-25\")] #Una lista de tuplas, cada tupla representa un periodo\n",
    "#área sobre la cual se hará la consulta:\n",
    "min_long = -73\n",
    "min_lat = 11\n",
    "max_long = -71\n",
    "max_lat = 12"
   ]
  },
  {
   "cell_type": "code",
   "execution_count": 11,
   "metadata": {},
   "outputs": [],
   "source": [
    "normalized=True\n",
    "minValid=1;\n",
    "\n",
    "nodata=-9999"
   ]
  },
  {
   "cell_type": "code",
   "execution_count": 12,
   "metadata": {},
   "outputs": [],
   "source": [
    "dc = datacube.Datacube(app=\"{}_{}_{}\".format(algorithm,version,execID))"
   ]
  },
  {
   "cell_type": "markdown",
   "metadata": {},
   "source": [
    "#### Función de Consulta de unidad de almacenamiento Landsat con parámetros asignados"
   ]
  },
  {
   "cell_type": "code",
   "execution_count": 16,
   "metadata": {},
   "outputs": [
    {
     "name": "stderr",
     "output_type": "stream",
     "text": [
      "/home/cubo/anaconda/lib/python3.6/_collections_abc.py:720: FutureWarning: iteration over an xarray.Dataset will change in xarray v0.11 to only include data variables, not coordinates. Iterate over the Dataset.variables property instead to preserve existing behavior in a forwards compatible manner.\n",
      "  yield from self._mapping\n"
     ]
    }
   ],
   "source": [
    "kwargs={}\n",
    "dc = datacube.Datacube(app=\"{}_{}_{}\".format(algorithm,version,execID))\n",
    "for product in products:\n",
    "    i=0\n",
    "    validValues=set()\n",
    "    if product==\"LS7_ETM_LEDAPS\":\n",
    "        validValues=[66,68,130,132]\n",
    "    elif product == \"LS8_OLI_LASRC\":\n",
    "        validValues=[322, 386, 834, 898, 1346, 324, 388, 836, 900, 1348]\n",
    "    for tr in time_ranges:\n",
    "        _data = dc.load(product=product, longitude=(min_long, max_long), latitude=(min_lat, max_lat), time=tr)\n",
    "        if len(_data.data_vars)==0:\n",
    "            break\n",
    "        cloud_mask=np.isin(_data[\"pixel_qa\"].values, validValues)\n",
    "        for band in bands:\n",
    "            _data[band].values=np.where(np.logical_and(_data.data_vars[band]!=nodata,cloud_mask),_data.data_vars[band], np.nan)\n",
    "        _undesired=list(set(_data.keys())-set(bands+['latitude','longitude','time']))\n",
    "        _data=_data.drop(_undesired)\n",
    "            \n",
    "        if \"xarr\"+str(i) in kwargs:\n",
    "            kwargs[\"xarr\"+str(i)]=xr.concat([kwargs[\"xarr\"+str(i)],_data.copy(deep=True)], 'time')\n",
    "        else:\n",
    "            kwargs[\"xarr\"+str(i)]=_data\n",
    "    i+=1\n",
    "del _data"
   ]
  },
  {
   "cell_type": "code",
   "execution_count": 17,
   "metadata": {},
   "outputs": [],
   "source": [
    "#El algoritmo recibe los productos como xarrays en variablles llamadas xarr0, xarr1, xarr2... \n",
    "xarr0=kwargs[\"xarr0\"]\n",
    "del kwargs"
   ]
  },
  {
   "cell_type": "markdown",
   "metadata": {},
   "source": [
    "#### Función de Consulta de unidad de almacenamiento Radar ALOS PALSAR con parámetros asignados\n"
   ]
  },
  {
   "cell_type": "code",
   "execution_count": 23,
   "metadata": {},
   "outputs": [],
   "source": [
    "_data3 = dc.load(product=\"ALOS2_PALSAR_MOSAIC\", longitude=(min_long, max_long), latitude=(min_lat, max_lat), time=(\"2016-01-01\", \"2016-12-31\"))"
   ]
  },
  {
   "cell_type": "code",
   "execution_count": 24,
   "metadata": {},
   "outputs": [],
   "source": [
    "xarr0['hh']=_data3['hh']\n",
    "xarr0['hv']=_data3['hv']"
   ]
  },
  {
   "cell_type": "markdown",
   "metadata": {},
   "source": [
    "\n"
   ]
  },
  {
   "cell_type": "markdown",
   "metadata": {},
   "source": [
    "#### Función de Cálculo de Índices para unidad de alamacenamiento RADAR ALOS PALSAR"
   ]
  },
  {
   "cell_type": "code",
   "execution_count": 26,
   "metadata": {},
   "outputs": [],
   "source": [
    "banda1=_data3['hh']\n",
    "banda2=_data3['hv']"
   ]
  },
  {
   "cell_type": "code",
   "execution_count": 27,
   "metadata": {},
   "outputs": [],
   "source": [
    "#CÁLCULO DE 1ER ÍNDICE RDFI\n",
    "RDFI =(banda1-banda2)/(banda1+banda2)"
   ]
  },
  {
   "cell_type": "code",
   "execution_count": 28,
   "metadata": {},
   "outputs": [],
   "source": [
    "#CÁLCULO DE 2DO ÍNDICE SPR\n",
    "s1  = (banda1+banda2)\n",
    "s2  =(banda1-banda2)\n",
    "s3 = 2 * (banda1 **(1/2))*(banda2 **(1/2)) * np.cos(banda1-banda2)\n",
    "s4 =2 * (banda1 **(1/2))*(banda2 **(1/2)) * np.sin(banda1-banda2)\n",
    "LPR =(s1+s2)/(s1-s2)\n",
    "SC = 0.5*s1 - 0.5 * s4\n",
    "OC = 0.5*s1 + 0.5 * s4\n",
    "CPR =(SC/OC)\n",
    "m = (((s2**2)+(s3**2)+(s4**2))**(1/2))/s1"
   ]
  },
  {
   "cell_type": "markdown",
   "metadata": {},
   "source": [
    "#### Función cálculo de medianas de la consulta anterior "
   ]
  },
  {
   "cell_type": "code",
   "execution_count": 18,
   "metadata": {},
   "outputs": [
    {
     "name": "stderr",
     "output_type": "stream",
     "text": [
      "/home/cubo/anaconda/lib/python3.6/site-packages/numpy/lib/function_base.py:3405: RuntimeWarning: All-NaN slice encountered\n",
      "  r = func(a, **kwargs)\n"
     ]
    }
   ],
   "source": [
    "medians={} \n",
    "for band in bands:\n",
    "    datos=xarr0[band].values\n",
    "    allNan=~np.isnan(datos) #Una mascara que indica qué datos son o no nan. \n",
    "    if normalized: #Normalizar, si es necesario.\n",
    "        #Para cada momento en el tiempo obtener el promedio y la desviación estándar de los valores de reflectancia\n",
    "        m=np.nanmean(datos.reshape((datos.shape[0],-1)), axis=1)\n",
    "        st=np.nanstd(datos.reshape((datos.shape[0],-1)), axis=1)\n",
    "        # usar ((x-x̄)/st) para llevar la distribución a media 0 y desviación estándar 1, \n",
    "        # y luego hacer un cambio de espacio para la nueva desviación y media. \n",
    "        datos=np.true_divide((datos-m[:,np.newaxis,np.newaxis]), st[:,np.newaxis,np.newaxis])*np.nanmean(st)+np.nanmean(m)\n",
    "    #Calcular la mediana en la dimensión de tiempo \n",
    "    medians[band]=np.nanmedian(datos,0) \n",
    "    #Eliminar los valores que no cumplen con el número mínimo de pixeles válidos dado. \n",
    "    medians[band][np.sum(allNan,0)<minValid]=np.nan\n",
    "    \n",
    "del datos"
   ]
  },
  {
   "cell_type": "code",
   "execution_count": 19,
   "metadata": {},
   "outputs": [],
   "source": [
    "# Dimensiones de filas y columnas que empleará el algoritmo para definir su salida final\n",
    "rows, cols = medians[bands[0]].shape"
   ]
  },
  {
   "cell_type": "markdown",
   "metadata": {},
   "source": [
    "#### Cálculo de índices a partir de la consulta de medianas realizada anteriormente"
   ]
  },
  {
   "cell_type": "code",
   "execution_count": 30,
   "metadata": {},
   "outputs": [],
   "source": [
    "medians[\"ndvi\"]=(medians[\"nir\"]-medians[\"red\"])/(medians[\"nir\"]+medians[\"red\"])"
   ]
  },
  {
   "cell_type": "code",
   "execution_count": 31,
   "metadata": {},
   "outputs": [],
   "source": [
    "medians[\"ndmi\"]=(medians[\"nir\"]-medians[\"swir1\"])/(medians[\"nir\"]+medians[\"swir1\"])"
   ]
  },
  {
   "cell_type": "code",
   "execution_count": 32,
   "metadata": {},
   "outputs": [],
   "source": [
    "medians[\"nbr\"]=(medians[\"nir\"]-medians[\"swir2\"])/(medians[\"nir\"]+medians[\"swir2\"])"
   ]
  },
  {
   "cell_type": "code",
   "execution_count": 33,
   "metadata": {},
   "outputs": [],
   "source": [
    "medians[\"nbr2\"]=(medians[\"swir1\"]-medians[\"swir2\"])/(medians[\"swir1\"]+medians[\"swir2\"])"
   ]
  },
  {
   "cell_type": "code",
   "execution_count": 34,
   "metadata": {},
   "outputs": [],
   "source": [
    "medians[\"savi\"]=(medians[\"nir\"]-medians[\"red\"])/(medians[\"nir\"]+medians[\"red\"]+1)*2 "
   ]
  },
  {
   "cell_type": "code",
   "execution_count": 35,
   "metadata": {},
   "outputs": [],
   "source": [
    "medians['rdfi']=RDFI[0].values"
   ]
  },
  {
   "cell_type": "code",
   "execution_count": 36,
   "metadata": {},
   "outputs": [],
   "source": [
    "medians['cpR']=CPR[0].values"
   ]
  },
  {
   "cell_type": "code",
   "execution_count": 37,
   "metadata": {},
   "outputs": [],
   "source": [
    "medians['hh']=banda1[0].values"
   ]
  },
  {
   "cell_type": "code",
   "execution_count": 38,
   "metadata": {},
   "outputs": [],
   "source": [
    "medians['hv']=banda2[0].values"
   ]
  },
  {
   "cell_type": "code",
   "execution_count": 39,
   "metadata": {},
   "outputs": [
    {
     "data": {
      "text/plain": [
       "['red',\n",
       " 'nir',\n",
       " 'swir1',\n",
       " 'swir2',\n",
       " 'green',\n",
       " 'blue',\n",
       " 'ndvi',\n",
       " 'ndmi',\n",
       " 'nbr',\n",
       " 'nbr2',\n",
       " 'savi',\n",
       " 'rdfi',\n",
       " 'cpR',\n",
       " 'hh',\n",
       " 'hv']"
      ]
     },
     "execution_count": 39,
     "metadata": {},
     "output_type": "execute_result"
    }
   ],
   "source": [
    "#Lista de bandas del arreglo cálculado \n",
    "bands=list(medians.keys())\n",
    "bands"
   ]
  },
  {
   "cell_type": "code",
   "execution_count": 40,
   "metadata": {},
   "outputs": [],
   "source": [
    "#Registro de sistema de referencia y coordenadas del arreglo que posteriormente el algoritmo emplea en la salida\n",
    "_coords=xarr0.coords\n",
    "_crs=xarr0.crs"
   ]
  },
  {
   "cell_type": "code",
   "execution_count": 41,
   "metadata": {},
   "outputs": [],
   "source": [
    "#Registro de sistema de referencia y coordenadas del arreglo que posteriormente el algoritmo emplea en la salida\n",
    "geo_transform=(_coords[\"longitude\"].values[0], 0.000269995,0, _coords[\"latitude\"].values[0],0,-0.000271302)\n",
    "proj=_crs.wkt"
   ]
  },
  {
   "cell_type": "markdown",
   "metadata": {},
   "source": [
    "### Clasificación y regresión de Random Forest\n"
   ]
  },
  {
   "cell_type": "markdown",
   "metadata": {},
   "source": [
    "#### Prepara insumos vector"
   ]
  },
  {
   "cell_type": "code",
   "execution_count": 3,
   "metadata": {
    "colab": {
     "base_uri": "https://localhost:8080/",
     "height": 68
    },
    "colab_type": "code",
    "id": "MArFnDqAhK3a",
    "outputId": "f4219f56-54ed-46a1-d205-81f6777a57dd"
   },
   "outputs": [
    {
     "name": "stdout",
     "output_type": "stream",
     "text": [
      "<osgeo.ogr.Layer; proxy of <Swig Object of type 'OGRLayerShadow *' at 0x7f115084c930> >\n",
      "Nro poligonos en Shape: 9\n",
      "[7.0, 1.0, 9.0, 5.0, 6.0, 2.0, 10.0]\n"
     ]
    }
   ],
   "source": [
    "shapeFileCorte = r'/home/cubo/jupyter/Biomasa/ipcc/Conglomerados.shp'\n",
    "ds=ogr.Open(shapeFileCorte)\n",
    "lyr=ds.GetLayer()\n",
    "print(lyr)\n",
    "##Dentro de la función de rasterización de los valores de AGB cálculado por chavez se asigna al campo \"pAttrAGB\" la columna correspondiente dentro del shapefile para el ejemplo corresponde a \"cha_HD\"\n",
    "##para la discriminación de valores por kfold se deberá asignar el attributo \"pAttributo\" que dentro del shapefile contiene el valor de kfold para cada poligono para el ejemplo es \"k10\"\n",
    "pAttributo = 'K10'\n",
    "pAttrAGB = 'cha_HD'\n",
    "print(\"Nro poligonos en Shape:\",lyr.GetFeatureCount())\n",
    "pClasesName = []\n",
    "       #lee todos los poligonos para extraer el numero de clases en el arreglo \n",
    "for feature in lyr:\n",
    "    pClasesName.append(feature.GetField(pAttributo))\n",
    "    pClasesName = list(dict.fromkeys(pClasesName)) # remueve Duplicados\n",
    "print(pClasesName)\n",
    "proj='GEOGCS[\"WGS 84\",DATUM[\"WGS_1984\",SPHEROID[\"WGS 84\",6378137,298.257223563,AUTHORITY[\"EPSG\",\"7030\"]],TOWGS84[0,0,0,0,0,0,0],AUTHORITY[\"EPSG\",\"6326\"]],PRIMEM[\"Greenwich\",0,AUTHORITY[\"EPSG\",\"8901\"]],UNIT[\"degree\",0.0174532925199433,AUTHORITY[\"EPSG\",\"9122\"]],AUTHORITY[\"EPSG\",\"4326\"]]'\n"
   ]
  },
  {
   "cell_type": "code",
   "execution_count": 45,
   "metadata": {
    "colab": {
     "base_uri": "https://localhost:8080/",
     "height": 34
    },
    "colab_type": "code",
    "id": "Qs9wlD8VTezH",
    "outputId": "8c7a93a3-1379-4aa2-a926-fb1b27e6de4b"
   },
   "outputs": [
    {
     "data": {
      "text/plain": [
       "[7.0, 1.0, 9.0, 5.0, 6.0, 2.0, 10.0]"
      ]
     },
     "execution_count": 45,
     "metadata": {},
     "output_type": "execute_result"
    }
   ],
   "source": [
    "pClasesName"
   ]
  },
  {
   "cell_type": "code",
   "execution_count": 46,
   "metadata": {
    "colab": {
     "base_uri": "https://localhost:8080/",
     "height": 1000
    },
    "colab_type": "code",
    "id": "N5Kf_pvOm7Hp",
    "outputId": "08c5fb4a-a310-4a65-a881-8cad034d2d3c",
    "scrolled": true
   },
   "outputs": [
    {
     "name": "stdout",
     "output_type": "stream",
     "text": [
      "Nro de Pol Filtrados  <> de 7.0 : 6\n",
      "[12.3532, 2.28068, 10.8896, 6.44028, 6.48006, 5.95838]\n",
      "AGB: 12.3532 nroPol: 1\n",
      "AGB: 2.28068 nroPol: 1\n",
      "AGB: 10.8896 nroPol: 1\n",
      "AGB: 6.44028 nroPol: 1\n",
      "AGB: 6.48006 nroPol: 1\n",
      "AGB: 5.95838 nroPol: 1\n",
      "12.0\n",
      "Nro de Pol Filtrados  <> de 1.0 : 8\n",
      "[4.34956, 13.6518, 2.28068, 10.8896, 6.44028, 6.48006, 5.95838, 4.44512]\n",
      "AGB: 4.34956 nroPol: 1\n",
      "AGB: 13.6518 nroPol: 1\n",
      "AGB: 2.28068 nroPol: 1\n",
      "AGB: 10.8896 nroPol: 1\n",
      "AGB: 6.44028 nroPol: 1\n",
      "AGB: 6.48006 nroPol: 1\n",
      "AGB: 5.95838 nroPol: 1\n",
      "AGB: 4.44512 nroPol: 1\n",
      "14.0\n",
      "Nro de Pol Filtrados  <> de 9.0 : 8\n",
      "[4.34956, 13.6518, 12.3532, 10.8896, 6.44028, 6.48006, 5.95838, 4.44512]\n",
      "AGB: 4.34956 nroPol: 1\n",
      "AGB: 13.6518 nroPol: 1\n",
      "AGB: 12.3532 nroPol: 1\n",
      "AGB: 10.8896 nroPol: 1\n",
      "AGB: 6.44028 nroPol: 1\n",
      "AGB: 6.48006 nroPol: 1\n",
      "AGB: 5.95838 nroPol: 1\n",
      "AGB: 4.44512 nroPol: 1\n",
      "14.0\n",
      "Nro de Pol Filtrados  <> de 5.0 : 8\n",
      "[4.34956, 13.6518, 12.3532, 2.28068, 6.44028, 6.48006, 5.95838, 4.44512]\n",
      "AGB: 4.34956 nroPol: 1\n",
      "AGB: 13.6518 nroPol: 1\n",
      "AGB: 12.3532 nroPol: 1\n",
      "AGB: 2.28068 nroPol: 1\n",
      "AGB: 6.44028 nroPol: 1\n",
      "AGB: 6.48006 nroPol: 1\n",
      "AGB: 5.95838 nroPol: 1\n",
      "AGB: 4.44512 nroPol: 1\n",
      "14.0\n",
      "Nro de Pol Filtrados  <> de 6.0 : 8\n",
      "[4.34956, 13.6518, 12.3532, 2.28068, 10.8896, 6.48006, 5.95838, 4.44512]\n",
      "AGB: 4.34956 nroPol: 1\n",
      "AGB: 13.6518 nroPol: 1\n",
      "AGB: 12.3532 nroPol: 1\n",
      "AGB: 2.28068 nroPol: 1\n",
      "AGB: 10.8896 nroPol: 1\n",
      "AGB: 6.48006 nroPol: 1\n",
      "AGB: 5.95838 nroPol: 1\n",
      "AGB: 4.44512 nroPol: 1\n",
      "14.0\n",
      "Nro de Pol Filtrados  <> de 2.0 : 8\n",
      "[4.34956, 13.6518, 12.3532, 2.28068, 10.8896, 6.44028, 5.95838, 4.44512]\n",
      "AGB: 4.34956 nroPol: 1\n",
      "AGB: 13.6518 nroPol: 1\n",
      "AGB: 12.3532 nroPol: 1\n",
      "AGB: 2.28068 nroPol: 1\n",
      "AGB: 10.8896 nroPol: 1\n",
      "AGB: 6.44028 nroPol: 1\n",
      "AGB: 5.95838 nroPol: 1\n",
      "AGB: 4.44512 nroPol: 1\n",
      "14.0\n",
      "Nro de Pol Filtrados  <> de 10.0 : 8\n",
      "[4.34956, 13.6518, 12.3532, 2.28068, 10.8896, 6.44028, 6.48006, 4.44512]\n",
      "AGB: 4.34956 nroPol: 1\n",
      "AGB: 13.6518 nroPol: 1\n",
      "AGB: 12.3532 nroPol: 1\n",
      "AGB: 2.28068 nroPol: 1\n",
      "AGB: 10.8896 nroPol: 1\n",
      "AGB: 6.44028 nroPol: 1\n",
      "AGB: 6.48006 nroPol: 1\n",
      "AGB: 4.44512 nroPol: 1\n",
      "14.0\n"
     ]
    }
   ],
   "source": [
    "###Se procede a realizar  la rasterización de los poligonos ingresados definidos con los parámetros anteriormente\n",
    "ImagesTrain = []\n",
    "for K in pClasesName: # Recorre los ipcc o Kfold\n",
    "    pima = rasterizar_entrenamiento(lyr, K, pAttributo, pAttrAGB, rows, cols, geo_transform, proj) #rasteriza todos menos el kfold\n",
    "    print(pima.max())\n",
    "    ImagesTrain.append(pima)\n",
    "        ##############   con la imagen rasterizada se realiza clasificacion en esta parte del codigo para cada uno de los K-fold   ##################\n",
    "    "
   ]
  },
  {
   "cell_type": "code",
   "execution_count": 47,
   "metadata": {
    "colab": {
     "base_uri": "https://localhost:8080/",
     "height": 34
    },
    "colab_type": "code",
    "id": "4Cv1YQCrtinj",
    "outputId": "4d1f79fa-e5fa-459c-8f0c-3db1402307d6"
   },
   "outputs": [
    {
     "data": {
      "text/plain": [
       "12.0"
      ]
     },
     "execution_count": 47,
     "metadata": {},
     "output_type": "execute_result"
    }
   ],
   "source": [
    "ImagesTrain[0].max()"
   ]
  },
  {
   "cell_type": "code",
   "execution_count": 50,
   "metadata": {
    "colab": {
     "base_uri": "https://localhost:8080/",
     "height": 303
    },
    "colab_type": "code",
    "id": "xqKdinidBwyK",
    "outputId": "02dee90d-c6b8-474e-f109-bad39a509088"
   },
   "outputs": [
    {
     "name": "stdout",
     "output_type": "stream",
     "text": [
      "imagen ipcc 10\n"
     ]
    },
    {
     "data": {
      "image/png": "[encoded data removed]",
      "text/plain": [
       "<Figure size 432x288 with 1 Axes>"
      ]
     },
     "metadata": {
      "needs_background": "light"
     },
     "output_type": "display_data"
    }
   ],
   "source": [
    "## Ploteo de poligonos rasterizados\n",
    "print(\"imagen ipcc 10\")\n",
    "plt.imshow(ImagesTrain[1]);# muestra la ultima ejecucióm"
   ]
  },
  {
   "cell_type": "code",
   "execution_count": 54,
   "metadata": {
    "colab": {
     "base_uri": "https://localhost:8080/",
     "height": 71
    },
    "colab_type": "code",
    "id": "7iM4ZNwVV6mH",
    "outputId": "9b692dcd-21e7-4fd3-9ca7-7be376e0ede1"
   },
   "outputs": [],
   "source": []
  },
  {
   "cell_type": "markdown",
   "metadata": {
    "colab_type": "text",
    "id": "JtwpFo43oEbs"
   },
   "source": [
    "## Itera las clasificaciones de los K-Fold y las guarda en un arreglo (kClasificaciones)"
   ]
  },
  {
   "cell_type": "code",
   "execution_count": 52,
   "metadata": {},
   "outputs": [
    {
     "name": "stdout",
     "output_type": "stream",
     "text": [
      "Comenzando Clasificacion: 2019-11-19 11:27:39.381306\n",
      "\n"
     ]
    }
   ],
   "source": [
    "start = datetime.datetime.now()  \n",
    "print ('Comenzando Clasificacion: %s\\n' % (start) )\n",
    "\n",
    "kClasificaciones = []\n",
    "# Parametros de la clasificación definidos para  la función Random Forest Regressor\n",
    "maxDepth=2\n",
    "RandState=0\n",
    "NroEstimator=10"
   ]
  },
  {
   "cell_type": "code",
   "execution_count": 53,
   "metadata": {},
   "outputs": [
    {
     "name": "stdout",
     "output_type": "stream",
     "text": [
      "Clasificando K-fold 1\n",
      "bands_data\n",
      "[[[3.47689856e+02 5.52354543e+02 3.71775865e+02 ... 1.64504736e+00\n",
      "   2.40700000e+03 5.50000000e+02]\n",
      "  [3.43309003e+02 5.45629778e+02 3.68422305e+02 ... 6.03425180e+00\n",
      "   2.32900000e+03 5.52000000e+02]\n",
      "  [3.39804321e+02 5.48992161e+02 3.69260695e+02 ... 1.16448891e+00\n",
      "   2.16100000e+03 4.99000000e+02]\n",
      "  ...\n",
      "  [3.07792328e+02 1.17863451e+03 1.11606190e+03 ... 1.61373718e+00\n",
      "   2.40100000e+03 6.42000000e+02]\n",
      "  [3.16657924e+02 1.17718234e+03 1.11606190e+03 ... 4.20345612e-01\n",
      "   2.11300000e+03 5.71000000e+02]\n",
      "  [3.19329631e+02 1.18008667e+03 1.12101250e+03 ... 3.02858496e-01\n",
      "   2.42800000e+03 6.68000000e+02]]\n",
      "\n",
      " [[3.47689856e+02 5.57398116e+02 3.75129426e+02 ... 4.06378108e+00\n",
      "   2.26500000e+03 5.38000000e+02]\n",
      "  [3.39804321e+02 5.44789183e+02 3.68422305e+02 ... 4.23126285e-01\n",
      "   2.22800000e+03 5.31000000e+02]\n",
      "  [3.37175809e+02 5.53195138e+02 3.70099085e+02 ... 3.28728215e-01\n",
      "   2.36900000e+03 5.57000000e+02]\n",
      "  ...\n",
      "  [3.05080525e+02 1.17282585e+03 1.11818359e+03 ... 1.92658859e-01\n",
      "   2.36900000e+03 6.15000000e+02]\n",
      "  [3.40703290e+02 1.17718234e+03 1.12313419e+03 ... 1.99635711e+00\n",
      "   2.40600000e+03 6.62000000e+02]\n",
      "  [3.05239795e+02 1.18807357e+03 1.12879201e+03 ... 3.40743979e-01\n",
      "   2.23700000e+03 6.26000000e+02]]\n",
      "\n",
      " [[3.47689856e+02 5.57398116e+02 3.75967816e+02 ... 4.68166551e+00\n",
      "   2.21600000e+03 5.28000000e+02]\n",
      "  [3.48566026e+02 5.59079307e+02 3.71775865e+02 ... 2.04931307e+00\n",
      "   2.40600000e+03 5.74000000e+02]\n",
      "  [3.48566026e+02 5.53195138e+02 3.71775865e+02 ... 6.40250081e-01\n",
      "   2.32900000e+03 5.48000000e+02]\n",
      "  ...\n",
      "  [3.13986216e+02 1.17427801e+03 1.11747636e+03 ... 1.91310388e-01\n",
      "   2.37700000e+03 6.23000000e+02]\n",
      "  [3.26454184e+02 1.17718234e+03 1.11323299e+03 ... 1.26230838e+00\n",
      "   2.45200000e+03 6.74000000e+02]\n",
      "  [2.99737110e+02 1.17790842e+03 1.11676913e+03 ... 4.17283639e-01\n",
      "   2.28600000e+03 6.33000000e+02]]\n",
      "\n",
      " ...\n",
      "\n",
      " [[7.30068489e+02 3.10141001e+03 2.14575412e+03 ... 7.44054692e-02\n",
      "   6.83800000e+03 3.61900000e+03]\n",
      "  [7.89135381e+02 3.09790217e+03 2.39313458e+03 ... 1.88435172e+00\n",
      "   6.70400000e+03 3.61300000e+03]\n",
      "  [6.72906981e+02 3.30574186e+03 2.17908320e+03 ... 2.48128323e+01\n",
      "   6.49900000e+03 3.64200000e+03]\n",
      "  ...\n",
      "  [2.13520008e+03 3.31503645e+03 3.99711445e+03 ... 2.78293033e-01\n",
      "   3.33300000e+03 1.28400000e+03]\n",
      "  [1.97311650e+03 3.08340579e+03 3.73784175e+03 ... 1.33256815e+01\n",
      "   2.22300000e+03 8.42000000e+02]\n",
      "  [1.89830869e+03 2.99601790e+03 3.61312914e+03 ... 7.02961854e-01\n",
      "   1.97400000e+03 7.80000000e+02]]\n",
      "\n",
      " [[7.77013424e+02 3.34958989e+03 2.38810424e+03 ... 3.79269096e+00\n",
      "   5.95900000e+03 3.26600000e+03]\n",
      "  [8.25202804e+02 2.93391052e+03 2.49290301e+03 ... 3.09252801e-01\n",
      "   6.35400000e+03 3.48200000e+03]\n",
      "  [7.27947873e+02 2.93654141e+03 2.13491041e+03 ... 3.82060770e+01\n",
      "   6.42200000e+03 3.59000000e+03]\n",
      "  ...\n",
      "  [2.06929796e+03 3.23511277e+03 3.96053332e+03 ... 1.86819799e-01\n",
      "   3.56800000e+03 1.44200000e+03]\n",
      "  [2.09659307e+03 3.33364606e+03 4.06237417e+03 ... 8.16636403e-02\n",
      "   2.71600000e+03 1.05600000e+03]\n",
      "  [2.10759243e+03 3.28395502e+03 3.93433661e+03 ... 8.26189119e-02\n",
      "   1.86900000e+03 7.11000000e+02]]\n",
      "\n",
      " [[6.25435919e+02 3.40746929e+03 2.05790574e+03 ... 4.04754795e+01\n",
      "   5.04300000e+03 2.72600000e+03]\n",
      "  [7.08156578e+02 3.03826885e+03 2.24893147e+03 ... 1.33397482e+01\n",
      "   5.43500000e+03 3.01800000e+03]\n",
      "  [8.58497285e+02 2.94618797e+03 2.35708380e+03 ... 4.89876362e-02\n",
      "   5.35900000e+03 2.98900000e+03]\n",
      "  ...\n",
      "  [2.02649810e+03 3.14559081e+03 3.75669365e+03 ... 1.00710234e+01\n",
      "   3.09100000e+03 1.27000000e+03]\n",
      "  [2.15837899e+03 3.38084139e+03 4.08152648e+03 ... 6.59726521e+00\n",
      "   2.62500000e+03 1.07400000e+03]\n",
      "  [2.18329081e+03 3.43936217e+03 4.23089158e+03 ... 1.93511318e+01\n",
      "   1.90300000e+03 7.80000000e+02]]]\n",
      "Clasificando K-fold 2\n",
      "bands_data\n",
      "[[[3.47689856e+02 5.52354543e+02 3.71775865e+02 ... 1.64504736e+00\n",
      "   2.40700000e+03 5.50000000e+02]\n",
      "  [3.43309003e+02 5.45629778e+02 3.68422305e+02 ... 6.03425180e+00\n",
      "   2.32900000e+03 5.52000000e+02]\n",
      "  [3.39804321e+02 5.48992161e+02 3.69260695e+02 ... 1.16448891e+00\n",
      "   2.16100000e+03 4.99000000e+02]\n",
      "  ...\n",
      "  [3.07792328e+02 1.17863451e+03 1.11606190e+03 ... 1.61373718e+00\n",
      "   2.40100000e+03 6.42000000e+02]\n",
      "  [3.16657924e+02 1.17718234e+03 1.11606190e+03 ... 4.20345612e-01\n",
      "   2.11300000e+03 5.71000000e+02]\n",
      "  [3.19329631e+02 1.18008667e+03 1.12101250e+03 ... 3.02858496e-01\n",
      "   2.42800000e+03 6.68000000e+02]]\n",
      "\n",
      " [[3.47689856e+02 5.57398116e+02 3.75129426e+02 ... 4.06378108e+00\n",
      "   2.26500000e+03 5.38000000e+02]\n",
      "  [3.39804321e+02 5.44789183e+02 3.68422305e+02 ... 4.23126285e-01\n",
      "   2.22800000e+03 5.31000000e+02]\n",
      "  [3.37175809e+02 5.53195138e+02 3.70099085e+02 ... 3.28728215e-01\n",
      "   2.36900000e+03 5.57000000e+02]\n",
      "  ...\n",
      "  [3.05080525e+02 1.17282585e+03 1.11818359e+03 ... 1.92658859e-01\n",
      "   2.36900000e+03 6.15000000e+02]\n",
      "  [3.40703290e+02 1.17718234e+03 1.12313419e+03 ... 1.99635711e+00\n",
      "   2.40600000e+03 6.62000000e+02]\n",
      "  [3.05239795e+02 1.18807357e+03 1.12879201e+03 ... 3.40743979e-01\n",
      "   2.23700000e+03 6.26000000e+02]]\n",
      "\n",
      " [[3.47689856e+02 5.57398116e+02 3.75967816e+02 ... 4.68166551e+00\n",
      "   2.21600000e+03 5.28000000e+02]\n",
      "  [3.48566026e+02 5.59079307e+02 3.71775865e+02 ... 2.04931307e+00\n",
      "   2.40600000e+03 5.74000000e+02]\n",
      "  [3.48566026e+02 5.53195138e+02 3.71775865e+02 ... 6.40250081e-01\n",
      "   2.32900000e+03 5.48000000e+02]\n",
      "  ...\n",
      "  [3.13986216e+02 1.17427801e+03 1.11747636e+03 ... 1.91310388e-01\n",
      "   2.37700000e+03 6.23000000e+02]\n",
      "  [3.26454184e+02 1.17718234e+03 1.11323299e+03 ... 1.26230838e+00\n",
      "   2.45200000e+03 6.74000000e+02]\n",
      "  [2.99737110e+02 1.17790842e+03 1.11676913e+03 ... 4.17283639e-01\n",
      "   2.28600000e+03 6.33000000e+02]]\n",
      "\n",
      " ...\n",
      "\n",
      " [[7.30068489e+02 3.10141001e+03 2.14575412e+03 ... 7.44054692e-02\n",
      "   6.83800000e+03 3.61900000e+03]\n",
      "  [7.89135381e+02 3.09790217e+03 2.39313458e+03 ... 1.88435172e+00\n",
      "   6.70400000e+03 3.61300000e+03]\n",
      "  [6.72906981e+02 3.30574186e+03 2.17908320e+03 ... 2.48128323e+01\n",
      "   6.49900000e+03 3.64200000e+03]\n",
      "  ...\n",
      "  [2.13520008e+03 3.31503645e+03 3.99711445e+03 ... 2.78293033e-01\n",
      "   3.33300000e+03 1.28400000e+03]\n",
      "  [1.97311650e+03 3.08340579e+03 3.73784175e+03 ... 1.33256815e+01\n",
      "   2.22300000e+03 8.42000000e+02]\n",
      "  [1.89830869e+03 2.99601790e+03 3.61312914e+03 ... 7.02961854e-01\n",
      "   1.97400000e+03 7.80000000e+02]]\n",
      "\n",
      " [[7.77013424e+02 3.34958989e+03 2.38810424e+03 ... 3.79269096e+00\n",
      "   5.95900000e+03 3.26600000e+03]\n",
      "  [8.25202804e+02 2.93391052e+03 2.49290301e+03 ... 3.09252801e-01\n",
      "   6.35400000e+03 3.48200000e+03]\n",
      "  [7.27947873e+02 2.93654141e+03 2.13491041e+03 ... 3.82060770e+01\n",
      "   6.42200000e+03 3.59000000e+03]\n",
      "  ...\n",
      "  [2.06929796e+03 3.23511277e+03 3.96053332e+03 ... 1.86819799e-01\n",
      "   3.56800000e+03 1.44200000e+03]\n",
      "  [2.09659307e+03 3.33364606e+03 4.06237417e+03 ... 8.16636403e-02\n",
      "   2.71600000e+03 1.05600000e+03]\n",
      "  [2.10759243e+03 3.28395502e+03 3.93433661e+03 ... 8.26189119e-02\n",
      "   1.86900000e+03 7.11000000e+02]]\n",
      "\n",
      " [[6.25435919e+02 3.40746929e+03 2.05790574e+03 ... 4.04754795e+01\n",
      "   5.04300000e+03 2.72600000e+03]\n",
      "  [7.08156578e+02 3.03826885e+03 2.24893147e+03 ... 1.33397482e+01\n",
      "   5.43500000e+03 3.01800000e+03]\n",
      "  [8.58497285e+02 2.94618797e+03 2.35708380e+03 ... 4.89876362e-02\n",
      "   5.35900000e+03 2.98900000e+03]\n",
      "  ...\n",
      "  [2.02649810e+03 3.14559081e+03 3.75669365e+03 ... 1.00710234e+01\n",
      "   3.09100000e+03 1.27000000e+03]\n",
      "  [2.15837899e+03 3.38084139e+03 4.08152648e+03 ... 6.59726521e+00\n",
      "   2.62500000e+03 1.07400000e+03]\n",
      "  [2.18329081e+03 3.43936217e+03 4.23089158e+03 ... 1.93511318e+01\n",
      "   1.90300000e+03 7.80000000e+02]]]\n",
      "Clasificando K-fold 3\n",
      "bands_data\n",
      "[[[3.47689856e+02 5.52354543e+02 3.71775865e+02 ... 1.64504736e+00\n",
      "   2.40700000e+03 5.50000000e+02]\n",
      "  [3.43309003e+02 5.45629778e+02 3.68422305e+02 ... 6.03425180e+00\n",
      "   2.32900000e+03 5.52000000e+02]\n",
      "  [3.39804321e+02 5.48992161e+02 3.69260695e+02 ... 1.16448891e+00\n",
      "   2.16100000e+03 4.99000000e+02]\n",
      "  ...\n",
      "  [3.07792328e+02 1.17863451e+03 1.11606190e+03 ... 1.61373718e+00\n",
      "   2.40100000e+03 6.42000000e+02]\n",
      "  [3.16657924e+02 1.17718234e+03 1.11606190e+03 ... 4.20345612e-01\n",
      "   2.11300000e+03 5.71000000e+02]\n",
      "  [3.19329631e+02 1.18008667e+03 1.12101250e+03 ... 3.02858496e-01\n",
      "   2.42800000e+03 6.68000000e+02]]\n",
      "\n",
      " [[3.47689856e+02 5.57398116e+02 3.75129426e+02 ... 4.06378108e+00\n",
      "   2.26500000e+03 5.38000000e+02]\n",
      "  [3.39804321e+02 5.44789183e+02 3.68422305e+02 ... 4.23126285e-01\n",
      "   2.22800000e+03 5.31000000e+02]\n",
      "  [3.37175809e+02 5.53195138e+02 3.70099085e+02 ... 3.28728215e-01\n",
      "   2.36900000e+03 5.57000000e+02]\n",
      "  ...\n",
      "  [3.05080525e+02 1.17282585e+03 1.11818359e+03 ... 1.92658859e-01\n",
      "   2.36900000e+03 6.15000000e+02]\n",
      "  [3.40703290e+02 1.17718234e+03 1.12313419e+03 ... 1.99635711e+00\n",
      "   2.40600000e+03 6.62000000e+02]\n",
      "  [3.05239795e+02 1.18807357e+03 1.12879201e+03 ... 3.40743979e-01\n",
      "   2.23700000e+03 6.26000000e+02]]\n",
      "\n",
      " [[3.47689856e+02 5.57398116e+02 3.75967816e+02 ... 4.68166551e+00\n",
      "   2.21600000e+03 5.28000000e+02]\n",
      "  [3.48566026e+02 5.59079307e+02 3.71775865e+02 ... 2.04931307e+00\n",
      "   2.40600000e+03 5.74000000e+02]\n",
      "  [3.48566026e+02 5.53195138e+02 3.71775865e+02 ... 6.40250081e-01\n",
      "   2.32900000e+03 5.48000000e+02]\n",
      "  ...\n",
      "  [3.13986216e+02 1.17427801e+03 1.11747636e+03 ... 1.91310388e-01\n",
      "   2.37700000e+03 6.23000000e+02]\n",
      "  [3.26454184e+02 1.17718234e+03 1.11323299e+03 ... 1.26230838e+00\n",
      "   2.45200000e+03 6.74000000e+02]\n",
      "  [2.99737110e+02 1.17790842e+03 1.11676913e+03 ... 4.17283639e-01\n",
      "   2.28600000e+03 6.33000000e+02]]\n",
      "\n",
      " ...\n",
      "\n",
      " [[7.30068489e+02 3.10141001e+03 2.14575412e+03 ... 7.44054692e-02\n",
      "   6.83800000e+03 3.61900000e+03]\n",
      "  [7.89135381e+02 3.09790217e+03 2.39313458e+03 ... 1.88435172e+00\n",
      "   6.70400000e+03 3.61300000e+03]\n",
      "  [6.72906981e+02 3.30574186e+03 2.17908320e+03 ... 2.48128323e+01\n",
      "   6.49900000e+03 3.64200000e+03]\n",
      "  ...\n",
      "  [2.13520008e+03 3.31503645e+03 3.99711445e+03 ... 2.78293033e-01\n",
      "   3.33300000e+03 1.28400000e+03]\n",
      "  [1.97311650e+03 3.08340579e+03 3.73784175e+03 ... 1.33256815e+01\n",
      "   2.22300000e+03 8.42000000e+02]\n",
      "  [1.89830869e+03 2.99601790e+03 3.61312914e+03 ... 7.02961854e-01\n",
      "   1.97400000e+03 7.80000000e+02]]\n",
      "\n",
      " [[7.77013424e+02 3.34958989e+03 2.38810424e+03 ... 3.79269096e+00\n",
      "   5.95900000e+03 3.26600000e+03]\n",
      "  [8.25202804e+02 2.93391052e+03 2.49290301e+03 ... 3.09252801e-01\n",
      "   6.35400000e+03 3.48200000e+03]\n",
      "  [7.27947873e+02 2.93654141e+03 2.13491041e+03 ... 3.82060770e+01\n",
      "   6.42200000e+03 3.59000000e+03]\n",
      "  ...\n",
      "  [2.06929796e+03 3.23511277e+03 3.96053332e+03 ... 1.86819799e-01\n",
      "   3.56800000e+03 1.44200000e+03]\n",
      "  [2.09659307e+03 3.33364606e+03 4.06237417e+03 ... 8.16636403e-02\n",
      "   2.71600000e+03 1.05600000e+03]\n",
      "  [2.10759243e+03 3.28395502e+03 3.93433661e+03 ... 8.26189119e-02\n",
      "   1.86900000e+03 7.11000000e+02]]\n",
      "\n",
      " [[6.25435919e+02 3.40746929e+03 2.05790574e+03 ... 4.04754795e+01\n",
      "   5.04300000e+03 2.72600000e+03]\n",
      "  [7.08156578e+02 3.03826885e+03 2.24893147e+03 ... 1.33397482e+01\n",
      "   5.43500000e+03 3.01800000e+03]\n",
      "  [8.58497285e+02 2.94618797e+03 2.35708380e+03 ... 4.89876362e-02\n",
      "   5.35900000e+03 2.98900000e+03]\n",
      "  ...\n",
      "  [2.02649810e+03 3.14559081e+03 3.75669365e+03 ... 1.00710234e+01\n",
      "   3.09100000e+03 1.27000000e+03]\n",
      "  [2.15837899e+03 3.38084139e+03 4.08152648e+03 ... 6.59726521e+00\n",
      "   2.62500000e+03 1.07400000e+03]\n",
      "  [2.18329081e+03 3.43936217e+03 4.23089158e+03 ... 1.93511318e+01\n",
      "   1.90300000e+03 7.80000000e+02]]]\n"
     ]
    },
    {
     "name": "stdout",
     "output_type": "stream",
     "text": [
      "Clasificando K-fold 4\n",
      "bands_data\n",
      "[[[3.47689856e+02 5.52354543e+02 3.71775865e+02 ... 1.64504736e+00\n",
      "   2.40700000e+03 5.50000000e+02]\n",
      "  [3.43309003e+02 5.45629778e+02 3.68422305e+02 ... 6.03425180e+00\n",
      "   2.32900000e+03 5.52000000e+02]\n",
      "  [3.39804321e+02 5.48992161e+02 3.69260695e+02 ... 1.16448891e+00\n",
      "   2.16100000e+03 4.99000000e+02]\n",
      "  ...\n",
      "  [3.07792328e+02 1.17863451e+03 1.11606190e+03 ... 1.61373718e+00\n",
      "   2.40100000e+03 6.42000000e+02]\n",
      "  [3.16657924e+02 1.17718234e+03 1.11606190e+03 ... 4.20345612e-01\n",
      "   2.11300000e+03 5.71000000e+02]\n",
      "  [3.19329631e+02 1.18008667e+03 1.12101250e+03 ... 3.02858496e-01\n",
      "   2.42800000e+03 6.68000000e+02]]\n",
      "\n",
      " [[3.47689856e+02 5.57398116e+02 3.75129426e+02 ... 4.06378108e+00\n",
      "   2.26500000e+03 5.38000000e+02]\n",
      "  [3.39804321e+02 5.44789183e+02 3.68422305e+02 ... 4.23126285e-01\n",
      "   2.22800000e+03 5.31000000e+02]\n",
      "  [3.37175809e+02 5.53195138e+02 3.70099085e+02 ... 3.28728215e-01\n",
      "   2.36900000e+03 5.57000000e+02]\n",
      "  ...\n",
      "  [3.05080525e+02 1.17282585e+03 1.11818359e+03 ... 1.92658859e-01\n",
      "   2.36900000e+03 6.15000000e+02]\n",
      "  [3.40703290e+02 1.17718234e+03 1.12313419e+03 ... 1.99635711e+00\n",
      "   2.40600000e+03 6.62000000e+02]\n",
      "  [3.05239795e+02 1.18807357e+03 1.12879201e+03 ... 3.40743979e-01\n",
      "   2.23700000e+03 6.26000000e+02]]\n",
      "\n",
      " [[3.47689856e+02 5.57398116e+02 3.75967816e+02 ... 4.68166551e+00\n",
      "   2.21600000e+03 5.28000000e+02]\n",
      "  [3.48566026e+02 5.59079307e+02 3.71775865e+02 ... 2.04931307e+00\n",
      "   2.40600000e+03 5.74000000e+02]\n",
      "  [3.48566026e+02 5.53195138e+02 3.71775865e+02 ... 6.40250081e-01\n",
      "   2.32900000e+03 5.48000000e+02]\n",
      "  ...\n",
      "  [3.13986216e+02 1.17427801e+03 1.11747636e+03 ... 1.91310388e-01\n",
      "   2.37700000e+03 6.23000000e+02]\n",
      "  [3.26454184e+02 1.17718234e+03 1.11323299e+03 ... 1.26230838e+00\n",
      "   2.45200000e+03 6.74000000e+02]\n",
      "  [2.99737110e+02 1.17790842e+03 1.11676913e+03 ... 4.17283639e-01\n",
      "   2.28600000e+03 6.33000000e+02]]\n",
      "\n",
      " ...\n",
      "\n",
      " [[7.30068489e+02 3.10141001e+03 2.14575412e+03 ... 7.44054692e-02\n",
      "   6.83800000e+03 3.61900000e+03]\n",
      "  [7.89135381e+02 3.09790217e+03 2.39313458e+03 ... 1.88435172e+00\n",
      "   6.70400000e+03 3.61300000e+03]\n",
      "  [6.72906981e+02 3.30574186e+03 2.17908320e+03 ... 2.48128323e+01\n",
      "   6.49900000e+03 3.64200000e+03]\n",
      "  ...\n",
      "  [2.13520008e+03 3.31503645e+03 3.99711445e+03 ... 2.78293033e-01\n",
      "   3.33300000e+03 1.28400000e+03]\n",
      "  [1.97311650e+03 3.08340579e+03 3.73784175e+03 ... 1.33256815e+01\n",
      "   2.22300000e+03 8.42000000e+02]\n",
      "  [1.89830869e+03 2.99601790e+03 3.61312914e+03 ... 7.02961854e-01\n",
      "   1.97400000e+03 7.80000000e+02]]\n",
      "\n",
      " [[7.77013424e+02 3.34958989e+03 2.38810424e+03 ... 3.79269096e+00\n",
      "   5.95900000e+03 3.26600000e+03]\n",
      "  [8.25202804e+02 2.93391052e+03 2.49290301e+03 ... 3.09252801e-01\n",
      "   6.35400000e+03 3.48200000e+03]\n",
      "  [7.27947873e+02 2.93654141e+03 2.13491041e+03 ... 3.82060770e+01\n",
      "   6.42200000e+03 3.59000000e+03]\n",
      "  ...\n",
      "  [2.06929796e+03 3.23511277e+03 3.96053332e+03 ... 1.86819799e-01\n",
      "   3.56800000e+03 1.44200000e+03]\n",
      "  [2.09659307e+03 3.33364606e+03 4.06237417e+03 ... 8.16636403e-02\n",
      "   2.71600000e+03 1.05600000e+03]\n",
      "  [2.10759243e+03 3.28395502e+03 3.93433661e+03 ... 8.26189119e-02\n",
      "   1.86900000e+03 7.11000000e+02]]\n",
      "\n",
      " [[6.25435919e+02 3.40746929e+03 2.05790574e+03 ... 4.04754795e+01\n",
      "   5.04300000e+03 2.72600000e+03]\n",
      "  [7.08156578e+02 3.03826885e+03 2.24893147e+03 ... 1.33397482e+01\n",
      "   5.43500000e+03 3.01800000e+03]\n",
      "  [8.58497285e+02 2.94618797e+03 2.35708380e+03 ... 4.89876362e-02\n",
      "   5.35900000e+03 2.98900000e+03]\n",
      "  ...\n",
      "  [2.02649810e+03 3.14559081e+03 3.75669365e+03 ... 1.00710234e+01\n",
      "   3.09100000e+03 1.27000000e+03]\n",
      "  [2.15837899e+03 3.38084139e+03 4.08152648e+03 ... 6.59726521e+00\n",
      "   2.62500000e+03 1.07400000e+03]\n",
      "  [2.18329081e+03 3.43936217e+03 4.23089158e+03 ... 1.93511318e+01\n",
      "   1.90300000e+03 7.80000000e+02]]]\n",
      "Clasificando K-fold 5\n",
      "bands_data\n",
      "[[[3.47689856e+02 5.52354543e+02 3.71775865e+02 ... 1.64504736e+00\n",
      "   2.40700000e+03 5.50000000e+02]\n",
      "  [3.43309003e+02 5.45629778e+02 3.68422305e+02 ... 6.03425180e+00\n",
      "   2.32900000e+03 5.52000000e+02]\n",
      "  [3.39804321e+02 5.48992161e+02 3.69260695e+02 ... 1.16448891e+00\n",
      "   2.16100000e+03 4.99000000e+02]\n",
      "  ...\n",
      "  [3.07792328e+02 1.17863451e+03 1.11606190e+03 ... 1.61373718e+00\n",
      "   2.40100000e+03 6.42000000e+02]\n",
      "  [3.16657924e+02 1.17718234e+03 1.11606190e+03 ... 4.20345612e-01\n",
      "   2.11300000e+03 5.71000000e+02]\n",
      "  [3.19329631e+02 1.18008667e+03 1.12101250e+03 ... 3.02858496e-01\n",
      "   2.42800000e+03 6.68000000e+02]]\n",
      "\n",
      " [[3.47689856e+02 5.57398116e+02 3.75129426e+02 ... 4.06378108e+00\n",
      "   2.26500000e+03 5.38000000e+02]\n",
      "  [3.39804321e+02 5.44789183e+02 3.68422305e+02 ... 4.23126285e-01\n",
      "   2.22800000e+03 5.31000000e+02]\n",
      "  [3.37175809e+02 5.53195138e+02 3.70099085e+02 ... 3.28728215e-01\n",
      "   2.36900000e+03 5.57000000e+02]\n",
      "  ...\n",
      "  [3.05080525e+02 1.17282585e+03 1.11818359e+03 ... 1.92658859e-01\n",
      "   2.36900000e+03 6.15000000e+02]\n",
      "  [3.40703290e+02 1.17718234e+03 1.12313419e+03 ... 1.99635711e+00\n",
      "   2.40600000e+03 6.62000000e+02]\n",
      "  [3.05239795e+02 1.18807357e+03 1.12879201e+03 ... 3.40743979e-01\n",
      "   2.23700000e+03 6.26000000e+02]]\n",
      "\n",
      " [[3.47689856e+02 5.57398116e+02 3.75967816e+02 ... 4.68166551e+00\n",
      "   2.21600000e+03 5.28000000e+02]\n",
      "  [3.48566026e+02 5.59079307e+02 3.71775865e+02 ... 2.04931307e+00\n",
      "   2.40600000e+03 5.74000000e+02]\n",
      "  [3.48566026e+02 5.53195138e+02 3.71775865e+02 ... 6.40250081e-01\n",
      "   2.32900000e+03 5.48000000e+02]\n",
      "  ...\n",
      "  [3.13986216e+02 1.17427801e+03 1.11747636e+03 ... 1.91310388e-01\n",
      "   2.37700000e+03 6.23000000e+02]\n",
      "  [3.26454184e+02 1.17718234e+03 1.11323299e+03 ... 1.26230838e+00\n",
      "   2.45200000e+03 6.74000000e+02]\n",
      "  [2.99737110e+02 1.17790842e+03 1.11676913e+03 ... 4.17283639e-01\n",
      "   2.28600000e+03 6.33000000e+02]]\n",
      "\n",
      " ...\n",
      "\n",
      " [[7.30068489e+02 3.10141001e+03 2.14575412e+03 ... 7.44054692e-02\n",
      "   6.83800000e+03 3.61900000e+03]\n",
      "  [7.89135381e+02 3.09790217e+03 2.39313458e+03 ... 1.88435172e+00\n",
      "   6.70400000e+03 3.61300000e+03]\n",
      "  [6.72906981e+02 3.30574186e+03 2.17908320e+03 ... 2.48128323e+01\n",
      "   6.49900000e+03 3.64200000e+03]\n",
      "  ...\n",
      "  [2.13520008e+03 3.31503645e+03 3.99711445e+03 ... 2.78293033e-01\n",
      "   3.33300000e+03 1.28400000e+03]\n",
      "  [1.97311650e+03 3.08340579e+03 3.73784175e+03 ... 1.33256815e+01\n",
      "   2.22300000e+03 8.42000000e+02]\n",
      "  [1.89830869e+03 2.99601790e+03 3.61312914e+03 ... 7.02961854e-01\n",
      "   1.97400000e+03 7.80000000e+02]]\n",
      "\n",
      " [[7.77013424e+02 3.34958989e+03 2.38810424e+03 ... 3.79269096e+00\n",
      "   5.95900000e+03 3.26600000e+03]\n",
      "  [8.25202804e+02 2.93391052e+03 2.49290301e+03 ... 3.09252801e-01\n",
      "   6.35400000e+03 3.48200000e+03]\n",
      "  [7.27947873e+02 2.93654141e+03 2.13491041e+03 ... 3.82060770e+01\n",
      "   6.42200000e+03 3.59000000e+03]\n",
      "  ...\n",
      "  [2.06929796e+03 3.23511277e+03 3.96053332e+03 ... 1.86819799e-01\n",
      "   3.56800000e+03 1.44200000e+03]\n",
      "  [2.09659307e+03 3.33364606e+03 4.06237417e+03 ... 8.16636403e-02\n",
      "   2.71600000e+03 1.05600000e+03]\n",
      "  [2.10759243e+03 3.28395502e+03 3.93433661e+03 ... 8.26189119e-02\n",
      "   1.86900000e+03 7.11000000e+02]]\n",
      "\n",
      " [[6.25435919e+02 3.40746929e+03 2.05790574e+03 ... 4.04754795e+01\n",
      "   5.04300000e+03 2.72600000e+03]\n",
      "  [7.08156578e+02 3.03826885e+03 2.24893147e+03 ... 1.33397482e+01\n",
      "   5.43500000e+03 3.01800000e+03]\n",
      "  [8.58497285e+02 2.94618797e+03 2.35708380e+03 ... 4.89876362e-02\n",
      "   5.35900000e+03 2.98900000e+03]\n",
      "  ...\n",
      "  [2.02649810e+03 3.14559081e+03 3.75669365e+03 ... 1.00710234e+01\n",
      "   3.09100000e+03 1.27000000e+03]\n",
      "  [2.15837899e+03 3.38084139e+03 4.08152648e+03 ... 6.59726521e+00\n",
      "   2.62500000e+03 1.07400000e+03]\n",
      "  [2.18329081e+03 3.43936217e+03 4.23089158e+03 ... 1.93511318e+01\n",
      "   1.90300000e+03 7.80000000e+02]]]\n",
      "Clasificando K-fold 6\n",
      "bands_data\n",
      "[[[3.47689856e+02 5.52354543e+02 3.71775865e+02 ... 1.64504736e+00\n",
      "   2.40700000e+03 5.50000000e+02]\n",
      "  [3.43309003e+02 5.45629778e+02 3.68422305e+02 ... 6.03425180e+00\n",
      "   2.32900000e+03 5.52000000e+02]\n",
      "  [3.39804321e+02 5.48992161e+02 3.69260695e+02 ... 1.16448891e+00\n",
      "   2.16100000e+03 4.99000000e+02]\n",
      "  ...\n",
      "  [3.07792328e+02 1.17863451e+03 1.11606190e+03 ... 1.61373718e+00\n",
      "   2.40100000e+03 6.42000000e+02]\n",
      "  [3.16657924e+02 1.17718234e+03 1.11606190e+03 ... 4.20345612e-01\n",
      "   2.11300000e+03 5.71000000e+02]\n",
      "  [3.19329631e+02 1.18008667e+03 1.12101250e+03 ... 3.02858496e-01\n",
      "   2.42800000e+03 6.68000000e+02]]\n",
      "\n",
      " [[3.47689856e+02 5.57398116e+02 3.75129426e+02 ... 4.06378108e+00\n",
      "   2.26500000e+03 5.38000000e+02]\n",
      "  [3.39804321e+02 5.44789183e+02 3.68422305e+02 ... 4.23126285e-01\n",
      "   2.22800000e+03 5.31000000e+02]\n",
      "  [3.37175809e+02 5.53195138e+02 3.70099085e+02 ... 3.28728215e-01\n",
      "   2.36900000e+03 5.57000000e+02]\n",
      "  ...\n",
      "  [3.05080525e+02 1.17282585e+03 1.11818359e+03 ... 1.92658859e-01\n",
      "   2.36900000e+03 6.15000000e+02]\n",
      "  [3.40703290e+02 1.17718234e+03 1.12313419e+03 ... 1.99635711e+00\n",
      "   2.40600000e+03 6.62000000e+02]\n",
      "  [3.05239795e+02 1.18807357e+03 1.12879201e+03 ... 3.40743979e-01\n",
      "   2.23700000e+03 6.26000000e+02]]\n",
      "\n",
      " [[3.47689856e+02 5.57398116e+02 3.75967816e+02 ... 4.68166551e+00\n",
      "   2.21600000e+03 5.28000000e+02]\n",
      "  [3.48566026e+02 5.59079307e+02 3.71775865e+02 ... 2.04931307e+00\n",
      "   2.40600000e+03 5.74000000e+02]\n",
      "  [3.48566026e+02 5.53195138e+02 3.71775865e+02 ... 6.40250081e-01\n",
      "   2.32900000e+03 5.48000000e+02]\n",
      "  ...\n",
      "  [3.13986216e+02 1.17427801e+03 1.11747636e+03 ... 1.91310388e-01\n",
      "   2.37700000e+03 6.23000000e+02]\n",
      "  [3.26454184e+02 1.17718234e+03 1.11323299e+03 ... 1.26230838e+00\n",
      "   2.45200000e+03 6.74000000e+02]\n",
      "  [2.99737110e+02 1.17790842e+03 1.11676913e+03 ... 4.17283639e-01\n",
      "   2.28600000e+03 6.33000000e+02]]\n",
      "\n",
      " ...\n",
      "\n",
      " [[7.30068489e+02 3.10141001e+03 2.14575412e+03 ... 7.44054692e-02\n",
      "   6.83800000e+03 3.61900000e+03]\n",
      "  [7.89135381e+02 3.09790217e+03 2.39313458e+03 ... 1.88435172e+00\n",
      "   6.70400000e+03 3.61300000e+03]\n",
      "  [6.72906981e+02 3.30574186e+03 2.17908320e+03 ... 2.48128323e+01\n",
      "   6.49900000e+03 3.64200000e+03]\n",
      "  ...\n",
      "  [2.13520008e+03 3.31503645e+03 3.99711445e+03 ... 2.78293033e-01\n",
      "   3.33300000e+03 1.28400000e+03]\n",
      "  [1.97311650e+03 3.08340579e+03 3.73784175e+03 ... 1.33256815e+01\n",
      "   2.22300000e+03 8.42000000e+02]\n",
      "  [1.89830869e+03 2.99601790e+03 3.61312914e+03 ... 7.02961854e-01\n",
      "   1.97400000e+03 7.80000000e+02]]\n",
      "\n",
      " [[7.77013424e+02 3.34958989e+03 2.38810424e+03 ... 3.79269096e+00\n",
      "   5.95900000e+03 3.26600000e+03]\n",
      "  [8.25202804e+02 2.93391052e+03 2.49290301e+03 ... 3.09252801e-01\n",
      "   6.35400000e+03 3.48200000e+03]\n",
      "  [7.27947873e+02 2.93654141e+03 2.13491041e+03 ... 3.82060770e+01\n",
      "   6.42200000e+03 3.59000000e+03]\n",
      "  ...\n",
      "  [2.06929796e+03 3.23511277e+03 3.96053332e+03 ... 1.86819799e-01\n",
      "   3.56800000e+03 1.44200000e+03]\n",
      "  [2.09659307e+03 3.33364606e+03 4.06237417e+03 ... 8.16636403e-02\n",
      "   2.71600000e+03 1.05600000e+03]\n",
      "  [2.10759243e+03 3.28395502e+03 3.93433661e+03 ... 8.26189119e-02\n",
      "   1.86900000e+03 7.11000000e+02]]\n",
      "\n",
      " [[6.25435919e+02 3.40746929e+03 2.05790574e+03 ... 4.04754795e+01\n",
      "   5.04300000e+03 2.72600000e+03]\n",
      "  [7.08156578e+02 3.03826885e+03 2.24893147e+03 ... 1.33397482e+01\n",
      "   5.43500000e+03 3.01800000e+03]\n",
      "  [8.58497285e+02 2.94618797e+03 2.35708380e+03 ... 4.89876362e-02\n",
      "   5.35900000e+03 2.98900000e+03]\n",
      "  ...\n",
      "  [2.02649810e+03 3.14559081e+03 3.75669365e+03 ... 1.00710234e+01\n",
      "   3.09100000e+03 1.27000000e+03]\n",
      "  [2.15837899e+03 3.38084139e+03 4.08152648e+03 ... 6.59726521e+00\n",
      "   2.62500000e+03 1.07400000e+03]\n",
      "  [2.18329081e+03 3.43936217e+03 4.23089158e+03 ... 1.93511318e+01\n",
      "   1.90300000e+03 7.80000000e+02]]]\n"
     ]
    },
    {
     "name": "stdout",
     "output_type": "stream",
     "text": [
      "Clasificando K-fold 7\n",
      "bands_data\n",
      "[[[3.47689856e+02 5.52354543e+02 3.71775865e+02 ... 1.64504736e+00\n",
      "   2.40700000e+03 5.50000000e+02]\n",
      "  [3.43309003e+02 5.45629778e+02 3.68422305e+02 ... 6.03425180e+00\n",
      "   2.32900000e+03 5.52000000e+02]\n",
      "  [3.39804321e+02 5.48992161e+02 3.69260695e+02 ... 1.16448891e+00\n",
      "   2.16100000e+03 4.99000000e+02]\n",
      "  ...\n",
      "  [3.07792328e+02 1.17863451e+03 1.11606190e+03 ... 1.61373718e+00\n",
      "   2.40100000e+03 6.42000000e+02]\n",
      "  [3.16657924e+02 1.17718234e+03 1.11606190e+03 ... 4.20345612e-01\n",
      "   2.11300000e+03 5.71000000e+02]\n",
      "  [3.19329631e+02 1.18008667e+03 1.12101250e+03 ... 3.02858496e-01\n",
      "   2.42800000e+03 6.68000000e+02]]\n",
      "\n",
      " [[3.47689856e+02 5.57398116e+02 3.75129426e+02 ... 4.06378108e+00\n",
      "   2.26500000e+03 5.38000000e+02]\n",
      "  [3.39804321e+02 5.44789183e+02 3.68422305e+02 ... 4.23126285e-01\n",
      "   2.22800000e+03 5.31000000e+02]\n",
      "  [3.37175809e+02 5.53195138e+02 3.70099085e+02 ... 3.28728215e-01\n",
      "   2.36900000e+03 5.57000000e+02]\n",
      "  ...\n",
      "  [3.05080525e+02 1.17282585e+03 1.11818359e+03 ... 1.92658859e-01\n",
      "   2.36900000e+03 6.15000000e+02]\n",
      "  [3.40703290e+02 1.17718234e+03 1.12313419e+03 ... 1.99635711e+00\n",
      "   2.40600000e+03 6.62000000e+02]\n",
      "  [3.05239795e+02 1.18807357e+03 1.12879201e+03 ... 3.40743979e-01\n",
      "   2.23700000e+03 6.26000000e+02]]\n",
      "\n",
      " [[3.47689856e+02 5.57398116e+02 3.75967816e+02 ... 4.68166551e+00\n",
      "   2.21600000e+03 5.28000000e+02]\n",
      "  [3.48566026e+02 5.59079307e+02 3.71775865e+02 ... 2.04931307e+00\n",
      "   2.40600000e+03 5.74000000e+02]\n",
      "  [3.48566026e+02 5.53195138e+02 3.71775865e+02 ... 6.40250081e-01\n",
      "   2.32900000e+03 5.48000000e+02]\n",
      "  ...\n",
      "  [3.13986216e+02 1.17427801e+03 1.11747636e+03 ... 1.91310388e-01\n",
      "   2.37700000e+03 6.23000000e+02]\n",
      "  [3.26454184e+02 1.17718234e+03 1.11323299e+03 ... 1.26230838e+00\n",
      "   2.45200000e+03 6.74000000e+02]\n",
      "  [2.99737110e+02 1.17790842e+03 1.11676913e+03 ... 4.17283639e-01\n",
      "   2.28600000e+03 6.33000000e+02]]\n",
      "\n",
      " ...\n",
      "\n",
      " [[7.30068489e+02 3.10141001e+03 2.14575412e+03 ... 7.44054692e-02\n",
      "   6.83800000e+03 3.61900000e+03]\n",
      "  [7.89135381e+02 3.09790217e+03 2.39313458e+03 ... 1.88435172e+00\n",
      "   6.70400000e+03 3.61300000e+03]\n",
      "  [6.72906981e+02 3.30574186e+03 2.17908320e+03 ... 2.48128323e+01\n",
      "   6.49900000e+03 3.64200000e+03]\n",
      "  ...\n",
      "  [2.13520008e+03 3.31503645e+03 3.99711445e+03 ... 2.78293033e-01\n",
      "   3.33300000e+03 1.28400000e+03]\n",
      "  [1.97311650e+03 3.08340579e+03 3.73784175e+03 ... 1.33256815e+01\n",
      "   2.22300000e+03 8.42000000e+02]\n",
      "  [1.89830869e+03 2.99601790e+03 3.61312914e+03 ... 7.02961854e-01\n",
      "   1.97400000e+03 7.80000000e+02]]\n",
      "\n",
      " [[7.77013424e+02 3.34958989e+03 2.38810424e+03 ... 3.79269096e+00\n",
      "   5.95900000e+03 3.26600000e+03]\n",
      "  [8.25202804e+02 2.93391052e+03 2.49290301e+03 ... 3.09252801e-01\n",
      "   6.35400000e+03 3.48200000e+03]\n",
      "  [7.27947873e+02 2.93654141e+03 2.13491041e+03 ... 3.82060770e+01\n",
      "   6.42200000e+03 3.59000000e+03]\n",
      "  ...\n",
      "  [2.06929796e+03 3.23511277e+03 3.96053332e+03 ... 1.86819799e-01\n",
      "   3.56800000e+03 1.44200000e+03]\n",
      "  [2.09659307e+03 3.33364606e+03 4.06237417e+03 ... 8.16636403e-02\n",
      "   2.71600000e+03 1.05600000e+03]\n",
      "  [2.10759243e+03 3.28395502e+03 3.93433661e+03 ... 8.26189119e-02\n",
      "   1.86900000e+03 7.11000000e+02]]\n",
      "\n",
      " [[6.25435919e+02 3.40746929e+03 2.05790574e+03 ... 4.04754795e+01\n",
      "   5.04300000e+03 2.72600000e+03]\n",
      "  [7.08156578e+02 3.03826885e+03 2.24893147e+03 ... 1.33397482e+01\n",
      "   5.43500000e+03 3.01800000e+03]\n",
      "  [8.58497285e+02 2.94618797e+03 2.35708380e+03 ... 4.89876362e-02\n",
      "   5.35900000e+03 2.98900000e+03]\n",
      "  ...\n",
      "  [2.02649810e+03 3.14559081e+03 3.75669365e+03 ... 1.00710234e+01\n",
      "   3.09100000e+03 1.27000000e+03]\n",
      "  [2.15837899e+03 3.38084139e+03 4.08152648e+03 ... 6.59726521e+00\n",
      "   2.62500000e+03 1.07400000e+03]\n",
      "  [2.18329081e+03 3.43936217e+03 4.23089158e+03 ... 1.93511318e+01\n",
      "   1.90300000e+03 7.80000000e+02]]]\n"
     ]
    }
   ],
   "source": [
    "for i in range(0,len(ImagesTrain)):\n",
    "    print(\"Clasificando K-fold\", i+1)\n",
    "    labeled_pixels=ImagesTrain[i]\n",
    "    is_train = np.nonzero(labeled_pixels)\n",
    "    training_labels = labeled_pixels[is_train]\n",
    "    bands_data=[]\n",
    "    for band in bands: \n",
    "        bands_data.append(medians[band])\n",
    "    bands_data = np.dstack(bands_data)\n",
    "    print(\"bands_data\")\n",
    "    print(bands_data)\n",
    "    training_samples = bands_data[is_train]\n",
    "    np.isfinite(training_samples)\n",
    "    _msk=np.sum(np.isfinite(training_samples),1)>1\n",
    "    training_samples= training_samples[_msk,:]\n",
    "    training_labels=training_labels[_msk]\n",
    "    #asignación de mascara valores nan por valor no data\n",
    "    mask_nan=np.isnan(training_samples)\n",
    "    training_samples[mask_nan]=-9999\n",
    "    ##Clasificación RF por regresión con los parametros definidos anteriormente\n",
    "    classifier = RandomForestRegressor(max_depth= maxDepth, random_state=RandState,   n_estimators=NroEstimator)\n",
    "    classifier.fit(training_samples, training_labels)\n",
    "    rows, cols, n_bands = bands_data.shape\n",
    "    n_samples = rows*cols\n",
    "    flat_pixels = bands_data.reshape((n_samples, n_bands))\n",
    "    #asignación de mascara valores nan por valor no data=-9999\n",
    "    mask_nan=np.isnan(flat_pixels)\n",
    "    flat_pixels[mask_nan]=-9999\n",
    "    flat_pixels = bands_data.reshape((n_samples, n_bands))\n",
    "    ##preparación de resultados en matriz con dimensiones igual a las consultadas al principio del código\n",
    "    result = classifier.predict(flat_pixels)\n",
    "    classification = result.reshape((rows, cols))\n",
    "    kClasificaciones.append(classification)"
   ]
  },
  {
   "cell_type": "markdown",
   "metadata": {
    "colab": {},
    "colab_type": "code",
    "id": "CHC1mGUzjVgS"
   },
   "source": [
    "### Preparación de la salida de medianas resultante de la clasificación \n"
   ]
  },
  {
   "cell_type": "code",
   "execution_count": 54,
   "metadata": {
    "colab": {
     "base_uri": "https://localhost:8080/",
     "height": 443
    },
    "colab_type": "code",
    "id": "gd7Wi63ROd_W",
    "outputId": "14a221bd-197e-43c0-8688-c04220809bf6",
    "scrolled": true
   },
   "outputs": [
    {
     "data": {
      "text/plain": [
       "<matplotlib.image.AxesImage at 0x7f9bc8a920f0>"
      ]
     },
     "execution_count": 54,
     "metadata": {},
     "output_type": "execute_result"
    },
    {
     "data": {
      "image/png": "[encoded data removed]",
      "text/plain": [
       "<Figure size 432x288 with 1 Axes>"
      ]
     },
     "metadata": {
      "needs_background": "light"
     },
     "output_type": "display_data"
    }
   ],
   "source": [
    "##Preparación de salida final \n",
    "kClasificaciones=np.asarray(kClasificaciones)\n",
    "ImgResultado = np.zeros((rows, cols))\n",
    "#Recorrer la matriz pixel a pixel\n",
    "for l in range(0,cols):\n",
    "    for j in range(0,rows): \n",
    "        dato = kClasificaciones[:,j,l]\n",
    "        ## Cálculo de percentil 5 y 95 de los datos resultantes de cada set de datos correspondientes con las 7 clasificaciones anteriore resultantes, calculado pixel a pixel\n",
    "        percent=np.percentile(dato,q=[5,95])\n",
    "        #Cálculo de mediana para set de datos extrayendo los valores que se encuentre <5 y > 95 de los valores correspondientes a percentil, generando un solo pixel resultante.\n",
    "        datoFinal = np.median(dato[np.logical_and(dato>percent[0],dato<percent[1])])\n",
    "        ImgResultado[j,l]; = datoFinal\n",
    "\n",
    "plt.imshow(ImgResultado)\n"
   ]
  },
  {
   "cell_type": "code",
   "execution_count": null,
   "metadata": {
    "colab": {
     "base_uri": "https://localhost:8080/",
     "height": 238
    },
    "colab_type": "code",
    "id": "-UPQ6j0Ajl09",
    "outputId": "e17d3071-b8be-4b3a-87a8-3167c0b47286"
   },
   "outputs": [],
   "source": [
    "ImgResultado"
   ]
  },
  {
   "cell_type": "markdown",
   "metadata": {},
   "source": [
    "### Validación de resultados optenidos de la clasificación "
   ]
  },
  {
   "cell_type": "code",
   "execution_count": 70,
   "metadata": {
    "scrolled": true
   },
   "outputs": [
    {
     "name": "stdout",
     "output_type": "stream",
     "text": [
      "Nro Poligonos para el Kfold 7.0  =  3\n",
      "AGB: 4.34956 nroPol: 1\n",
      "AGB en Shp:  4.34956 Media Calculada: 11.379999999999999\n",
      "AGB: 13.6518 nroPol: 1\n",
      "AGB en Shp:  13.6518 Media Calculada: 11.200000000000001\n",
      "AGB: 4.44512 nroPol: 1\n",
      "AGB en Shp:  4.44512 Media Calculada: 5.446293718080604\n",
      "11\n",
      "Nro Poligonos para el Kfold 1.0  =  1\n",
      "AGB: 12.3532 nroPol: 1\n",
      "AGB en Shp:  12.3532 Media Calculada: 4.332400091342035\n",
      "12\n",
      "Nro Poligonos para el Kfold 9.0  =  1\n",
      "AGB: 2.28068 nroPol: 1\n",
      "AGB en Shp:  2.28068 Media Calculada: 6.602501495573169\n",
      "13\n",
      "Nro Poligonos para el Kfold 5.0  =  1\n",
      "AGB: 10.8896 nroPol: 1\n",
      "AGB en Shp:  10.8896 Media Calculada: 6.844997272775392\n",
      "14\n",
      "Nro Poligonos para el Kfold 6.0  =  1\n",
      "AGB: 6.44028 nroPol: 1\n",
      "AGB en Shp:  6.44028 Media Calculada: 5.811351023611715\n",
      "15\n",
      "Nro Poligonos para el Kfold 2.0  =  1\n",
      "AGB: 6.48006 nroPol: 1\n",
      "AGB en Shp:  6.48006 Media Calculada: 4.825321414925288\n",
      "16\n",
      "Nro Poligonos para el Kfold 10.0  =  1\n",
      "AGB: 5.95838 nroPol: 1\n",
      "AGB en Shp:  5.95838 Media Calculada: 6.667532203707461\n",
      "17\n"
     ]
    }
   ],
   "source": [
    "ImagesVal1 = []\n",
    "k=10\n",
    "pContKfold = 0\n",
    "for K in pClasesName: # Recorre los ipcc o Kfold\n",
    "    valid = ValidarClass(lyr, K, pAttributo, pAttrAGB, geo_transform, proj, kClasificaciones[pContKfold]) #rasteriza todos menos el kfold\n",
    "    ImagesVal1.append(valid)\n",
    "    k=k+1\n",
    "    pContKfold += 1\n",
    "    print(k)"
   ]
  },
  {
   "cell_type": "markdown",
   "metadata": {},
   "source": [
    "### Preparar salida "
   ]
  },
  {
   "cell_type": "code",
   "execution_count": 55,
   "metadata": {},
   "outputs": [],
   "source": [
    "##Se llamará la función exportar por lo tanto deberá cambiar el nombre de manera que el algoritmo no sobr eescriba archivos con este nombre\n",
    "exportar(\"salida_test3.tiff\", ImgResultado, geo_transform, proj)"
   ]
  }
 ],
 "metadata": {
  "colab": {
   "collapsed_sections": [],
   "name": "Copia_11Oct_ClassRF_IF.ipynb",
   "provenance": []
  },
  "kernelspec": {
   "display_name": "Python 3",
   "language": "python",
   "name": "python3"
  },
  "language_info": {
   "codemirror_mode": {
    "name": "ipython",
    "version": 3
   },
   "file_extension": ".py",
   "mimetype": "text/x-python",
   "name": "python",
   "nbconvert_exporter": "python",
   "pygments_lexer": "ipython3",
   "version": "3.6.8"
  }
 },
 "nbformat": 4,
 "nbformat_minor": 1
}
