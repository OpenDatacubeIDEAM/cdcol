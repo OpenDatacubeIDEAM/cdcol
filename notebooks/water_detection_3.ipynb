{
 "cells": [
  {
   "cell_type": "markdown",
   "metadata": {},
   "source": [
    "# CEOS Data Cube - Water Analysis Notebook\n",
    "*****\n",
    "**Description:** This Python notebook allows users to directly interact with a CEOS-formatted data cube to perform analyses for water management. The following steps will allow users to connect to a data cube, define the analysis location and time period (extent of latitude/longitude and dates), and then run the Australian Water Observations from Space (WOFS) algorithm. The outputs of the WOFS algorithm include static and time series pixel-level water observations for any pixel. These results provide critical information for water management that will allow users to assess water cycle dynamics, historical water extent and the risk of floods and droughts. Future versions may consider the addition of water quality parameters (e.g. Total Suspended Matter, Chlorophyll-A, CDOM), coastal erosion analyses and in-situ precipitation and surface temperature data.\n",
    "*****"
   ]
  },
  {
   "cell_type": "markdown",
   "metadata": {},
   "source": [
    "**Import necessary Data Cube libraries and dependencies.**"
   ]
  },
  {
   "cell_type": "code",
   "execution_count": 1,
   "metadata": {
    "collapsed": false,
    "scrolled": true
   },
   "outputs": [],
   "source": [
    "%matplotlib inline\n",
    "\n",
    "from datetime import datetime\n",
    "import numpy as np\n",
    "\n",
    "import datacube\n",
    "from dc_water_classifier import wofs_classify\n",
    "from dc_utilities import perform_timeseries_analysis\n",
    "import dc_au_colormaps\n",
    "\n",
    "from dc_notebook_utilities import *"
   ]
  },
  {
   "cell_type": "markdown",
   "metadata": {},
   "source": [
    "**First, we must connect to our data cube.** We can then query the contents of the data cube we have connected to, including both the metadata and the actual data."
   ]
  },
  {
   "cell_type": "code",
   "execution_count": 2,
   "metadata": {
    "collapsed": true
   },
   "outputs": [],
   "source": [
    "dc = datacube.Datacube(app='dc-water-analysis')\n",
    "api = datacube.api.API(datacube=dc)"
   ]
  },
  {
   "cell_type": "markdown",
   "metadata": {},
   "source": [
    "**Obtain the metadata of our cube...** Initially, we need to get the platforms and products in the cube. The rest of the metadata will be dependent on these two options."
   ]
  },
  {
   "cell_type": "code",
   "execution_count": 3,
   "metadata": {
    "collapsed": true
   },
   "outputs": [],
   "source": [
    "# Get available products\n",
    "products = dc.list_products()\n",
    "platform_names = list(set(products.platform))\n",
    "product_names = list(products.name)"
   ]
  },
  {
   "cell_type": "markdown",
   "metadata": {},
   "source": [
    "**Execute the following code and then use the generated form to choose your desired platfrom and product.**"
   ]
  },
  {
   "cell_type": "code",
   "execution_count": 4,
   "metadata": {
    "collapsed": false
   },
   "outputs": [],
   "source": [
    "product_values = create_platform_product_gui(platform_names, product_names)"
   ]
  },
  {
   "cell_type": "markdown",
   "metadata": {},
   "source": [
    "**With the platform and product, we can get the rest of the metadata.** This includes the resolution of a pixel, the latitude/longitude extents, and the minimum and maximum dates available of the chosen platform/product combination."
   ]
  },
  {
   "cell_type": "code",
   "execution_count": 5,
   "metadata": {
    "collapsed": false
   },
   "outputs": [
    {
     "data": {
      "text/html": [
       "<h2>Metadata Report: </h2>"
      ],
      "text/plain": [
       "<IPython.core.display.HTML object>"
      ]
     },
     "metadata": {},
     "output_type": "display_data"
    },
    {
     "data": {
      "text/html": [
       "<table><tr><th></th><th>Min</th><th>Max</th><th>Resolution</th></tr><tr><th>Date: </th><td>2000-2-4</td><td>2016-4-29</td><td></td></tr><tr><th>Longitude: </th><td>478335.0</td><td>1041915.0</td><td>30</td></tr><tr><th>Latitude: </th><td>-103005.0</td><td>744405.0</td><td>-30</td></tr></table>"
      ],
      "text/plain": [
       "<IPython.core.display.HTML object>"
      ]
     },
     "metadata": {},
     "output_type": "display_data"
    }
   ],
   "source": [
    "# Save the form values\n",
    "platform = product_values[0].value\n",
    "product = product_values[1].value\n",
    "\n",
    "# Get the pixel resolution of the selected product\n",
    "resolution = products.resolution[products.name == product]\n",
    "lat_dist = resolution.values[0][0]\n",
    "lon_dist = resolution.values[0][1]\n",
    "\n",
    "# Get the extents of the cube\n",
    "descriptor = api.get_descriptor({'platform': platform})[product]\n",
    "\n",
    "min_date = descriptor['result_min'][0]\n",
    "min_lat = descriptor['result_min'][1]\n",
    "min_lon = descriptor['result_min'][2]\n",
    "\n",
    "min_date_str = str(min_date.year) + '-' + str(min_date.month) + '-' + str(min_date.day)\n",
    "\n",
    "min_lat_rounded = round(min_lat, 3)\n",
    "min_lon_rounded =  round(min_lon, 3)\n",
    "\n",
    "max_date = descriptor['result_max'][0]\n",
    "max_lat = descriptor['result_max'][1] \n",
    "max_lon = descriptor['result_max'][2] \n",
    "\n",
    "max_date_str = str(max_date.year) + '-' + str(max_date.month) + '-' + str(max_date.day)\n",
    "\n",
    "max_lat_rounded = round(max_lat, 3) #calculates latitude of the pixel's center\n",
    "max_lon_rounded = round(max_lon, 3) #calculates longitude of the pixel's center\n",
    "\n",
    "# Display metadata\n",
    "generate_metadata_report(min_date_str, max_date_str, \n",
    "                         min_lon_rounded, max_lon_rounded, lon_dist,\n",
    "                         min_lat_rounded, max_lat_rounded, lat_dist)\n",
    "\n",
    "#show_map_extents(min_lon_rounded, max_lon_rounded, min_lat_rounded, max_lat_rounded)"
   ]
  },
  {
   "cell_type": "code",
   "execution_count": null,
   "metadata": {
    "collapsed": false
   },
   "outputs": [],
   "source": [
    "descriptor"
   ]
  },
  {
   "cell_type": "markdown",
   "metadata": {},
   "source": [
    "**Execute the following code and then use the generated form to choose the extents of your desired data.**"
   ]
  },
  {
   "cell_type": "code",
   "execution_count": 6,
   "metadata": {
    "collapsed": true
   },
   "outputs": [],
   "source": [
    " extent_values = create_extents_gui(min_date_str, max_date_str,\n",
    "                                   -80, -65,\n",
    "                                   -5, 15) #In order to work with utm in Colombia is necessary to fix geographic lat longg"
   ]
  },
  {
   "cell_type": "markdown",
   "metadata": {},
   "source": [
    "**Now that we have filled out the above two forms, we have enough information to query our data cube.** The following code snippet ends with the actual Data Cube query, which will return the dataset with all the data matching our query."
   ]
  },
  {
   "cell_type": "code",
   "execution_count": 7,
   "metadata": {
    "collapsed": false
   },
   "outputs": [],
   "source": [
    "# Save form values\n",
    "start_date = datetime.strptime(extent_values[0].value, '%Y-%m-%d')\n",
    "end_date = datetime.strptime(extent_values[1].value, '%Y-%m-%d')\n",
    "min_lon = extent_values[2].value\n",
    "max_lon = extent_values[3].value\n",
    "min_lat = extent_values[4].value\n",
    "max_lat = extent_values[5].value\n",
    "\n",
    "# Query the Data Cube\n",
    "dataset_in = dc.load(platform=platform,\n",
    "                     product=product,\n",
    "                     time=(start_date, end_date),\n",
    "                     lat=(min_lat,max_lat), #working values: lat: -75,-74 long:6,7\n",
    "                     lon=(min_lon, max_lon))"
   ]
  },
  {
   "cell_type": "code",
   "execution_count": null,
   "metadata": {
    "collapsed": false
   },
   "outputs": [],
   "source": [
    "dataset_in"
   ]
  },
  {
   "cell_type": "markdown",
   "metadata": {},
   "source": [
    "**At this point, we have finished accessing our data cube and we can turn to analyzing our data.** In this example, we will run the WOfS algorithm. The wofs_classify function, seen below, will return a modified dataset, where a value of 1 indicates the pixel has been classified as water by the WoFS algorithm and 0 represents the pixel is non-water.\n",
    "\n",
    "*****\n",
    "\n",
    "For more information on the WOfS algorithm, refer to:\n",
    "\n",
    "Mueller, et al. (2015) \"Water observations from space: Mapping surface water from 25 years of Landsat imagery across Australia.\" *Remote Sensing of Environment*."
   ]
  },
  {
   "cell_type": "code",
   "execution_count": 8,
   "metadata": {
    "collapsed": false
   },
   "outputs": [
    {
     "name": "stderr",
     "output_type": "stream",
     "text": [
      "/home/developer/anaconda2/lib/python2.7/site-packages/numpy/core/numeric.py:301: FutureWarning: in the future, full((7, 3698, 3699), -9999) will return an array of dtype('int64')\n",
      "  format(shape, fill_value, array(fill_value).dtype), FutureWarning)\n"
     ]
    }
   ],
   "source": [
    "water_class = wofs_classify(dataset_in)"
   ]
  },
  {
   "cell_type": "markdown",
   "metadata": {},
   "source": [
    "**Execute the following code and then use the generated form to choose your desired acquisition date.** The following two code blocks are only necessary if you would like to see the water mask of a single acquisition date. "
   ]
  },
  {
   "cell_type": "code",
   "execution_count": 9,
   "metadata": {
    "collapsed": false
   },
   "outputs": [],
   "source": [
    "acq_dates = list(water_class.time.values.astype(str))\n",
    "acq_date_input = create_acq_date_gui(acq_dates)"
   ]
  },
  {
   "cell_type": "code",
   "execution_count": 10,
   "metadata": {
    "collapsed": false
   },
   "outputs": [
    {
     "data": {
      "image/png": "[encoded data removed]",
      "text/plain": [
       "<matplotlib.figure.Figure at 0x7f5deeb0e750>"
      ]
     },
     "metadata": {},
     "output_type": "display_data"
    }
   ],
   "source": [
    "# Save form value\n",
    "acq_date = acq_date_input.value\n",
    "acq_date_index = acq_dates.index(acq_date)\n",
    "\n",
    "# Get water class for selected acquisition date and mask no data values\n",
    "water_class_for_acq_date = water_class.wofs[acq_date_index]\n",
    "water_class_for_acq_date.values = water_class_for_acq_date.values.astype('float')\n",
    "water_class_for_acq_date.values[water_class_for_acq_date.values == -9999] = np.nan\n",
    "\n",
    "water_observations_for_acq_date_plot = water_class_for_acq_date.plot(cmap='BuPu')"
   ]
  },
  {
   "cell_type": "markdown",
   "metadata": {},
   "source": [
    "**With all of the pixels classified as either water/non-water, let's perform a time series analysis over our derived water class.** The function, perform_timeseries_analysis, takes in a dataset of 3 dimensions (time, latitude, and longitude), then sums the values of each pixel over time. It also keeps track of the number of clear observations we have at each pixel. We can then normalize each pixel to determine areas at risk of flooding. The normalization calculation is simply:\n",
    "\n",
    "$$normalized\\_water\\_observations = \\dfrac{total\\_water\\_observations}{total\\_clear\\_observations}$$.\n",
    "\n",
    "The output each of the three calculations can be seen below."
   ]
  },
  {
   "cell_type": "code",
   "execution_count": 11,
   "metadata": {
    "collapsed": false
   },
   "outputs": [],
   "source": [
    "time_series = perform_timeseries_analysis(water_class)"
   ]
  },
  {
   "cell_type": "markdown",
   "metadata": {},
   "source": [
    "**The following plots visualize the results of our timeseries analysis.** You may change the color scales with the cmap option. For color scales available for use by cmap, see http://matplotlib.org/examples/color/colormaps_reference.html. You can also define discrete color scales by using the levels and colors. For example:\n",
    "\n",
    "* normalized_water_observations_plot = normalized_water_observations.plot(levels=3, colors=['#E5E5FF', '#4C4CFF', '#0000FF'])\n",
    "* normalized_water_observations_plot = normalized_water_observations.plot(levels=[0.00, 0.50, 1.01], colors=['#E5E5FF', '#0000FF'])\n",
    "\n",
    "For more examples on how you can modify plots, see http://xarray.pydata.org/en/stable/plotting.html."
   ]
  },
  {
   "cell_type": "code",
   "execution_count": 12,
   "metadata": {
    "collapsed": false
   },
   "outputs": [
    {
     "data": {
      "image/png": "[encoded data removed]",
      "text/plain": [
       "<matplotlib.figure.Figure at 0x7f5deeb56ad0>"
      ]
     },
     "metadata": {},
     "output_type": "display_data"
    }
   ],
   "source": [
    "normalized_water_observations_plot = time_series.normalized_data.plot(cmap='dc_au_WaterSummary')"
   ]
  },
  {
   "cell_type": "code",
   "execution_count": 13,
   "metadata": {
    "collapsed": false
   },
   "outputs": [
    {
     "data": {
      "image/png": "[encoded data removed]",
      "text/plain": [
       "<matplotlib.figure.Figure at 0x7f5deec37590>"
      ]
     },
     "metadata": {},
     "output_type": "display_data"
    }
   ],
   "source": [
    "total_water_observations_plot = time_series.total_data.plot(cmap='dc_au_WaterObservations')"
   ]
  },
  {
   "cell_type": "code",
   "execution_count": 14,
   "metadata": {
    "collapsed": false
   },
   "outputs": [
    {
     "data": {
      "image/png": "[encoded data removed]",
      "text/plain": [
       "<matplotlib.figure.Figure at 0x7f5deefcb290>"
      ]
     },
     "metadata": {},
     "output_type": "display_data"
    }
   ],
   "source": [
    "total_clear_observations_plot = time_series.total_clean.plot(cmap='dc_au_ClearObservations')"
   ]
  },
  {
   "cell_type": "code",
   "execution_count": null,
   "metadata": {
    "collapsed": true
   },
   "outputs": [],
   "source": []
  }
 ],
 "metadata": {
  "anaconda-cloud": {},
  "kernelspec": {
   "display_name": "Python [default]",
   "language": "python",
   "name": "python2"
  },
  "language_info": {
   "codemirror_mode": {
    "name": "ipython",
    "version": 2
   },
   "file_extension": ".py",
   "mimetype": "text/x-python",
   "name": "python",
   "nbconvert_exporter": "python",
   "pygments_lexer": "ipython2",
   "version": "2.7.11"
  },
  "widgets": {
   "state": {
    "00886d270ef246c08f05bdc95f1a9f75": {
     "views": [
      {
       "cell_index": 13
      }
     ]
    },
    "03a4852b04c84c048e6235d18976d7d9": {
     "views": [
      {
       "cell_index": 13
      }
     ]
    },
    "07bab0d3fbdd404bb92a783bc3966462": {
     "views": [
      {
       "cell_index": 13
      }
     ]
    },
    "098ba60a86654a4caacac07ef5c4967d": {
     "views": [
      {
       "cell_index": 13
      }
     ]
    },
    "0c2bb82a531b49f2a0f093597e5feab9": {
     "views": [
      {
       "cell_index": 20
      }
     ]
    },
    "0c9c607d3bac4b34a43aff0c8ff7822d": {
     "views": [
      {
       "cell_index": 13
      }
     ]
    },
    "0edd96664569462a875b59ffc2d50687": {
     "views": [
      {
       "cell_index": 13
      }
     ]
    },
    "10f41ab06a464095b65723bbfac66c28": {
     "views": [
      {
       "cell_index": 20
      }
     ]
    },
    "11af3a13e24848e59add110c663c7569": {
     "views": [
      {
       "cell_index": 13
      }
     ]
    },
    "138e9480887f44a8966cd63ff822940a": {
     "views": [
      {
       "cell_index": 13
      }
     ]
    },
    "17b53ebd70334b9796d0627a518b3b86": {
     "views": [
      {
       "cell_index": 20
      }
     ]
    },
    "1a25c1d8231947d18da8132b1d26a3f9": {
     "views": [
      {
       "cell_index": 13
      }
     ]
    },
    "234aa86486564715aca9231f4bb96259": {
     "views": [
      {
       "cell_index": 13
      }
     ]
    },
    "2b8585e79b424856a16df8697eadeb49": {
     "views": [
      {
       "cell_index": 20
      }
     ]
    },
    "2ec4bd93c0a346b1b260291412046ebf": {
     "views": [
      {
       "cell_index": 13
      }
     ]
    },
    "32ae457af3a840fc83c465c9efd16f63": {
     "views": [
      {
       "cell_index": 8
      }
     ]
    },
    "32de28a5a2a24a46877346523e2f71d3": {
     "views": [
      {
       "cell_index": 13
      }
     ]
    },
    "35099abff5504951957f5b9f6315ebea": {
     "views": [
      {
       "cell_index": 20
      }
     ]
    },
    "38305c9faf604ecfbd37a5e9541f3bea": {
     "views": [
      {
       "cell_index": 13
      }
     ]
    },
    "39c5f068489a48a682789d60e5b3aa0d": {
     "views": [
      {
       "cell_index": 13
      }
     ]
    },
    "45b71e1e00ad4f70877efc6b83fc0b10": {
     "views": [
      {
       "cell_index": 13
      }
     ]
    },
    "45bcda87f0244b5f9b790be9a1a3b1c6": {
     "views": [
      {
       "cell_index": 13
      }
     ]
    },
    "4a121bd0e302484a8016729babc595ed": {
     "views": [
      {
       "cell_index": 13
      }
     ]
    },
    "4aacf1990584438882b7d42ff40647c7": {
     "views": [
      {
       "cell_index": 13
      }
     ]
    },
    "4b70a8ca131d4d95ad10d5613c116125": {
     "views": [
      {
       "cell_index": 8
      }
     ]
    },
    "536be509ceb24832a3806e445ca35e93": {
     "views": [
      {
       "cell_index": 13
      }
     ]
    },
    "54fdfc92eba64dde8e8766a1b8101780": {
     "views": [
      {
       "cell_index": 13
      }
     ]
    },
    "5bc3450d3abc44bdb07753bb8ed55353": {
     "views": [
      {
       "cell_index": 8
      }
     ]
    },
    "5ed8231f41ff46038bc7503d96d4bb23": {
     "views": [
      {
       "cell_index": 13
      }
     ]
    },
    "5f7fb33717f949abae71d02071fc8db4": {
     "views": [
      {
       "cell_index": 8
      }
     ]
    },
    "61e927f384b446d280778765c63a206e": {
     "views": [
      {
       "cell_index": 13
      }
     ]
    },
    "68dc19fdb7b048ec830fc8fa217e4098": {
     "views": [
      {
       "cell_index": 13
      }
     ]
    },
    "6ca79ab857f94433af1e0879e234181a": {
     "views": [
      {
       "cell_index": 12
      }
     ]
    },
    "6e4143c02dbf46a6a8da3bd4e2fac4e1": {
     "views": [
      {
       "cell_index": 13
      }
     ]
    },
    "729441dd5d7f45ab9ea87dfa67dbf330": {
     "views": [
      {
       "cell_index": 20
      }
     ]
    },
    "734a6c43c1df44a29ef4ac9335a67fe4": {
     "views": [
      {
       "cell_index": 13
      }
     ]
    },
    "7502c417cd0a47ccb8089763b1d3d93b": {
     "views": [
      {
       "cell_index": 13
      }
     ]
    },
    "75a4df2e57ef4dc787c65a56af160610": {
     "views": [
      {
       "cell_index": 13
      }
     ]
    },
    "7d349000e2744415a322b64edb27443d": {
     "views": [
      {
       "cell_index": 8
      }
     ]
    },
    "7e7880d5ad8449aeb8632451547d3ee7": {
     "views": [
      {
       "cell_index": 20
      }
     ]
    },
    "7fdaec1fd7bf4750b41a87adb8e557a3": {
     "views": [
      {
       "cell_index": 13
      }
     ]
    },
    "85252dc2159b424eaa212c72636df827": {
     "views": [
      {
       "cell_index": 12
      }
     ]
    },
    "8777195fd44849e4a1582d0b16ed256c": {
     "views": [
      {
       "cell_index": 13
      }
     ]
    },
    "8bdafe21a3fe4fa5862d1fa5ef41d033": {
     "views": [
      {
       "cell_index": 13
      }
     ]
    },
    "8ced1da62a4948dfbd719ede49e33adb": {
     "views": [
      {
       "cell_index": 13
      }
     ]
    },
    "90bc673e14b045f794dc5f0b1de39620": {
     "views": [
      {
       "cell_index": 20
      }
     ]
    },
    "a11346838c1c4bea81efa707ad13766a": {
     "views": [
      {
       "cell_index": 13
      }
     ]
    },
    "a3eb7977b20546ea915d4b17c30a346c": {
     "views": [
      {
       "cell_index": 20
      }
     ]
    },
    "a501a384a08d4f87ad75b56a0d44dffa": {
     "views": [
      {
       "cell_index": 13
      }
     ]
    },
    "a73fb795c1b14977913b06eee1221271": {
     "views": [
      {
       "cell_index": 8
      }
     ]
    },
    "aa3c945d1151422b845dd2d796cf225f": {
     "views": [
      {
       "cell_index": 13
      }
     ]
    },
    "ad175791cafc435b92701a613aba01c5": {
     "views": [
      {
       "cell_index": 13
      }
     ]
    },
    "b394e7bf3fd44b5696706aa7911852a5": {
     "views": [
      {
       "cell_index": 13
      }
     ]
    },
    "b497960502d84bdab4d086f64b3c4188": {
     "views": [
      {
       "cell_index": 8
      }
     ]
    },
    "b69ffa967a9d4d50b95acf3badde9816": {
     "views": [
      {
       "cell_index": 13
      }
     ]
    },
    "baa51a19bb144e8e9b0a26ea79793a37": {
     "views": [
      {
       "cell_index": 12
      }
     ]
    },
    "c59e8f5945b64f75a4c46953ec0c757e": {
     "views": [
      {
       "cell_index": 13
      }
     ]
    },
    "c768b98ed6ac482b8f1069ef99286b52": {
     "views": [
      {
       "cell_index": 13
      }
     ]
    },
    "ca4b219b9d634ab99278580493909f97": {
     "views": [
      {
       "cell_index": 12
      }
     ]
    },
    "ce2b0eafcb6445a19516cb0dafc78067": {
     "views": [
      {
       "cell_index": 8
      }
     ]
    },
    "d0306a5a3373404cb5eb2a8f739c8265": {
     "views": [
      {
       "cell_index": 8
      }
     ]
    },
    "d19ce8281a904a84a73c76313519de61": {
     "views": [
      {
       "cell_index": 13
      }
     ]
    },
    "d69067ec045b405f86163f574e3eee84": {
     "views": [
      {
       "cell_index": 13
      }
     ]
    },
    "d6c6b95208424373aad32dfee0e84462": {
     "views": [
      {
       "cell_index": 13
      }
     ]
    },
    "d806e2a7dd854ed4b845926e6d63442d": {
     "views": [
      {
       "cell_index": 13
      }
     ]
    },
    "d9ca4f2c89484431954dc00cdf58120a": {
     "views": [
      {
       "cell_index": 13
      }
     ]
    },
    "daa8399dd1194c54a14ff438d9001828": {
     "views": [
      {
       "cell_index": 13
      }
     ]
    },
    "dc885f9ddd8045a69c48eb1fae4014fc": {
     "views": [
      {
       "cell_index": 12
      }
     ]
    },
    "dc8d843833b94cbcbe713e46e0f4599d": {
     "views": [
      {
       "cell_index": 13
      }
     ]
    },
    "dd77823b93fb4023a3508c76494563e5": {
     "views": [
      {
       "cell_index": 13
      }
     ]
    },
    "de1457e95f7a4ecfa8b3278851689120": {
     "views": [
      {
       "cell_index": 13
      }
     ]
    },
    "def690d2670c4a088e195a11cd04339b": {
     "views": [
      {
       "cell_index": 8
      }
     ]
    },
    "e22630d1c96b452a98aa08c00fb0fb41": {
     "views": [
      {
       "cell_index": 13
      }
     ]
    },
    "e3d4c55f318d4149b4ca72ec761b5fdf": {
     "views": [
      {
       "cell_index": 8
      }
     ]
    },
    "e7adcc5b6ff84ffc972bbded038f15e0": {
     "views": [
      {
       "cell_index": 13
      }
     ]
    },
    "e8381f85e1c44520969377cb61503b8b": {
     "views": [
      {
       "cell_index": 8
      }
     ]
    },
    "e9eeb52675ea4e4c97ffa3549b5f48a0": {
     "views": [
      {
       "cell_index": 8
      }
     ]
    },
    "eddf6050118148159e7f426fdd9a0916": {
     "views": [
      {
       "cell_index": 12
      }
     ]
    },
    "ef95af4bbda1423fb9e30fe87ea9aced": {
     "views": [
      {
       "cell_index": 13
      }
     ]
    },
    "f163072460ca45eda39dbae6a5d08a59": {
     "views": [
      {
       "cell_index": 13
      }
     ]
    },
    "f57e28b84b4e418bb3a030fb891fe4a0": {
     "views": [
      {
       "cell_index": 13
      }
     ]
    },
    "fffd806ceafd4776a52e37c981e60736": {
     "views": [
      {
       "cell_index": 13
      }
     ]
    }
   },
   "version": "1.2.0"
  }
 },
 "nbformat": 4,
 "nbformat_minor": 0
}
