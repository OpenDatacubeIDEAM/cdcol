{
 "cells": [
  {
   "cell_type": "markdown",
   "metadata": {},
   "source": [
    "# CEOS Data Cube - Water Analysis Notebook\n",
    "*****\n",
    "**Description:** This Python notebook allows users to directly interact with a CEOS-formatted data cube to perform analyses for water management. The following steps will allow users to connect to a data cube, define the analysis location and time period (extent of latitude/longitude and dates), and then run the Australian Water Observations from Space (WOFS) algorithm. The outputs of the WOFS algorithm include static and time series pixel-level water observations for any pixel. These results provide critical information for water management that will allow users to assess water cycle dynamics, historical water extent and the risk of floods and droughts. Future versions may consider the addition of water quality parameters (e.g. Total Suspended Matter, Chlorophyll-A, CDOM), coastal erosion analyses and in-situ precipitation and surface temperature data.\n",
    "*****"
   ]
  },
  {
   "cell_type": "markdown",
   "metadata": {},
   "source": [
    "**Import necessary Data Cube libraries and dependencies.**"
   ]
  },
  {
   "cell_type": "code",
   "execution_count": 1,
   "metadata": {
    "collapsed": false,
    "scrolled": true
   },
   "outputs": [],
   "source": [
    "%matplotlib inline\n",
    "\n",
    "from datetime import datetime\n",
    "import numpy as np\n",
    "\n",
    "import datacube\n",
    "from dc_water_classifier import wofs_classify\n",
    "from dc_utilities import perform_timeseries_analysis\n",
    "import dc_au_colormaps\n",
    "\n",
    "from dc_notebook_utilities import *"
   ]
  },
  {
   "cell_type": "markdown",
   "metadata": {},
   "source": [
    "**First, we must connect to our data cube.** We can then query the contents of the data cube we have connected to, including both the metadata and the actual data."
   ]
  },
  {
   "cell_type": "code",
   "execution_count": 2,
   "metadata": {
    "collapsed": true
   },
   "outputs": [],
   "source": [
    "dc = datacube.Datacube(app='dc-water-analysis')\n",
    "api = datacube.api.API(datacube=dc)"
   ]
  },
  {
   "cell_type": "markdown",
   "metadata": {},
   "source": [
    "**Obtain the metadata of our cube...** Initially, we need to get the platforms and products in the cube. The rest of the metadata will be dependent on these two options."
   ]
  },
  {
   "cell_type": "code",
   "execution_count": 3,
   "metadata": {
    "collapsed": true
   },
   "outputs": [],
   "source": [
    "# Get available products\n",
    "products = dc.list_products()\n",
    "platform_names = list(set(products.platform))\n",
    "product_names = list(products.name)"
   ]
  },
  {
   "cell_type": "markdown",
   "metadata": {},
   "source": [
    "**Execute the following code and then use the generated form to choose your desired platfrom and product.**"
   ]
  },
  {
   "cell_type": "code",
   "execution_count": 33,
   "metadata": {
    "collapsed": false
   },
   "outputs": [],
   "source": [
    "product_values = create_platform_product_gui(platform_names, product_names)"
   ]
  },
  {
   "cell_type": "markdown",
   "metadata": {},
   "source": [
    "**With the platform and product, we can get the rest of the metadata.** This includes the resolution of a pixel, the latitude/longitude extents, and the minimum and maximum dates available of the chosen platform/product combination."
   ]
  },
  {
   "cell_type": "code",
   "execution_count": 35,
   "metadata": {
    "collapsed": false
   },
   "outputs": [
    {
     "data": {
      "text/html": [
       "<h2>Metadata Report: </h2>"
      ],
      "text/plain": [
       "<IPython.core.display.HTML object>"
      ]
     },
     "metadata": {},
     "output_type": "display_data"
    },
    {
     "data": {
      "text/html": [
       "<table><tr><th></th><th>Min</th><th>Max</th><th>Resolution</th></tr><tr><th>Date: </th><td>2000-2-4</td><td>2016-4-29</td><td></td></tr><tr><th>Longitude: </th><td>478335.0</td><td>1041915.0</td><td>30</td></tr><tr><th>Latitude: </th><td>-103005.0</td><td>744405.0</td><td>-30</td></tr></table>"
      ],
      "text/plain": [
       "<IPython.core.display.HTML object>"
      ]
     },
     "metadata": {},
     "output_type": "display_data"
    }
   ],
   "source": [
    "# Save the form values\n",
    "platform = product_values[0].value\n",
    "product = product_values[1].value\n",
    "\n",
    "# Get the pixel resolution of the selected product\n",
    "resolution = products.resolution[products.name == product]\n",
    "lat_dist = resolution.values[0][0]\n",
    "lon_dist = resolution.values[0][1]\n",
    "\n",
    "# Get the extents of the cube\n",
    "descriptor = api.get_descriptor({'platform': platform})[product]\n",
    "\n",
    "min_date = descriptor['result_min'][0]\n",
    "min_lat = descriptor['result_min'][1]\n",
    "min_lon = descriptor['result_min'][2]\n",
    "\n",
    "min_date_str = str(min_date.year) + '-' + str(min_date.month) + '-' + str(min_date.day)\n",
    "\n",
    "min_lat_rounded = round(min_lat, 3)\n",
    "min_lon_rounded =  round(min_lon, 3)\n",
    "\n",
    "max_date = descriptor['result_max'][0]\n",
    "max_lat = descriptor['result_max'][1] \n",
    "max_lon = descriptor['result_max'][2] \n",
    "\n",
    "max_date_str = str(max_date.year) + '-' + str(max_date.month) + '-' + str(max_date.day)\n",
    "\n",
    "max_lat_rounded = round(max_lat, 3) #calculates latitude of the pixel's center\n",
    "max_lon_rounded = round(max_lon, 3) #calculates longitude of the pixel's center\n",
    "\n",
    "# Display metadata\n",
    "generate_metadata_report(min_date_str, max_date_str, \n",
    "                         min_lon_rounded, max_lon_rounded, lon_dist,\n",
    "                         min_lat_rounded, max_lat_rounded, lat_dist)\n",
    "\n",
    "#show_map_extents(min_lon_rounded, max_lon_rounded, min_lat_rounded, max_lat_rounded)"
   ]
  },
  {
   "cell_type": "code",
   "execution_count": 36,
   "metadata": {
    "collapsed": false
   },
   "outputs": [
    {
     "data": {
      "text/plain": [
       "{'dimensions': ['time', 'y', 'x'],\n",
       " 'groups': (DatasetType(name=u'ls7_ledaps_utm18n4', id_=31),\n",
       "  [Group(key=datetime.datetime(2000, 2, 4, 15, 5, 7), datasets=[Dataset <id=7df4c098-7417-4d75-ab18-cd240f69da04 type=ls7_ledaps_utm18n4 location=/dc_storage/LS7_ETM_LEDAPS/LS7_ETM_LEDAPS4_32618_6_5_20000204150507000000.nc>, Dataset <id=3cc4750f-e5b5-4697-8680-7a6db9d5f73b type=ls7_ledaps_utm18n4 location=/dc_storage/LS7_ETM_LEDAPS/LS7_ETM_LEDAPS4_32618_5_4_20000204150507000000.nc>, Dataset <id=4c36fbdf-896f-4f7b-a893-6016ba673bcf type=ls7_ledaps_utm18n4 location=/dc_storage/LS7_ETM_LEDAPS/LS7_ETM_LEDAPS4_32618_6_4_20000204150507000000.nc>, Dataset <id=e60dc14c-ff9c-4538-b95f-edc2260e164e type=ls7_ledaps_utm18n4 location=/dc_storage/LS7_ETM_LEDAPS/LS7_ETM_LEDAPS4_32618_4_6_20000204150507000000.nc>, Dataset <id=21106226-a11c-49ef-9403-c4cf9997677c type=ls7_ledaps_utm18n4 location=/dc_storage/LS7_ETM_LEDAPS/LS7_ETM_LEDAPS4_32618_6_6_20000204150507000000.nc>, Dataset <id=bcb33503-d2e4-49b6-8f94-07cf037108d2 type=ls7_ledaps_utm18n4 location=/dc_storage/LS7_ETM_LEDAPS/LS7_ETM_LEDAPS4_32618_4_5_20000204150507000000.nc>, Dataset <id=3ff515b8-f222-4957-9d12-d81ae5eb8090 type=ls7_ledaps_utm18n4 location=/dc_storage/LS7_ETM_LEDAPS/LS7_ETM_LEDAPS4_32618_5_6_20000204150507000000.nc>, Dataset <id=521db80a-26f0-4ef8-ade9-73d512c3680f type=ls7_ledaps_utm18n4 location=/dc_storage/LS7_ETM_LEDAPS/LS7_ETM_LEDAPS4_32618_5_5_20000204150507000000.nc>, Dataset <id=d8fb2224-baa7-4059-8aab-31a9b4f0a582 type=ls7_ledaps_utm18n4 location=/dc_storage/LS7_ETM_LEDAPS/LS7_ETM_LEDAPS4_32618_4_4_20000204150507000000.nc>]),\n",
       "   Group(key=datetime.datetime(2000, 4, 8, 15, 4, 44), datasets=[Dataset <id=2f7b286b-3f1d-478e-9425-1f688929c258 type=ls7_ledaps_utm18n4 location=/dc_storage/LS7_ETM_LEDAPS/LS7_ETM_LEDAPS4_32618_5_4_20000408150444000000.nc>, Dataset <id=4101980d-83dd-41e5-8ae8-3a02bf15fb42 type=ls7_ledaps_utm18n4 location=/dc_storage/LS7_ETM_LEDAPS/LS7_ETM_LEDAPS4_32618_6_6_20000408150444000000.nc>, Dataset <id=c376d0fd-c0ed-4dfd-9370-52507ec4bc41 type=ls7_ledaps_utm18n4 location=/dc_storage/LS7_ETM_LEDAPS/LS7_ETM_LEDAPS4_32618_6_4_20000408150444000000.nc>, Dataset <id=66148760-e99f-42d5-8970-e0baf6d7d845 type=ls7_ledaps_utm18n4 location=/dc_storage/LS7_ETM_LEDAPS/LS7_ETM_LEDAPS4_32618_5_5_20000408150444000000.nc>, Dataset <id=0284e07b-b51e-48a4-a2d6-a8f1dc68e965 type=ls7_ledaps_utm18n4 location=/dc_storage/LS7_ETM_LEDAPS/LS7_ETM_LEDAPS4_32618_5_6_20000408150444000000.nc>, Dataset <id=cf89d769-06e4-483c-8ee2-a74b9c414471 type=ls7_ledaps_utm18n4 location=/dc_storage/LS7_ETM_LEDAPS/LS7_ETM_LEDAPS4_32618_4_4_20000408150444000000.nc>, Dataset <id=72101a4b-dd9d-45c5-8e96-258baf8a6139 type=ls7_ledaps_utm18n4 location=/dc_storage/LS7_ETM_LEDAPS/LS7_ETM_LEDAPS4_32618_4_6_20000408150444000000.nc>, Dataset <id=861b656b-9274-41ec-8487-737339c239e5 type=ls7_ledaps_utm18n4 location=/dc_storage/LS7_ETM_LEDAPS/LS7_ETM_LEDAPS4_32618_6_5_20000408150444000000.nc>]),\n",
       "   Group(key=datetime.datetime(2000, 7, 29, 15, 3, 32), datasets=[Dataset <id=1c1841f5-cd0e-4ed0-b7f1-4bd78d11b9c3 type=ls7_ledaps_utm18n4 location=/dc_storage/LS7_ETM_LEDAPS/LS7_ETM_LEDAPS4_32618_4_4_20000729150332000000.nc>, Dataset <id=210e32a6-65d2-44b5-b2d0-7bfe7e42f0a7 type=ls7_ledaps_utm18n4 location=/dc_storage/LS7_ETM_LEDAPS/LS7_ETM_LEDAPS4_32618_4_5_20000729150332000000.nc>, Dataset <id=ca72d0e7-6b17-4441-8df1-650c61303621 type=ls7_ledaps_utm18n4 location=/dc_storage/LS7_ETM_LEDAPS/LS7_ETM_LEDAPS4_32618_6_4_20000729150332000000.nc>, Dataset <id=e7b71985-2769-459a-b0bc-e690e4d6f0c3 type=ls7_ledaps_utm18n4 location=/dc_storage/LS7_ETM_LEDAPS/LS7_ETM_LEDAPS4_32618_4_6_20000729150332000000.nc>, Dataset <id=c01a43e4-fbf2-4158-9067-03fa19c6ade0 type=ls7_ledaps_utm18n4 location=/dc_storage/LS7_ETM_LEDAPS/LS7_ETM_LEDAPS4_32618_5_5_20000729150332000000.nc>, Dataset <id=c2f37cbd-05c7-4661-a5e4-762f2b1cbe4e type=ls7_ledaps_utm18n4 location=/dc_storage/LS7_ETM_LEDAPS/LS7_ETM_LEDAPS4_32618_6_5_20000729150332000000.nc>, Dataset <id=07fc611f-0d5e-461f-9d59-2e2ec8aa6680 type=ls7_ledaps_utm18n4 location=/dc_storage/LS7_ETM_LEDAPS/LS7_ETM_LEDAPS4_32618_6_6_20000729150332000000.nc>, Dataset <id=bdb32726-f772-4e3d-b715-0a0b50d780d7 type=ls7_ledaps_utm18n4 location=/dc_storage/LS7_ETM_LEDAPS/LS7_ETM_LEDAPS4_32618_5_4_20000729150332000000.nc>, Dataset <id=efbc7b09-6956-4251-abcc-616c050a27ef type=ls7_ledaps_utm18n4 location=/dc_storage/LS7_ETM_LEDAPS/LS7_ETM_LEDAPS4_32618_5_6_20000729150332000000.nc>]),\n",
       "   Group(key=datetime.datetime(2000, 8, 14, 15, 3, 25), datasets=[Dataset <id=18841418-c55a-4d2d-aa36-10ed2b4cf516 type=ls7_ledaps_utm18n4 location=/dc_storage/LS7_ETM_LEDAPS/LS7_ETM_LEDAPS4_32618_6_4_20000814150325000000.nc>, Dataset <id=bbac5438-8a6c-4a65-b150-aa95665f5e1a type=ls7_ledaps_utm18n4 location=/dc_storage/LS7_ETM_LEDAPS/LS7_ETM_LEDAPS4_32618_5_6_20000814150325000000.nc>, Dataset <id=f0754365-b415-4ff8-9bd5-78abfd6e58d9 type=ls7_ledaps_utm18n4 location=/dc_storage/LS7_ETM_LEDAPS/LS7_ETM_LEDAPS4_32618_6_6_20000814150325000000.nc>, Dataset <id=76a53324-bc32-4958-a1be-d2f8232146b8 type=ls7_ledaps_utm18n4 location=/dc_storage/LS7_ETM_LEDAPS/LS7_ETM_LEDAPS4_32618_5_5_20000814150325000000.nc>, Dataset <id=0f96ee9e-075b-4b58-ac2e-4067b623a408 type=ls7_ledaps_utm18n4 location=/dc_storage/LS7_ETM_LEDAPS/LS7_ETM_LEDAPS4_32618_4_5_20000814150325000000.nc>, Dataset <id=53f25a39-303b-47fa-8114-04fde31e595f type=ls7_ledaps_utm18n4 location=/dc_storage/LS7_ETM_LEDAPS/LS7_ETM_LEDAPS4_32618_5_4_20000814150325000000.nc>, Dataset <id=dd56d78b-424d-4609-92fb-3072f51a6ae0 type=ls7_ledaps_utm18n4 location=/dc_storage/LS7_ETM_LEDAPS/LS7_ETM_LEDAPS4_32618_4_6_20000814150325000000.nc>, Dataset <id=374b0e33-2b7b-4a39-b935-88a219828ecd type=ls7_ledaps_utm18n4 location=/dc_storage/LS7_ETM_LEDAPS/LS7_ETM_LEDAPS4_32618_6_5_20000814150325000000.nc>]),\n",
       "   Group(key=datetime.datetime(2000, 9, 15, 15, 2, 55), datasets=[Dataset <id=4e57e03c-b118-4e86-818c-1dc0978aefd1 type=ls7_ledaps_utm18n4 location=/dc_storage/LS7_ETM_LEDAPS/LS7_ETM_LEDAPS4_32618_5_6_20000915150255000000.nc>, Dataset <id=08504550-2c6f-4359-8db5-f156003c74a9 type=ls7_ledaps_utm18n4 location=/dc_storage/LS7_ETM_LEDAPS/LS7_ETM_LEDAPS4_32618_6_5_20000915150255000000.nc>, Dataset <id=77ddad18-34bf-46ad-bb24-135f32b18f92 type=ls7_ledaps_utm18n4 location=/dc_storage/LS7_ETM_LEDAPS/LS7_ETM_LEDAPS4_32618_5_4_20000915150255000000.nc>, Dataset <id=05ec7a9f-59ce-40c1-afaf-932b65002961 type=ls7_ledaps_utm18n4 location=/dc_storage/LS7_ETM_LEDAPS/LS7_ETM_LEDAPS4_32618_4_6_20000915150255000000.nc>, Dataset <id=fad82f07-e8e3-4b17-91bd-08156e71bc5f type=ls7_ledaps_utm18n4 location=/dc_storage/LS7_ETM_LEDAPS/LS7_ETM_LEDAPS4_32618_6_6_20000915150255000000.nc>, Dataset <id=7cff2841-5053-4623-843a-7098f0d6842e type=ls7_ledaps_utm18n4 location=/dc_storage/LS7_ETM_LEDAPS/LS7_ETM_LEDAPS4_32618_6_4_20000915150255000000.nc>, Dataset <id=e27c7048-8301-475d-8c2d-9e4121db0a89 type=ls7_ledaps_utm18n4 location=/dc_storage/LS7_ETM_LEDAPS/LS7_ETM_LEDAPS4_32618_4_4_20000915150255000000.nc>, Dataset <id=2683282e-2c3b-4765-aa81-8823582a9224 type=ls7_ledaps_utm18n4 location=/dc_storage/LS7_ETM_LEDAPS/LS7_ETM_LEDAPS4_32618_4_5_20000915150255000000.nc>, Dataset <id=822f8327-0935-4db2-b3b1-9a76a82e6b1c type=ls7_ledaps_utm18n4 location=/dc_storage/LS7_ETM_LEDAPS/LS7_ETM_LEDAPS4_32618_5_5_20000915150255000000.nc>]),\n",
       "   Group(key=datetime.datetime(2000, 10, 17, 15, 2, 30), datasets=[Dataset <id=3a4963c4-1c7e-4c97-af38-e8bd2a09f423 type=ls7_ledaps_utm18n4 location=/dc_storage/LS7_ETM_LEDAPS/LS7_ETM_LEDAPS4_32618_6_6_20001017150230000000.nc>, Dataset <id=d57db2f6-b26f-4021-ae14-69f7743cc522 type=ls7_ledaps_utm18n4 location=/dc_storage/LS7_ETM_LEDAPS/LS7_ETM_LEDAPS4_32618_4_6_20001017150230000000.nc>, Dataset <id=74657107-0a0b-4bb9-928f-214df9238a20 type=ls7_ledaps_utm18n4 location=/dc_storage/LS7_ETM_LEDAPS/LS7_ETM_LEDAPS4_32618_5_5_20001017150230000000.nc>, Dataset <id=18dfcd91-28ef-4bbe-a255-c50a036b70d2 type=ls7_ledaps_utm18n4 location=/dc_storage/LS7_ETM_LEDAPS/LS7_ETM_LEDAPS4_32618_6_5_20001017150230000000.nc>, Dataset <id=b0097aa4-2d0a-46d1-ace7-ea7c8816f755 type=ls7_ledaps_utm18n4 location=/dc_storage/LS7_ETM_LEDAPS/LS7_ETM_LEDAPS4_32618_6_4_20001017150230000000.nc>, Dataset <id=6a07be95-35fd-4b70-98a3-3f05c5590d5f type=ls7_ledaps_utm18n4 location=/dc_storage/LS7_ETM_LEDAPS/LS7_ETM_LEDAPS4_32618_5_4_20001017150230000000.nc>, Dataset <id=13056acc-5bd5-4a98-8bc8-48e3e4ecd754 type=ls7_ledaps_utm18n4 location=/dc_storage/LS7_ETM_LEDAPS/LS7_ETM_LEDAPS4_32618_4_5_20001017150230000000.nc>, Dataset <id=7ba234c1-bf4d-471d-a62f-0591c562c4d0 type=ls7_ledaps_utm18n4 location=/dc_storage/LS7_ETM_LEDAPS/LS7_ETM_LEDAPS4_32618_5_6_20001017150230000000.nc>, Dataset <id=f6669cdd-f968-4fe8-b8c9-28165c353407 type=ls7_ledaps_utm18n4 location=/dc_storage/LS7_ETM_LEDAPS/LS7_ETM_LEDAPS4_32618_4_4_20001017150230000000.nc>]),\n",
       "   Group(key=datetime.datetime(2000, 11, 18, 15, 2, 40), datasets=[Dataset <id=39fc7d0d-23d1-4cf7-837b-7fc377557725 type=ls7_ledaps_utm18n4 location=/dc_storage/LS7_ETM_LEDAPS/LS7_ETM_LEDAPS4_32618_5_6_20001118150240000000.nc>, Dataset <id=c407b5b9-fb17-449f-b2f3-049c6e4a0003 type=ls7_ledaps_utm18n4 location=/dc_storage/LS7_ETM_LEDAPS/LS7_ETM_LEDAPS4_32618_6_4_20001118150240000000.nc>, Dataset <id=bb63fef0-6a34-481b-8ff7-1fcf39889a98 type=ls7_ledaps_utm18n4 location=/dc_storage/LS7_ETM_LEDAPS/LS7_ETM_LEDAPS4_32618_5_5_20001118150240000000.nc>, Dataset <id=1a4228c5-4790-47ff-9f15-45c22a43532d type=ls7_ledaps_utm18n4 location=/dc_storage/LS7_ETM_LEDAPS/LS7_ETM_LEDAPS4_32618_5_4_20001118150240000000.nc>, Dataset <id=17ccf593-4910-4b0c-83b1-c16f958049d3 type=ls7_ledaps_utm18n4 location=/dc_storage/LS7_ETM_LEDAPS/LS7_ETM_LEDAPS4_32618_4_6_20001118150240000000.nc>, Dataset <id=909eb8f3-1764-4d52-bdd7-34a0054c9a33 type=ls7_ledaps_utm18n4 location=/dc_storage/LS7_ETM_LEDAPS/LS7_ETM_LEDAPS4_32618_6_5_20001118150240000000.nc>, Dataset <id=2e283027-e40e-4dc8-96af-412ba5640e3c type=ls7_ledaps_utm18n4 location=/dc_storage/LS7_ETM_LEDAPS/LS7_ETM_LEDAPS4_32618_6_6_20001118150240000000.nc>, Dataset <id=897e759c-e411-4602-b346-62f5d59b5efd type=ls7_ledaps_utm18n4 location=/dc_storage/LS7_ETM_LEDAPS/LS7_ETM_LEDAPS4_32618_4_5_20001118150240000000.nc>, Dataset <id=8cae419d-eb32-4d68-8ede-8cf9b00b9509 type=ls7_ledaps_utm18n4 location=/dc_storage/LS7_ETM_LEDAPS/LS7_ETM_LEDAPS4_32618_4_4_20001118150240000000.nc>]),\n",
       "   Group(key=datetime.datetime(2002, 1, 17, 14, 54, 58), datasets=[Dataset <id=7bdab17f-bd53-4b5d-9404-805cdbd6b944 type=ls7_ledaps_utm18n4 location=/dc_storage/LS7_ETM_LEDAPS/LS7_ETM_LEDAPS4_32618_7_4_20020117145458000000.nc>, Dataset <id=60e7fa8e-67b7-4c11-8fb2-e4e27a8fd7c2 type=ls7_ledaps_utm18n4 location=/dc_storage/LS7_ETM_LEDAPS/LS7_ETM_LEDAPS4_32618_6_6_20020117145458000000.nc>, Dataset <id=960acd84-9f76-4155-812e-3a43404227f3 type=ls7_ledaps_utm18n4 location=/dc_storage/LS7_ETM_LEDAPS/LS7_ETM_LEDAPS4_32618_7_5_20020117145458000000.nc>, Dataset <id=0dcde9f9-fcd6-45e5-a33a-606b3cda3a8a type=ls7_ledaps_utm18n4 location=/dc_storage/LS7_ETM_LEDAPS/LS7_ETM_LEDAPS4_32618_6_4_20020117145458000000.nc>, Dataset <id=e4438d8e-141a-4a1d-abae-dab661cfa7e5 type=ls7_ledaps_utm18n4 location=/dc_storage/LS7_ETM_LEDAPS/LS7_ETM_LEDAPS4_32618_5_5_20020117145458000000.nc>, Dataset <id=3c5d1901-36fe-42db-a59d-d3a0528c032e type=ls7_ledaps_utm18n4 location=/dc_storage/LS7_ETM_LEDAPS/LS7_ETM_LEDAPS4_32618_6_5_20020117145458000000.nc>, Dataset <id=64eedf62-0344-483f-a619-a93dde8cce59 type=ls7_ledaps_utm18n4 location=/dc_storage/LS7_ETM_LEDAPS/LS7_ETM_LEDAPS4_32618_7_6_20020117145458000000.nc>]),\n",
       "   Group(key=datetime.datetime(2002, 1, 17, 14, 55, 21), datasets=[Dataset <id=3b84f386-99bf-4801-8647-2573020cc0d6 type=ls7_ledaps_utm18n4 location=/dc_storage/LS7_ETM_LEDAPS/LS7_ETM_LEDAPS4_32618_7_5_20020117145521000000.nc>, Dataset <id=0f965c1f-a067-4c2b-bf26-081adf3e55f7 type=ls7_ledaps_utm18n4 location=/dc_storage/LS7_ETM_LEDAPS/LS7_ETM_LEDAPS4_32618_6_5_20020117145521000000.nc>, Dataset <id=7471550c-5ceb-4e30-8570-598b70af3923 type=ls7_ledaps_utm18n4 location=/dc_storage/LS7_ETM_LEDAPS/LS7_ETM_LEDAPS4_32618_6_3_20020117145521000000.nc>, Dataset <id=2926a4da-ebb4-429a-a700-dace6b237bfa type=ls7_ledaps_utm18n4 location=/dc_storage/LS7_ETM_LEDAPS/LS7_ETM_LEDAPS4_32618_7_4_20020117145521000000.nc>, Dataset <id=e109579c-0115-480b-9af2-8f5bc37f16f5 type=ls7_ledaps_utm18n4 location=/dc_storage/LS7_ETM_LEDAPS/LS7_ETM_LEDAPS4_32618_5_5_20020117145521000000.nc>, Dataset <id=df16fd38-43b4-4b9b-b13d-335d2e5b5798 type=ls7_ledaps_utm18n4 location=/dc_storage/LS7_ETM_LEDAPS/LS7_ETM_LEDAPS4_32618_7_3_20020117145521000000.nc>, Dataset <id=ea0c7baa-a88f-4531-ac6a-5c3fbccef94c type=ls7_ledaps_utm18n4 location=/dc_storage/LS7_ETM_LEDAPS/LS7_ETM_LEDAPS4_32618_5_3_20020117145521000000.nc>, Dataset <id=b03d4fd5-2297-4706-866d-a0c108c64889 type=ls7_ledaps_utm18n4 location=/dc_storage/LS7_ETM_LEDAPS/LS7_ETM_LEDAPS4_32618_5_4_20020117145521000000.nc>, Dataset <id=2720e59c-d71e-4e8a-86b1-d22d2e9708f4 type=ls7_ledaps_utm18n4 location=/dc_storage/LS7_ETM_LEDAPS/LS7_ETM_LEDAPS4_32618_6_4_20020117145521000000.nc>]),\n",
       "   Group(key=datetime.datetime(2002, 1, 26, 14, 48, 49), datasets=[Dataset <id=3f70242a-ff52-47c2-93b7-749ef3ac6006 type=ls7_ledaps_utm18n4 location=/dc_storage/LS7_ETM_LEDAPS/LS7_ETM_LEDAPS4_32618_9_5_20020126144849000000.nc>, Dataset <id=450f892d-12b8-43ed-847c-4a77284a122c type=ls7_ledaps_utm18n4 location=/dc_storage/LS7_ETM_LEDAPS/LS7_ETM_LEDAPS4_32618_7_5_20020126144849000000.nc>, Dataset <id=89a29960-7668-4746-bc24-0487b594477e type=ls7_ledaps_utm18n4 location=/dc_storage/LS7_ETM_LEDAPS/LS7_ETM_LEDAPS4_32618_9_6_20020126144849000000.nc>, Dataset <id=cf6dfa4d-2358-4495-b7af-350f0964305d type=ls7_ledaps_utm18n4 location=/dc_storage/LS7_ETM_LEDAPS/LS7_ETM_LEDAPS4_32618_8_4_20020126144849000000.nc>, Dataset <id=8372bd57-e50b-40e1-bd52-875616f7946b type=ls7_ledaps_utm18n4 location=/dc_storage/LS7_ETM_LEDAPS/LS7_ETM_LEDAPS4_32618_8_5_20020126144849000000.nc>, Dataset <id=5c76a10b-0b1a-422a-a2ab-bcac33739059 type=ls7_ledaps_utm18n4 location=/dc_storage/LS7_ETM_LEDAPS/LS7_ETM_LEDAPS4_32618_9_4_20020126144849000000.nc>, Dataset <id=692d3e6a-4cbe-444d-ad9e-e31ec202c7da type=ls7_ledaps_utm18n4 location=/dc_storage/LS7_ETM_LEDAPS/LS7_ETM_LEDAPS4_32618_7_6_20020126144849000000.nc>, Dataset <id=967d728f-473c-4411-8afd-6bccc856bd3d type=ls7_ledaps_utm18n4 location=/dc_storage/LS7_ETM_LEDAPS/LS7_ETM_LEDAPS4_32618_8_6_20020126144849000000.nc>]),\n",
       "   Group(key=datetime.datetime(2002, 3, 6, 14, 55, 29), datasets=[Dataset <id=b8358992-85bb-4e9d-9121-9894917e4b95 type=ls7_ledaps_utm18n4 location=/dc_storage/LS7_ETM_LEDAPS/LS7_ETM_LEDAPS4_32618_5_4_20020306145529000000.nc>, Dataset <id=5a13ae94-a07a-4838-bdf6-83ec61d60a5b type=ls7_ledaps_utm18n4 location=/dc_storage/LS7_ETM_LEDAPS/LS7_ETM_LEDAPS4_32618_5_3_20020306145529000000.nc>, Dataset <id=8193adbc-f338-4ed9-8614-fc47115a9833 type=ls7_ledaps_utm18n4 location=/dc_storage/LS7_ETM_LEDAPS/LS7_ETM_LEDAPS4_32618_6_4_20020306145529000000.nc>, Dataset <id=0841fd15-5f0a-477e-8d63-f1f623b38f03 type=ls7_ledaps_utm18n4 location=/dc_storage/LS7_ETM_LEDAPS/LS7_ETM_LEDAPS4_32618_6_5_20020306145529000000.nc>, Dataset <id=d50c55b6-926f-4342-9466-937d6b629ea0 type=ls7_ledaps_utm18n4 location=/dc_storage/LS7_ETM_LEDAPS/LS7_ETM_LEDAPS4_32618_7_4_20020306145529000000.nc>, Dataset <id=27ee5632-7a66-4126-a22f-a7bca9b42700 type=ls7_ledaps_utm18n4 location=/dc_storage/LS7_ETM_LEDAPS/LS7_ETM_LEDAPS4_32618_7_3_20020306145529000000.nc>, Dataset <id=1c7a4029-c051-4e90-b0f4-252f7c526be8 type=ls7_ledaps_utm18n4 location=/dc_storage/LS7_ETM_LEDAPS/LS7_ETM_LEDAPS4_32618_6_3_20020306145529000000.nc>, Dataset <id=949907e8-252a-4320-8186-0ac51765166a type=ls7_ledaps_utm18n4 location=/dc_storage/LS7_ETM_LEDAPS/LS7_ETM_LEDAPS4_32618_7_5_20020306145529000000.nc>, Dataset <id=75af3113-7687-4fd5-b468-d56c2d11b435 type=ls7_ledaps_utm18n4 location=/dc_storage/LS7_ETM_LEDAPS/LS7_ETM_LEDAPS4_32618_5_5_20020306145529000000.nc>]),\n",
       "   Group(key=datetime.datetime(2002, 3, 15, 14, 49, 14), datasets=[Dataset <id=a26916ed-443f-4355-a3a0-c20eb87e2308 type=ls7_ledaps_utm18n4 location=/dc_storage/LS7_ETM_LEDAPS/LS7_ETM_LEDAPS4_32618_7_4_20020315144914000000.nc>, Dataset <id=c26aa2e8-35eb-49ed-bead-3ca2e7f2e916 type=ls7_ledaps_utm18n4 location=/dc_storage/LS7_ETM_LEDAPS/LS7_ETM_LEDAPS4_32618_8_5_20020315144914000000.nc>, Dataset <id=b0c72da1-89de-4616-8182-ef6531ade8fc type=ls7_ledaps_utm18n4 location=/dc_storage/LS7_ETM_LEDAPS/LS7_ETM_LEDAPS4_32618_9_5_20020315144914000000.nc>, Dataset <id=0c833641-c1e6-4a3d-b41d-b6025b93323a type=ls7_ledaps_utm18n4 location=/dc_storage/LS7_ETM_LEDAPS/LS7_ETM_LEDAPS4_32618_9_4_20020315144914000000.nc>, Dataset <id=cda1a7d7-1af4-465b-b232-20a33146839a type=ls7_ledaps_utm18n4 location=/dc_storage/LS7_ETM_LEDAPS/LS7_ETM_LEDAPS4_32618_8_4_20020315144914000000.nc>, Dataset <id=ee363335-f9f7-41ff-9c8a-f04f1a9ffbaa type=ls7_ledaps_utm18n4 location=/dc_storage/LS7_ETM_LEDAPS/LS7_ETM_LEDAPS4_32618_7_5_20020315144914000000.nc>, Dataset <id=9395263b-36b4-4387-9098-d9c08312abe1 type=ls7_ledaps_utm18n4 location=/dc_storage/LS7_ETM_LEDAPS/LS7_ETM_LEDAPS4_32618_7_3_20020315144914000000.nc>, Dataset <id=09ac9df2-0f4b-49ca-8ab3-a8ce8b977c97 type=ls7_ledaps_utm18n4 location=/dc_storage/LS7_ETM_LEDAPS/LS7_ETM_LEDAPS4_32618_8_3_20020315144914000000.nc>]),\n",
       "   Group(key=datetime.datetime(2016, 4, 29, 15, 10, 7), datasets=[Dataset <id=cc40fc8c-47b7-46f5-b50d-17b2c29da020 type=ls7_ledaps_utm18n4 location=/dc_storage/LS7_ETM_LEDAPS/LS7_ETM_LEDAPS4_32618_5_-1_20160429151007000000.nc>, Dataset <id=0b4814e1-08f1-45a8-a433-11e55439efb6 type=ls7_ledaps_utm18n4 location=/dc_storage/LS7_ETM_LEDAPS/LS7_ETM_LEDAPS4_32618_6_-1_20160429151007000000.nc>, Dataset <id=89e867ab-7675-4929-ad94-0901b8dfabf7 type=ls7_ledaps_utm18n4 location=/dc_storage/LS7_ETM_LEDAPS/LS7_ETM_LEDAPS4_32618_4_0_20160429151007000000.nc>, Dataset <id=d51a431a-f682-416d-bb44-52f6b7c5eae4 type=ls7_ledaps_utm18n4 location=/dc_storage/LS7_ETM_LEDAPS/LS7_ETM_LEDAPS4_32618_5_0_20160429151007000000.nc>, Dataset <id=3b81abd8-e916-4428-b8c2-c3e1b5996a5e type=ls7_ledaps_utm18n4 location=/dc_storage/LS7_ETM_LEDAPS/LS7_ETM_LEDAPS4_32618_6_0_20160429151007000000.nc>, Dataset <id=fa717bc8-9af0-4130-b44c-0d666829039e type=ls7_ledaps_utm18n4 location=/dc_storage/LS7_ETM_LEDAPS/LS7_ETM_LEDAPS4_32618_4_-1_20160429151007000000.nc>])]),\n",
       " 'irregular_indices': {'time': [datetime.datetime(2000, 2, 4, 15, 5, 7),\n",
       "   datetime.datetime(2000, 4, 8, 15, 4, 44),\n",
       "   datetime.datetime(2000, 7, 29, 15, 3, 32),\n",
       "   datetime.datetime(2000, 8, 14, 15, 3, 25),\n",
       "   datetime.datetime(2000, 9, 15, 15, 2, 55),\n",
       "   datetime.datetime(2000, 10, 17, 15, 2, 30),\n",
       "   datetime.datetime(2000, 11, 18, 15, 2, 40),\n",
       "   datetime.datetime(2002, 1, 17, 14, 54, 58),\n",
       "   datetime.datetime(2002, 1, 17, 14, 55, 21),\n",
       "   datetime.datetime(2002, 1, 26, 14, 48, 49),\n",
       "   datetime.datetime(2002, 3, 6, 14, 55, 29),\n",
       "   datetime.datetime(2002, 3, 15, 14, 49, 14),\n",
       "   datetime.datetime(2016, 4, 29, 15, 10, 7)]},\n",
       " 'result_max': (datetime.datetime(2016, 4, 29, 15, 10, 7),\n",
       "  744405.0,\n",
       "  1041915.0),\n",
       " 'result_min': (datetime.datetime(2000, 2, 4, 15, 5, 7), -103005.0, 478335.0),\n",
       " 'result_shape': (13, 28248, 18787),\n",
       " 'storage_units': {(datetime.datetime(2000, 2, 4, 15, 5, 7),\n",
       "   552900.0,\n",
       "   548196.593339898): {'irregular_indices': {'time': [datetime.datetime(2000, 2, 4, 15, 5, 7)]},\n",
       "   'storage_max': (datetime.datetime(2000, 2, 4, 15, 5, 7),\n",
       "    552900.0,\n",
       "    552900.0),\n",
       "   'storage_min': (datetime.datetime(2000, 2, 4, 15, 5, 7),\n",
       "    552227.856704139,\n",
       "    548196.593339898),\n",
       "   'storage_path': '/dc_storage/LS7_ETM_LEDAPS/LS7_ETM_LEDAPS4_32618_4_4_20000204150507000000.nc',\n",
       "   'storage_shape': (1, 3686, 3686)},\n",
       "  (datetime.datetime(2000, 2, 4, 15, 5, 7),\n",
       "   552900.0,\n",
       "   552900.0): {'irregular_indices': {'time': [datetime.datetime(2000, 2, 4, 15, 5, 7)]}, 'storage_max': (datetime.datetime(2000, 2, 4, 15, 5, 7),\n",
       "    552900.0,\n",
       "    663480.0), 'storage_min': (datetime.datetime(2000, 2, 4, 15, 5, 7),\n",
       "    536595.3009965618,\n",
       "    552900.0), 'storage_path': '/dc_storage/LS7_ETM_LEDAPS/LS7_ETM_LEDAPS4_32618_5_4_20000204150507000000.nc', 'storage_shape': (1,\n",
       "    3686,\n",
       "    3686)},\n",
       "  (datetime.datetime(2000, 2, 4, 15, 5, 7),\n",
       "   552900.0,\n",
       "   663480.0): {'irregular_indices': {'time': [datetime.datetime(2000, 2, 4, 15, 5, 7)]}, 'storage_max': (datetime.datetime(2000, 2, 4, 15, 5, 7),\n",
       "    552900.0,\n",
       "    666301.267614203), 'storage_min': (datetime.datetime(2000, 2, 4, 15, 5, 7),\n",
       "    540586.5885485661,\n",
       "    663480.0), 'storage_path': '/dc_storage/LS7_ETM_LEDAPS/LS7_ETM_LEDAPS4_32618_6_4_20000204150507000000.nc', 'storage_shape': (1,\n",
       "    3686,\n",
       "    3686)},\n",
       "  (datetime.datetime(2000, 2, 4, 15, 5, 7),\n",
       "   663480.0,\n",
       "   479235.0): {'irregular_indices': {'time': [datetime.datetime(2000, 2, 4, 15, 5, 7)]}, 'storage_max': (datetime.datetime(2000, 2, 4, 15, 5, 7),\n",
       "    663480.0,\n",
       "    552900.0), 'storage_min': (datetime.datetime(2000, 2, 4, 15, 5, 7),\n",
       "    552900.0,\n",
       "    479235.0), 'storage_path': '/dc_storage/LS7_ETM_LEDAPS/LS7_ETM_LEDAPS4_32618_4_5_20000204150507000000.nc', 'storage_shape': (1,\n",
       "    3686,\n",
       "    3686)},\n",
       "  (datetime.datetime(2000, 2, 4, 15, 5, 7),\n",
       "   663480.0,\n",
       "   552900.0): {'irregular_indices': {'time': [datetime.datetime(2000, 2, 4, 15, 5, 7)]}, 'storage_max': (datetime.datetime(2000, 2, 4, 15, 5, 7),\n",
       "    663480.0,\n",
       "    663480.0), 'storage_min': (datetime.datetime(2000, 2, 4, 15, 5, 7),\n",
       "    552900.0,\n",
       "    552900.0), 'storage_path': '/dc_storage/LS7_ETM_LEDAPS/LS7_ETM_LEDAPS4_32618_5_5_20000204150507000000.nc', 'storage_shape': (1,\n",
       "    3686,\n",
       "    3686)},\n",
       "  (datetime.datetime(2000, 2, 4, 15, 5, 7),\n",
       "   663480.0,\n",
       "   663480.0): {'irregular_indices': {'time': [datetime.datetime(2000, 2, 4, 15, 5, 7)]}, 'storage_max': (datetime.datetime(2000, 2, 4, 15, 5, 7),\n",
       "    663480.0,\n",
       "    689725.7356980585), 'storage_min': (datetime.datetime(2000, 2, 4, 15, 5, 7),\n",
       "    552900.0,\n",
       "    663480.0), 'storage_path': '/dc_storage/LS7_ETM_LEDAPS/LS7_ETM_LEDAPS4_32618_6_5_20000204150507000000.nc', 'storage_shape': (1,\n",
       "    3686,\n",
       "    3686)},\n",
       "  (datetime.datetime(2000, 2, 4, 15, 5, 7),\n",
       "   722228.7780716411,\n",
       "   663480.0): {'irregular_indices': {'time': [datetime.datetime(2000, 2, 4, 15, 5, 7)]}, 'storage_max': (datetime.datetime(2000, 2, 4, 15, 5, 7),\n",
       "    722228.7780716411,\n",
       "    700934.3637187576), 'storage_min': (datetime.datetime(2000, 2, 4, 15, 5, 7),\n",
       "    663480.0,\n",
       "    663480.0), 'storage_path': '/dc_storage/LS7_ETM_LEDAPS/LS7_ETM_LEDAPS4_32618_6_6_20000204150507000000.nc', 'storage_shape': (1,\n",
       "    3686,\n",
       "    3686)},\n",
       "  (datetime.datetime(2000, 2, 4, 15, 5, 7),\n",
       "   737962.2271973018,\n",
       "   552900.0): {'irregular_indices': {'time': [datetime.datetime(2000, 2, 4, 15, 5, 7)]}, 'storage_max': (datetime.datetime(2000, 2, 4, 15, 5, 7),\n",
       "    737962.2271973018,\n",
       "    663480.0), 'storage_min': (datetime.datetime(2000, 2, 4, 15, 5, 7),\n",
       "    663480.0,\n",
       "    552900.0), 'storage_path': '/dc_storage/LS7_ETM_LEDAPS/LS7_ETM_LEDAPS4_32618_5_6_20000204150507000000.nc', 'storage_shape': (1,\n",
       "    3686,\n",
       "    3686)},\n",
       "  (datetime.datetime(2000, 2, 4, 15, 5, 7),\n",
       "   742995.0,\n",
       "   500424.45730955334): {'irregular_indices': {'time': [datetime.datetime(2000, 2, 4, 15, 5, 7)]}, 'storage_max': (datetime.datetime(2000, 2, 4, 15, 5, 7),\n",
       "    742995.0,\n",
       "    552900.0), 'storage_min': (datetime.datetime(2000, 2, 4, 15, 5, 7),\n",
       "    663480.0,\n",
       "    500424.45730955334), 'storage_path': '/dc_storage/LS7_ETM_LEDAPS/LS7_ETM_LEDAPS4_32618_4_6_20000204150507000000.nc', 'storage_shape': (1,\n",
       "    3686,\n",
       "    3686)},\n",
       "  (datetime.datetime(2000, 4, 8, 15, 4, 44),\n",
       "   552900.0,\n",
       "   552236.9497395391): {'irregular_indices': {'time': [datetime.datetime(2000, 4, 8, 15, 4, 44)]}, 'storage_max': (datetime.datetime(2000, 4, 8, 15, 4, 44),\n",
       "    552900.0,\n",
       "    552900.0), 'storage_min': (datetime.datetime(2000, 4, 8, 15, 4, 44),\n",
       "    552805.4350948902,\n",
       "    552236.9497395391), 'storage_path': '/dc_storage/LS7_ETM_LEDAPS/LS7_ETM_LEDAPS4_32618_4_4_20000408150444000000.nc', 'storage_shape': (1,\n",
       "    3686,\n",
       "    3686)},\n",
       "  (datetime.datetime(2000, 4, 8, 15, 4, 44),\n",
       "   552900.0,\n",
       "   552900.0): {'irregular_indices': {'time': [datetime.datetime(2000, 4, 8, 15, 4, 44)]}, 'storage_max': (datetime.datetime(2000, 4, 8, 15, 4, 44),\n",
       "    552900.0,\n",
       "    663480.0), 'storage_min': (datetime.datetime(2000, 4, 8, 15, 4, 44),\n",
       "    537105.0,\n",
       "    552900.0), 'storage_path': '/dc_storage/LS7_ETM_LEDAPS/LS7_ETM_LEDAPS4_32618_5_4_20000408150444000000.nc', 'storage_shape': (1,\n",
       "    3686,\n",
       "    3686)},\n",
       "  (datetime.datetime(2000, 4, 8, 15, 4, 44),\n",
       "   552900.0,\n",
       "   663480.0): {'irregular_indices': {'time': [datetime.datetime(2000, 4, 8, 15, 4, 44)]}, 'storage_max': (datetime.datetime(2000, 4, 8, 15, 4, 44),\n",
       "    552900.0,\n",
       "    666649.0132211484), 'storage_min': (datetime.datetime(2000, 4, 8, 15, 4, 44),\n",
       "    538997.062849468,\n",
       "    663480.0), 'storage_path': '/dc_storage/LS7_ETM_LEDAPS/LS7_ETM_LEDAPS4_32618_6_4_20000408150444000000.nc', 'storage_shape': (1,\n",
       "    3686,\n",
       "    3686)},\n",
       "  (datetime.datetime(2000, 4, 8, 15, 4, 44),\n",
       "   663480.0,\n",
       "   552900.0): {'irregular_indices': {'time': [datetime.datetime(2000, 4, 8, 15, 4, 44)]}, 'storage_max': (datetime.datetime(2000, 4, 8, 15, 4, 44),\n",
       "    663480.0,\n",
       "    663480.0), 'storage_min': (datetime.datetime(2000, 4, 8, 15, 4, 44),\n",
       "    552900.0,\n",
       "    552900.0), 'storage_path': '/dc_storage/LS7_ETM_LEDAPS/LS7_ETM_LEDAPS4_32618_5_5_20000408150444000000.nc', 'storage_shape': (1,\n",
       "    3686,\n",
       "    3686)},\n",
       "  (datetime.datetime(2000, 4, 8, 15, 4, 44),\n",
       "   663480.0,\n",
       "   663480.0): {'irregular_indices': {'time': [datetime.datetime(2000, 4, 8, 15, 4, 44)]}, 'storage_max': (datetime.datetime(2000, 4, 8, 15, 4, 44),\n",
       "    663480.0,\n",
       "    690123.2994621402), 'storage_min': (datetime.datetime(2000, 4, 8, 15, 4, 44),\n",
       "    552900.0,\n",
       "    663480.0), 'storage_path': '/dc_storage/LS7_ETM_LEDAPS/LS7_ETM_LEDAPS4_32618_6_5_20000408150444000000.nc', 'storage_shape': (1,\n",
       "    3686,\n",
       "    3686)},\n",
       "  (datetime.datetime(2000, 4, 8, 15, 4, 44),\n",
       "   722331.5652110153,\n",
       "   663480.0): {'irregular_indices': {'time': [datetime.datetime(2000, 4, 8, 15, 4, 44)]}, 'storage_max': (datetime.datetime(2000, 4, 8, 15, 4, 44),\n",
       "    722331.5652110153,\n",
       "    701354.3809991765), 'storage_min': (datetime.datetime(2000, 4, 8, 15, 4, 44),\n",
       "    663480.0,\n",
       "    663480.0), 'storage_path': '/dc_storage/LS7_ETM_LEDAPS/LS7_ETM_LEDAPS4_32618_6_6_20000408150444000000.nc', 'storage_shape': (1,\n",
       "    3686,\n",
       "    3686)},\n",
       "  (datetime.datetime(2000, 4, 8, 15, 4, 44),\n",
       "   738017.9869249887,\n",
       "   552900.0): {'irregular_indices': {'time': [datetime.datetime(2000, 4, 8, 15, 4, 44)]}, 'storage_max': (datetime.datetime(2000, 4, 8, 15, 4, 44),\n",
       "    738017.9869249887,\n",
       "    663480.0), 'storage_min': (datetime.datetime(2000, 4, 8, 15, 4, 44),\n",
       "    663480.0,\n",
       "    552900.0), 'storage_path': '/dc_storage/LS7_ETM_LEDAPS/LS7_ETM_LEDAPS4_32618_5_6_20000408150444000000.nc', 'storage_shape': (1,\n",
       "    3686,\n",
       "    3686)},\n",
       "  (datetime.datetime(2000, 4, 8, 15, 4, 44),\n",
       "   742995.0,\n",
       "   500784.7261567913): {'irregular_indices': {'time': [datetime.datetime(2000, 4, 8, 15, 4, 44)]}, 'storage_max': (datetime.datetime(2000, 4, 8, 15, 4, 44),\n",
       "    742995.0,\n",
       "    552900.0), 'storage_min': (datetime.datetime(2000, 4, 8, 15, 4, 44),\n",
       "    663480.0,\n",
       "    500784.7261567913), 'storage_path': '/dc_storage/LS7_ETM_LEDAPS/LS7_ETM_LEDAPS4_32618_4_6_20000408150444000000.nc', 'storage_shape': (1,\n",
       "    3686,\n",
       "    3686)},\n",
       "  (datetime.datetime(2000, 7, 29, 15, 3, 32),\n",
       "   552900.0,\n",
       "   547550.7918501965): {'irregular_indices': {'time': [datetime.datetime(2000, 7, 29, 15, 3, 32)]}, 'storage_max': (datetime.datetime(2000, 7, 29, 15, 3, 32),\n",
       "    552900.0,\n",
       "    552900.0), 'storage_min': (datetime.datetime(2000, 7, 29, 15, 3, 32),\n",
       "    552134.0398689421,\n",
       "    547550.7918501965), 'storage_path': '/dc_storage/LS7_ETM_LEDAPS/LS7_ETM_LEDAPS4_32618_4_4_20000729150332000000.nc', 'storage_shape': (1,\n",
       "    3686,\n",
       "    3686)},\n",
       "  (datetime.datetime(2000, 7, 29, 15, 3, 32),\n",
       "   552900.0,\n",
       "   552900.0): {'irregular_indices': {'time': [datetime.datetime(2000, 7, 29, 15, 3, 32)]}, 'storage_max': (datetime.datetime(2000, 7, 29, 15, 3, 32),\n",
       "    552900.0,\n",
       "    663480.0), 'storage_min': (datetime.datetime(2000, 7, 29, 15, 3, 32),\n",
       "    536301.1239953515,\n",
       "    552900.0), 'storage_path': '/dc_storage/LS7_ETM_LEDAPS/LS7_ETM_LEDAPS4_32618_5_4_20000729150332000000.nc', 'storage_shape': (1,\n",
       "    3686,\n",
       "    3686)},\n",
       "  (datetime.datetime(2000, 7, 29, 15, 3, 32),\n",
       "   552900.0,\n",
       "   663480.0): {'irregular_indices': {'time': [datetime.datetime(2000, 7, 29, 15, 3, 32)]}, 'storage_max': (datetime.datetime(2000, 7, 29, 15, 3, 32),\n",
       "    552900.0,\n",
       "    668007.9333234862), 'storage_min': (datetime.datetime(2000, 7, 29, 15, 3, 32),\n",
       "    536205.3015151902,\n",
       "    663480.0), 'storage_path': '/dc_storage/LS7_ETM_LEDAPS/LS7_ETM_LEDAPS4_32618_6_4_20000729150332000000.nc', 'storage_shape': (1,\n",
       "    3686,\n",
       "    3686)},\n",
       "  (datetime.datetime(2000, 7, 29, 15, 3, 32),\n",
       "   663480.0,\n",
       "   480353.7867965644): {'irregular_indices': {'time': [datetime.datetime(2000, 7, 29, 15, 3, 32)]}, 'storage_max': (datetime.datetime(2000, 7, 29, 15, 3, 32),\n",
       "    663480.0,\n",
       "    552900.0), 'storage_min': (datetime.datetime(2000, 7, 29, 15, 3, 32),\n",
       "    552900.0,\n",
       "    480353.7867965644), 'storage_path': '/dc_storage/LS7_ETM_LEDAPS/LS7_ETM_LEDAPS4_32618_4_5_20000729150332000000.nc', 'storage_shape': (1,\n",
       "    3686,\n",
       "    3686)},\n",
       "  (datetime.datetime(2000, 7, 29, 15, 3, 32),\n",
       "   663480.0,\n",
       "   552900.0): {'irregular_indices': {'time': [datetime.datetime(2000, 7, 29, 15, 3, 32)]}, 'storage_max': (datetime.datetime(2000, 7, 29, 15, 3, 32),\n",
       "    663480.0,\n",
       "    663480.0), 'storage_min': (datetime.datetime(2000, 7, 29, 15, 3, 32),\n",
       "    552900.0,\n",
       "    552900.0), 'storage_path': '/dc_storage/LS7_ETM_LEDAPS/LS7_ETM_LEDAPS4_32618_5_5_20000729150332000000.nc', 'storage_shape': (1,\n",
       "    3686,\n",
       "    3686)},\n",
       "  (datetime.datetime(2000, 7, 29, 15, 3, 32),\n",
       "   663480.0,\n",
       "   663480.0): {'irregular_indices': {'time': [datetime.datetime(2000, 7, 29, 15, 3, 32)]}, 'storage_max': (datetime.datetime(2000, 7, 29, 15, 3, 32),\n",
       "    663480.0,\n",
       "    691449.058019089), 'storage_min': (datetime.datetime(2000, 7, 29, 15, 3, 32),\n",
       "    552900.0,\n",
       "    663480.0), 'storage_path': '/dc_storage/LS7_ETM_LEDAPS/LS7_ETM_LEDAPS4_32618_6_5_20000729150332000000.nc', 'storage_shape': (1,\n",
       "    3686,\n",
       "    3686)},\n",
       "  (datetime.datetime(2000, 7, 29, 15, 3, 32),\n",
       "   722170.3922611629,\n",
       "   663480.0): {'irregular_indices': {'time': [datetime.datetime(2000, 7, 29, 15, 3, 32)]}, 'storage_max': (datetime.datetime(2000, 7, 29, 15, 3, 32),\n",
       "    722170.3922611629,\n",
       "    702584.3514199414), 'storage_min': (datetime.datetime(2000, 7, 29, 15, 3, 32),\n",
       "    663480.0,\n",
       "    663480.0), 'storage_path': '/dc_storage/LS7_ETM_LEDAPS/LS7_ETM_LEDAPS4_32618_6_6_20000729150332000000.nc', 'storage_shape': (1,\n",
       "    3686,\n",
       "    3686)},\n",
       "  (datetime.datetime(2000, 7, 29, 15, 3, 32),\n",
       "   737911.680050293,\n",
       "   552900.0): {'irregular_indices': {'time': [datetime.datetime(2000, 7, 29, 15, 3, 32)]}, 'storage_max': (datetime.datetime(2000, 7, 29, 15, 3, 32),\n",
       "    737911.680050293,\n",
       "    663480.0), 'storage_min': (datetime.datetime(2000, 7, 29, 15, 3, 32),\n",
       "    663480.0,\n",
       "    552900.0), 'storage_path': '/dc_storage/LS7_ETM_LEDAPS/LS7_ETM_LEDAPS4_32618_5_6_20000729150332000000.nc', 'storage_shape': (1,\n",
       "    3686,\n",
       "    3686)},\n",
       "  (datetime.datetime(2000, 7, 29, 15, 3, 32),\n",
       "   742785.0,\n",
       "   501718.7223396128): {'irregular_indices': {'time': [datetime.datetime(2000, 7, 29, 15, 3, 32)]}, 'storage_max': (datetime.datetime(2000, 7, 29, 15, 3, 32),\n",
       "    742785.0,\n",
       "    552900.0), 'storage_min': (datetime.datetime(2000, 7, 29, 15, 3, 32),\n",
       "    663480.0,\n",
       "    501718.7223396128), 'storage_path': '/dc_storage/LS7_ETM_LEDAPS/LS7_ETM_LEDAPS4_32618_4_6_20000729150332000000.nc', 'storage_shape': (1,\n",
       "    3686,\n",
       "    3686)},\n",
       "  (datetime.datetime(2000, 8, 14, 15, 3, 25),\n",
       "   552900.0,\n",
       "   553066.5730011209): {'irregular_indices': {'time': [datetime.datetime(2000, 8, 14, 15, 3, 25)]}, 'storage_max': (datetime.datetime(2000, 8, 14, 15, 3, 25),\n",
       "    552900.0,\n",
       "    663480.0), 'storage_min': (datetime.datetime(2000, 8, 14, 15, 3, 25),\n",
       "    537361.583592135,\n",
       "    553066.5730011209), 'storage_path': '/dc_storage/LS7_ETM_LEDAPS/LS7_ETM_LEDAPS4_32618_5_4_20000814150325000000.nc', 'storage_shape': (1,\n",
       "    3686,\n",
       "    3686)},\n",
       "  (datetime.datetime(2000, 8, 14, 15, 3, 25),\n",
       "   552900.0,\n",
       "   663480.0): {'irregular_indices': {'time': [datetime.datetime(2000, 8, 14, 15, 3, 25)]}, 'storage_max': (datetime.datetime(2000, 8, 14, 15, 3, 25),\n",
       "    552900.0,\n",
       "    665071.9464183446), 'storage_min': (datetime.datetime(2000, 8, 14, 15, 3, 25),\n",
       "    545812.3731443482,\n",
       "    663480.0), 'storage_path': '/dc_storage/LS7_ETM_LEDAPS/LS7_ETM_LEDAPS4_32618_6_4_20000814150325000000.nc', 'storage_shape': (1,\n",
       "    3686,\n",
       "    3686)},\n",
       "  (datetime.datetime(2000, 8, 14, 15, 3, 25),\n",
       "   663480.0,\n",
       "   478335.0): {'irregular_indices': {'time': [datetime.datetime(2000, 8, 14, 15, 3, 25)]}, 'storage_max': (datetime.datetime(2000, 8, 14, 15, 3, 25),\n",
       "    663480.0,\n",
       "    552900.0), 'storage_min': (datetime.datetime(2000, 8, 14, 15, 3, 25),\n",
       "    552923.8605619213,\n",
       "    478335.0), 'storage_path': '/dc_storage/LS7_ETM_LEDAPS/LS7_ETM_LEDAPS4_32618_4_5_20000814150325000000.nc', 'storage_shape': (1,\n",
       "    3686,\n",
       "    3686)},\n",
       "  (datetime.datetime(2000, 8, 14, 15, 3, 25),\n",
       "   663480.0,\n",
       "   552900.0): {'irregular_indices': {'time': [datetime.datetime(2000, 8, 14, 15, 3, 25)]}, 'storage_max': (datetime.datetime(2000, 8, 14, 15, 3, 25),\n",
       "    663480.0,\n",
       "    663480.0), 'storage_min': (datetime.datetime(2000, 8, 14, 15, 3, 25),\n",
       "    552900.0,\n",
       "    552900.0), 'storage_path': '/dc_storage/LS7_ETM_LEDAPS/LS7_ETM_LEDAPS4_32618_5_5_20000814150325000000.nc', 'storage_shape': (1,\n",
       "    3686,\n",
       "    3686)},\n",
       "  (datetime.datetime(2000, 8, 14, 15, 3, 25),\n",
       "   663480.0,\n",
       "   663480.0): {'irregular_indices': {'time': [datetime.datetime(2000, 8, 14, 15, 3, 25)]}, 'storage_max': (datetime.datetime(2000, 8, 14, 15, 3, 25),\n",
       "    663480.0,\n",
       "    688522.4561282076), 'storage_min': (datetime.datetime(2000, 8, 14, 15, 3, 25),\n",
       "    552900.0,\n",
       "    663480.0), 'storage_path': '/dc_storage/LS7_ETM_LEDAPS/LS7_ETM_LEDAPS4_32618_6_5_20000814150325000000.nc', 'storage_shape': (1,\n",
       "    3686,\n",
       "    3686)},\n",
       "  (datetime.datetime(2000, 8, 14, 15, 3, 25),\n",
       "   722975.5566105173,\n",
       "   663480.0): {'irregular_indices': {'time': [datetime.datetime(2000, 8, 14, 15, 3, 25)]}, 'storage_max': (datetime.datetime(2000, 8, 14, 15, 3, 25),\n",
       "    722975.5566105173,\n",
       "    699945.0), 'storage_min': (datetime.datetime(2000, 8, 14, 15, 3, 25),\n",
       "    663480.0,\n",
       "    663480.0), 'storage_path': '/dc_storage/LS7_ETM_LEDAPS/LS7_ETM_LEDAPS4_32618_6_6_20000814150325000000.nc', 'storage_shape': (1,\n",
       "    3686,\n",
       "    3686)},\n",
       "  (datetime.datetime(2000, 8, 14, 15, 3, 25),\n",
       "   738736.2767520895,\n",
       "   552900.0): {'irregular_indices': {'time': [datetime.datetime(2000, 8, 14, 15, 3, 25)]}, 'storage_max': (datetime.datetime(2000, 8, 14, 15, 3, 25),\n",
       "    738736.2767520895,\n",
       "    663480.0), 'storage_min': (datetime.datetime(2000, 8, 14, 15, 3, 25),\n",
       "    663480.0,\n",
       "    552900.0), 'storage_path': '/dc_storage/LS7_ETM_LEDAPS/LS7_ETM_LEDAPS4_32618_5_6_20000814150325000000.nc', 'storage_shape': (1,\n",
       "    3686,\n",
       "    3686)},\n",
       "  (datetime.datetime(2000, 8, 14, 15, 3, 25),\n",
       "   743925.0,\n",
       "   499186.55522317253): {'irregular_indices': {'time': [datetime.datetime(2000, 8, 14, 15, 3, 25)]}, 'storage_max': (datetime.datetime(2000, 8, 14, 15, 3, 25),\n",
       "    743925.0,\n",
       "    552900.0), 'storage_min': (datetime.datetime(2000, 8, 14, 15, 3, 25),\n",
       "    663480.0,\n",
       "    499186.55522317253), 'storage_path': '/dc_storage/LS7_ETM_LEDAPS/LS7_ETM_LEDAPS4_32618_4_6_20000814150325000000.nc', 'storage_shape': (1,\n",
       "    3686,\n",
       "    3686)},\n",
       "  (datetime.datetime(2000, 9, 15, 15, 2, 55),\n",
       "   552900.0,\n",
       "   550976.4470919598): {'irregular_indices': {'time': [datetime.datetime(2000, 9, 15, 15, 2, 55)]}, 'storage_max': (datetime.datetime(2000, 9, 15, 15, 2, 55),\n",
       "    552900.0,\n",
       "    552900.0), 'storage_min': (datetime.datetime(2000, 9, 15, 15, 2, 55),\n",
       "    552624.6136089548,\n",
       "    550976.4470919598), 'storage_path': '/dc_storage/LS7_ETM_LEDAPS/LS7_ETM_LEDAPS4_32618_4_4_20000915150255000000.nc', 'storage_shape': (1,\n",
       "    3686,\n",
       "    3686)},\n",
       "  (datetime.datetime(2000, 9, 15, 15, 2, 55),\n",
       "   552900.0,\n",
       "   552900.0): {'irregular_indices': {'time': [datetime.datetime(2000, 9, 15, 15, 2, 55)]}, 'storage_max': (datetime.datetime(2000, 9, 15, 15, 2, 55),\n",
       "    552900.0,\n",
       "    663480.0), 'storage_min': (datetime.datetime(2000, 9, 15, 15, 2, 55),\n",
       "    536895.3015151902,\n",
       "    552900.0), 'storage_path': '/dc_storage/LS7_ETM_LEDAPS/LS7_ETM_LEDAPS4_32618_5_4_20000915150255000000.nc', 'storage_shape': (1,\n",
       "    3686,\n",
       "    3686)},\n",
       "  (datetime.datetime(2000, 9, 15, 15, 2, 55),\n",
       "   552900.0,\n",
       "   663480.0): {'irregular_indices': {'time': [datetime.datetime(2000, 9, 15, 15, 2, 55)]}, 'storage_max': (datetime.datetime(2000, 9, 15, 15, 2, 55),\n",
       "    552900.0,\n",
       "    666777.5385955729), 'storage_min': (datetime.datetime(2000, 9, 15, 15, 2, 55),\n",
       "    538519.0926223886,\n",
       "    663480.0), 'storage_path': '/dc_storage/LS7_ETM_LEDAPS/LS7_ETM_LEDAPS4_32618_6_4_20000915150255000000.nc', 'storage_shape': (1,\n",
       "    3686,\n",
       "    3686)},\n",
       "  (datetime.datetime(2000, 9, 15, 15, 2, 55),\n",
       "   663480.0,\n",
       "   479835.0): {'irregular_indices': {'time': [datetime.datetime(2000, 9, 15, 15, 2, 55)]}, 'storage_max': (datetime.datetime(2000, 9, 15, 15, 2, 55),\n",
       "    663480.0,\n",
       "    552900.0), 'storage_min': (datetime.datetime(2000, 9, 15, 15, 2, 55),\n",
       "    552900.0,\n",
       "    479835.0), 'storage_path': '/dc_storage/LS7_ETM_LEDAPS/LS7_ETM_LEDAPS4_32618_4_5_20000915150255000000.nc', 'storage_shape': (1,\n",
       "    3686,\n",
       "    3686)},\n",
       "  (datetime.datetime(2000, 9, 15, 15, 2, 55),\n",
       "   663480.0,\n",
       "   552900.0): {'irregular_indices': {'time': [datetime.datetime(2000, 9, 15, 15, 2, 55)]}, 'storage_max': (datetime.datetime(2000, 9, 15, 15, 2, 55),\n",
       "    663480.0,\n",
       "    663480.0), 'storage_min': (datetime.datetime(2000, 9, 15, 15, 2, 55),\n",
       "    552900.0,\n",
       "    552900.0), 'storage_path': '/dc_storage/LS7_ETM_LEDAPS/LS7_ETM_LEDAPS4_32618_5_5_20000915150255000000.nc', 'storage_shape': (1,\n",
       "    3686,\n",
       "    3686)},\n",
       "  (datetime.datetime(2000, 9, 15, 15, 2, 55),\n",
       "   663480.0,\n",
       "   663480.0): {'irregular_indices': {'time': [datetime.datetime(2000, 9, 15, 15, 2, 55)]}, 'storage_max': (datetime.datetime(2000, 9, 15, 15, 2, 55),\n",
       "    663480.0,\n",
       "    690176.314103144), 'storage_min': (datetime.datetime(2000, 9, 15, 15, 2, 55),\n",
       "    552900.0,\n",
       "    663480.0), 'storage_path': '/dc_storage/LS7_ETM_LEDAPS/LS7_ETM_LEDAPS4_32618_6_5_20000915150255000000.nc', 'storage_shape': (1,\n",
       "    3686,\n",
       "    3686)},\n",
       "  (datetime.datetime(2000, 9, 15, 15, 2, 55),\n",
       "   722724.2378045364,\n",
       "   663480.0): {'irregular_indices': {'time': [datetime.datetime(2000, 9, 15, 15, 2, 55)]}, 'storage_max': (datetime.datetime(2000, 9, 15, 15, 2, 55),\n",
       "    722724.2378045364,\n",
       "    701414.3809991765), 'storage_min': (datetime.datetime(2000, 9, 15, 15, 2, 55),\n",
       "    663480.0,\n",
       "    663480.0), 'storage_path': '/dc_storage/LS7_ETM_LEDAPS/LS7_ETM_LEDAPS4_32618_6_6_20000915150255000000.nc', 'storage_shape': (1,\n",
       "    3686,\n",
       "    3686)},\n",
       "  (datetime.datetime(2000, 9, 15, 15, 2, 55),\n",
       "   738441.6652201577,\n",
       "   552900.0): {'irregular_indices': {'time': [datetime.datetime(2000, 9, 15, 15, 2, 55)]}, 'storage_max': (datetime.datetime(2000, 9, 15, 15, 2, 55),\n",
       "    738441.6652201577,\n",
       "    663480.0), 'storage_min': (datetime.datetime(2000, 9, 15, 15, 2, 55),\n",
       "    663480.0,\n",
       "    552900.0), 'storage_path': '/dc_storage/LS7_ETM_LEDAPS/LS7_ETM_LEDAPS4_32618_5_6_20000915150255000000.nc', 'storage_shape': (1,\n",
       "    3686,\n",
       "    3686)},\n",
       "  (datetime.datetime(2000, 9, 15, 15, 2, 55),\n",
       "   743415.0,\n",
       "   500911.885006047): {'irregular_indices': {'time': [datetime.datetime(2000, 9, 15, 15, 2, 55)]}, 'storage_max': (datetime.datetime(2000, 9, 15, 15, 2, 55),\n",
       "    743415.0,\n",
       "    552900.0), 'storage_min': (datetime.datetime(2000, 9, 15, 15, 2, 55),\n",
       "    663480.0,\n",
       "    500911.885006047), 'storage_path': '/dc_storage/LS7_ETM_LEDAPS/LS7_ETM_LEDAPS4_32618_4_6_20000915150255000000.nc', 'storage_shape': (1,\n",
       "    3686,\n",
       "    3686)},\n",
       "  (datetime.datetime(2000, 10, 17, 15, 2, 30),\n",
       "   552900.0,\n",
       "   548874.9566018664): {'irregular_indices': {'time': [datetime.datetime(2000, 10, 17, 15, 2, 30)]}, 'storage_max': (datetime.datetime(2000, 10, 17, 15, 2, 30),\n",
       "    552900.0,\n",
       "    552900.0), 'storage_min': (datetime.datetime(2000, 10, 17, 15, 2, 30),\n",
       "    552321.530486695,\n",
       "    548874.9566018664), 'storage_path': '/dc_storage/LS7_ETM_LEDAPS/LS7_ETM_LEDAPS4_32618_4_4_20001017150230000000.nc', 'storage_shape': (1,\n",
       "    3686,\n",
       "    3686)},\n",
       "  (datetime.datetime(2000, 10, 17, 15, 2, 30),\n",
       "   552900.0,\n",
       "   552900.0): {'irregular_indices': {'time': [datetime.datetime(2000, 10, 17, 15, 2, 30)]}, 'storage_max': (datetime.datetime(2000, 10, 17, 15, 2, 30),\n",
       "    552900.0,\n",
       "    663480.0), 'storage_min': (datetime.datetime(2000, 10, 17, 15, 2, 30),\n",
       "    536429.6954299103,\n",
       "    552900.0), 'storage_path': '/dc_storage/LS7_ETM_LEDAPS/LS7_ETM_LEDAPS4_32618_5_4_20001017150230000000.nc', 'storage_shape': (1,\n",
       "    3686,\n",
       "    3686)},\n",
       "  (datetime.datetime(2000, 10, 17, 15, 2, 30),\n",
       "   552900.0,\n",
       "   663480.0): {'irregular_indices': {'time': [datetime.datetime(2000, 10, 17, 15, 2, 30)]}, 'storage_max': (datetime.datetime(2000, 10, 17, 15, 2, 30),\n",
       "    552900.0,\n",
       "    668339.9944241742), 'storage_min': (datetime.datetime(2000, 10, 17, 15, 2, 30),\n",
       "    536325.3015151902,\n",
       "    663480.0), 'storage_path': '/dc_storage/LS7_ETM_LEDAPS/LS7_ETM_LEDAPS4_32618_6_4_20001017150230000000.nc', 'storage_shape': (1,\n",
       "    3686,\n",
       "    3686)},\n",
       "  (datetime.datetime(2000, 10, 17, 15, 2, 30),\n",
       "   663480.0,\n",
       "   481185.0): {'irregular_indices': {'time': [datetime.datetime(2000, 10, 17, 15, 2, 30)]}, 'storage_max': (datetime.datetime(2000, 10, 17, 15, 2, 30),\n",
       "    663480.0,\n",
       "    552900.0), 'storage_min': (datetime.datetime(2000, 10, 17, 15, 2, 30),\n",
       "    552900.0,\n",
       "    481185.0), 'storage_path': '/dc_storage/LS7_ETM_LEDAPS/LS7_ETM_LEDAPS4_32618_4_5_20001017150230000000.nc', 'storage_shape': (1,\n",
       "    3686,\n",
       "    3686)},\n",
       "  (datetime.datetime(2000, 10, 17, 15, 2, 30),\n",
       "   663480.0,\n",
       "   552900.0): {'irregular_indices': {'time': [datetime.datetime(2000, 10, 17, 15, 2, 30)]}, 'storage_max': (datetime.datetime(2000, 10, 17, 15, 2, 30),\n",
       "    663480.0,\n",
       "    663480.0), 'storage_min': (datetime.datetime(2000, 10, 17, 15, 2, 30),\n",
       "    552900.0,\n",
       "    552900.0), 'storage_path': '/dc_storage/LS7_ETM_LEDAPS/LS7_ETM_LEDAPS4_32618_5_5_20001017150230000000.nc', 'storage_shape': (1,\n",
       "    3686,\n",
       "    3686)},\n",
       "  (datetime.datetime(2000, 10, 17, 15, 2, 30),\n",
       "   663480.0,\n",
       "   663480.0): {'irregular_indices': {'time': [datetime.datetime(2000, 10, 17, 15, 2, 30)]}, 'storage_max': (datetime.datetime(2000, 10, 17, 15, 2, 30),\n",
       "    663480.0,\n",
       "    691890.7673620796), 'storage_min': (datetime.datetime(2000, 10, 17, 15, 2, 30),\n",
       "    552900.0,\n",
       "    663480.0), 'storage_path': '/dc_storage/LS7_ETM_LEDAPS/LS7_ETM_LEDAPS4_32618_6_5_20001017150230000000.nc', 'storage_shape': (1,\n",
       "    3686,\n",
       "    3686)},\n",
       "  (datetime.datetime(2000, 10, 17, 15, 2, 30),\n",
       "   722453.6488486349,\n",
       "   663480.0): {'irregular_indices': {'time': [datetime.datetime(2000, 10, 17, 15, 2, 30)]}, 'storage_max': (datetime.datetime(2000, 10, 17, 15, 2, 30),\n",
       "    722453.6488486349,\n",
       "    703094.4291517255), 'storage_min': (datetime.datetime(2000, 10, 17, 15, 2, 30),\n",
       "    663480.0,\n",
       "    663480.0), 'storage_path': '/dc_storage/LS7_ETM_LEDAPS/LS7_ETM_LEDAPS4_32618_6_6_20001017150230000000.nc', 'storage_shape': (1,\n",
       "    3686,\n",
       "    3686)},\n",
       "  (datetime.datetime(2000, 10, 17, 15, 2, 30),\n",
       "   738272.1219960011,\n",
       "   552900.0): {'irregular_indices': {'time': [datetime.datetime(2000, 10, 17, 15, 2, 30)]}, 'storage_max': (datetime.datetime(2000, 10, 17, 15, 2, 30),\n",
       "    738272.1219960011,\n",
       "    663480.0), 'storage_min': (datetime.datetime(2000, 10, 17, 15, 2, 30),\n",
       "    663480.0,\n",
       "    552900.0), 'storage_path': '/dc_storage/LS7_ETM_LEDAPS/LS7_ETM_LEDAPS4_32618_5_6_20001017150230000000.nc', 'storage_shape': (1,\n",
       "    3686,\n",
       "    3686)},\n",
       "  (datetime.datetime(2000, 10, 17, 15, 2, 30),\n",
       "   743055.0,\n",
       "   502418.9556713224): {'irregular_indices': {'time': [datetime.datetime(2000, 10, 17, 15, 2, 30)]}, 'storage_max': (datetime.datetime(2000, 10, 17, 15, 2, 30),\n",
       "    743055.0,\n",
       "    552900.0), 'storage_min': (datetime.datetime(2000, 10, 17, 15, 2, 30),\n",
       "    663480.0,\n",
       "    502418.9556713224), 'storage_path': '/dc_storage/LS7_ETM_LEDAPS/LS7_ETM_LEDAPS4_32618_4_6_20001017150230000000.nc', 'storage_shape': (1,\n",
       "    3686,\n",
       "    3686)},\n",
       "  (datetime.datetime(2000, 11, 18, 15, 2, 40),\n",
       "   552900.0,\n",
       "   549071.9769055514): {'irregular_indices': {'time': [datetime.datetime(2000, 11, 18, 15, 2, 40)]}, 'storage_max': (datetime.datetime(2000, 11, 18, 15, 2, 40),\n",
       "    552900.0,\n",
       "    552900.0), 'storage_min': (datetime.datetime(2000, 11, 18, 15, 2, 40),\n",
       "    552349.279366556,\n",
       "    549071.9769055514), 'storage_path': '/dc_storage/LS7_ETM_LEDAPS/LS7_ETM_LEDAPS4_32618_4_4_20001118150240000000.nc', 'storage_shape': (1,\n",
       "    3686,\n",
       "    3686)},\n",
       "  (datetime.datetime(2000, 11, 18, 15, 2, 40),\n",
       "   552900.0,\n",
       "   552900.0): {'irregular_indices': {'time': [datetime.datetime(2000, 11, 18, 15, 2, 40)]}, 'storage_max': (datetime.datetime(2000, 11, 18, 15, 2, 40),\n",
       "    552900.0,\n",
       "    663480.0), 'storage_min': (datetime.datetime(2000, 11, 18, 15, 2, 40),\n",
       "    536475.3015151902,\n",
       "    552900.0), 'storage_path': '/dc_storage/LS7_ETM_LEDAPS/LS7_ETM_LEDAPS4_32618_5_4_20001118150240000000.nc', 'storage_shape': (1,\n",
       "    3686,\n",
       "    3686)},\n",
       "  (datetime.datetime(2000, 11, 18, 15, 2, 40),\n",
       "   552900.0,\n",
       "   663480.0): {'irregular_indices': {'time': [datetime.datetime(2000, 11, 18, 15, 2, 40)]}, 'storage_max': (datetime.datetime(2000, 11, 18, 15, 2, 40),\n",
       "    552900.0,\n",
       "    667140.1410709446), 'storage_min': (datetime.datetime(2000, 11, 18, 15, 2, 40),\n",
       "    536492.2526237478,\n",
       "    663480.0), 'storage_path': '/dc_storage/LS7_ETM_LEDAPS/LS7_ETM_LEDAPS4_32618_6_4_20001118150240000000.nc', 'storage_shape': (1,\n",
       "    3686,\n",
       "    3686)},\n",
       "  (datetime.datetime(2000, 11, 18, 15, 2, 40),\n",
       "   663480.0,\n",
       "   479535.0): {'irregular_indices': {'time': [datetime.datetime(2000, 11, 18, 15, 2, 40)]}, 'storage_max': (datetime.datetime(2000, 11, 18, 15, 2, 40),\n",
       "    663480.0,\n",
       "    552900.0), 'storage_min': (datetime.datetime(2000, 11, 18, 15, 2, 40),\n",
       "    552900.0,\n",
       "    479535.0), 'storage_path': '/dc_storage/LS7_ETM_LEDAPS/LS7_ETM_LEDAPS4_32618_4_5_20001118150240000000.nc', 'storage_shape': (1,\n",
       "    3686,\n",
       "    3686)},\n",
       "  (datetime.datetime(2000, 11, 18, 15, 2, 40),\n",
       "   663480.0,\n",
       "   552900.0): {'irregular_indices': {'time': [datetime.datetime(2000, 11, 18, 15, 2, 40)]}, 'storage_max': (datetime.datetime(2000, 11, 18, 15, 2, 40),\n",
       "    663480.0,\n",
       "    663480.0), 'storage_min': (datetime.datetime(2000, 11, 18, 15, 2, 40),\n",
       "    552900.0,\n",
       "    552900.0), 'storage_path': '/dc_storage/LS7_ETM_LEDAPS/LS7_ETM_LEDAPS4_32618_5_5_20001118150240000000.nc', 'storage_shape': (1,\n",
       "    3686,\n",
       "    3686)},\n",
       "  (datetime.datetime(2000, 11, 18, 15, 2, 40),\n",
       "   663480.0,\n",
       "   663480.0): {'irregular_indices': {'time': [datetime.datetime(2000, 11, 18, 15, 2, 40)]}, 'storage_max': (datetime.datetime(2000, 11, 18, 15, 2, 40),\n",
       "    663480.0,\n",
       "    690662.7150884571), 'storage_min': (datetime.datetime(2000, 11, 18, 15, 2, 40),\n",
       "    552900.0,\n",
       "    663480.0), 'storage_path': '/dc_storage/LS7_ETM_LEDAPS/LS7_ETM_LEDAPS4_32618_6_5_20001118150240000000.nc', 'storage_shape': (1,\n",
       "    3686,\n",
       "    3686)},\n",
       "  (datetime.datetime(2000, 11, 18, 15, 2, 40),\n",
       "   722389.3087921146,\n",
       "   663480.0): {'irregular_indices': {'time': [datetime.datetime(2000, 11, 18, 15, 2, 40)]}, 'storage_max': (datetime.datetime(2000, 11, 18, 15, 2, 40),\n",
       "    722389.3087921146,\n",
       "    701834.3809991765), 'storage_min': (datetime.datetime(2000, 11, 18, 15, 2, 40),\n",
       "    663480.0,\n",
       "    663480.0), 'storage_path': '/dc_storage/LS7_ETM_LEDAPS/LS7_ETM_LEDAPS4_32618_6_6_20001118150240000000.nc', 'storage_shape': (1,\n",
       "    3686,\n",
       "    3686)},\n",
       "  (datetime.datetime(2000, 11, 18, 15, 2, 40),\n",
       "   738217.3483002546,\n",
       "   552900.0): {'irregular_indices': {'time': [datetime.datetime(2000, 11, 18, 15, 2, 40)]}, 'storage_max': (datetime.datetime(2000, 11, 18, 15, 2, 40),\n",
       "    738217.3483002546,\n",
       "    663480.0), 'storage_min': (datetime.datetime(2000, 11, 18, 15, 2, 40),\n",
       "    663480.0,\n",
       "    552900.0), 'storage_path': '/dc_storage/LS7_ETM_LEDAPS/LS7_ETM_LEDAPS4_32618_5_6_20001118150240000000.nc', 'storage_shape': (1,\n",
       "    3686,\n",
       "    3686)},\n",
       "  (datetime.datetime(2000, 11, 18, 15, 2, 40),\n",
       "   743235.0,\n",
       "   500845.9525857324): {'irregular_indices': {'time': [datetime.datetime(2000, 11, 18, 15, 2, 40)]}, 'storage_max': (datetime.datetime(2000, 11, 18, 15, 2, 40),\n",
       "    743235.0,\n",
       "    552900.0), 'storage_min': (datetime.datetime(2000, 11, 18, 15, 2, 40),\n",
       "    663480.0,\n",
       "    500845.9525857324), 'storage_path': '/dc_storage/LS7_ETM_LEDAPS/LS7_ETM_LEDAPS4_32618_4_6_20001118150240000000.nc', 'storage_shape': (1,\n",
       "    3686,\n",
       "    3686)},\n",
       "  (datetime.datetime(2002, 1, 17, 14, 54, 58),\n",
       "   552900.0,\n",
       "   720625.9180031285): {'irregular_indices': {'time': [datetime.datetime(2002, 1, 17, 14, 54, 58)]}, 'storage_max': (datetime.datetime(2002, 1, 17, 14, 54, 58),\n",
       "    552900.0,\n",
       "    774060.0), 'storage_min': (datetime.datetime(2002, 1, 17, 14, 54, 58),\n",
       "    545350.6782178762,\n",
       "    720625.9180031285), 'storage_path': '/dc_storage/LS7_ETM_LEDAPS/LS7_ETM_LEDAPS4_32618_6_4_20020117145458000000.nc', 'storage_shape': (1,\n",
       "    3686,\n",
       "    3686)},\n",
       "  (datetime.datetime(2002, 1, 17, 14, 54, 58),\n",
       "   552900.0,\n",
       "   774060.0): {'irregular_indices': {'time': [datetime.datetime(2002, 1, 17, 14, 54, 58)]}, 'storage_max': (datetime.datetime(2002, 1, 17, 14, 54, 58),\n",
       "    552900.0,\n",
       "    836705.6013034558), 'storage_min': (datetime.datetime(2002, 1, 17, 14, 54, 58),\n",
       "    537058.8937352342,\n",
       "    774060.0), 'storage_path': '/dc_storage/LS7_ETM_LEDAPS/LS7_ETM_LEDAPS4_32618_7_4_20020117145458000000.nc', 'storage_shape': (1,\n",
       "    3686,\n",
       "    3686)},\n",
       "  (datetime.datetime(2002, 1, 17, 14, 54, 58),\n",
       "   631676.9280509856,\n",
       "   649215.0): {'irregular_indices': {'time': [datetime.datetime(2002, 1, 17, 14, 54, 58)]}, 'storage_max': (datetime.datetime(2002, 1, 17, 14, 54, 58),\n",
       "    631676.9280509856,\n",
       "    663480.0), 'storage_min': (datetime.datetime(2002, 1, 17, 14, 54, 58),\n",
       "    560973.7407178762,\n",
       "    649215.0), 'storage_path': '/dc_storage/LS7_ETM_LEDAPS/LS7_ETM_LEDAPS4_32618_5_5_20020117145458000000.nc', 'storage_shape': (1,\n",
       "    3686,\n",
       "    3686)},\n",
       "  (datetime.datetime(2002, 1, 17, 14, 54, 58),\n",
       "   663480.0,\n",
       "   663480.0): {'irregular_indices': {'time': [datetime.datetime(2002, 1, 17, 14, 54, 58)]}, 'storage_max': (datetime.datetime(2002, 1, 17, 14, 54, 58),\n",
       "    663480.0,\n",
       "    774060.0), 'storage_min': (datetime.datetime(2002, 1, 17, 14, 54, 58),\n",
       "    552900.0,\n",
       "    663480.0), 'storage_path': '/dc_storage/LS7_ETM_LEDAPS/LS7_ETM_LEDAPS4_32618_6_5_20020117145458000000.nc', 'storage_shape': (1,\n",
       "    3686,\n",
       "    3686)},\n",
       "  (datetime.datetime(2002, 1, 17, 14, 54, 58),\n",
       "   663480.0,\n",
       "   774060.0): {'irregular_indices': {'time': [datetime.datetime(2002, 1, 17, 14, 54, 58)]}, 'storage_max': (datetime.datetime(2002, 1, 17, 14, 54, 58),\n",
       "    663480.0,\n",
       "    859899.3706125566), 'storage_min': (datetime.datetime(2002, 1, 17, 14, 54, 58),\n",
       "    552900.0,\n",
       "    774060.0), 'storage_path': '/dc_storage/LS7_ETM_LEDAPS/LS7_ETM_LEDAPS4_32618_7_5_20020117145458000000.nc', 'storage_shape': (1,\n",
       "    3686,\n",
       "    3686)},\n",
       "  (datetime.datetime(2002, 1, 17, 14, 54, 58),\n",
       "   731744.5850266073,\n",
       "   774060.0): {'irregular_indices': {'time': [datetime.datetime(2002, 1, 17, 14, 54, 58)]}, 'storage_max': (datetime.datetime(2002, 1, 17, 14, 54, 58),\n",
       "    731744.5850266073,\n",
       "    871124.4174202707), 'storage_min': (datetime.datetime(2002, 1, 17, 14, 54, 58),\n",
       "    663480.0,\n",
       "    774060.0), 'storage_path': '/dc_storage/LS7_ETM_LEDAPS/LS7_ETM_LEDAPS4_32618_7_6_20020117145458000000.nc', 'storage_shape': (1,\n",
       "    3686,\n",
       "    3686)},\n",
       "  (datetime.datetime(2002, 1, 17, 14, 54, 58),\n",
       "   743895.0,\n",
       "   670106.5287405503): {'irregular_indices': {'time': [datetime.datetime(2002, 1, 17, 14, 54, 58)]}, 'storage_max': (datetime.datetime(2002, 1, 17, 14, 54, 58),\n",
       "    743895.0,\n",
       "    774060.0), 'storage_min': (datetime.datetime(2002, 1, 17, 14, 54, 58),\n",
       "    663480.0,\n",
       "    670106.5287405503), 'storage_path': '/dc_storage/LS7_ETM_LEDAPS/LS7_ETM_LEDAPS4_32618_6_6_20020117145458000000.nc', 'storage_shape': (1,\n",
       "    3686,\n",
       "    3686)},\n",
       "  (datetime.datetime(2002, 1, 17, 14, 55, 21),\n",
       "   442320.0,\n",
       "   615135.0): {'irregular_indices': {'time': [datetime.datetime(2002, 1, 17, 14, 55, 21)]}, 'storage_max': (datetime.datetime(2002, 1, 17, 14, 55, 21),\n",
       "    442320.0,\n",
       "    663480.0), 'storage_min': (datetime.datetime(2002, 1, 17, 14, 55, 21),\n",
       "    395910.32660494023,\n",
       "    615135.0), 'storage_path': '/dc_storage/LS7_ETM_LEDAPS/LS7_ETM_LEDAPS4_32618_5_3_20020117145521000000.nc', 'storage_shape': (1,\n",
       "    3686,\n",
       "    3686)},\n",
       "  (datetime.datetime(2002, 1, 17, 14, 55, 21),\n",
       "   442320.0,\n",
       "   663480.0): {'irregular_indices': {'time': [datetime.datetime(2002, 1, 17, 14, 55, 21)]}, 'storage_max': (datetime.datetime(2002, 1, 17, 14, 55, 21),\n",
       "    442320.0,\n",
       "    774060.0), 'storage_min': (datetime.datetime(2002, 1, 17, 14, 55, 21),\n",
       "    380179.12606744206,\n",
       "    663480.0), 'storage_path': '/dc_storage/LS7_ETM_LEDAPS/LS7_ETM_LEDAPS4_32618_6_3_20020117145521000000.nc', 'storage_shape': (1,\n",
       "    3686,\n",
       "    3686)},\n",
       "  (datetime.datetime(2002, 1, 17, 14, 55, 21),\n",
       "   442320.0,\n",
       "   774060.0): {'irregular_indices': {'time': [datetime.datetime(2002, 1, 17, 14, 55, 21)]}, 'storage_max': (datetime.datetime(2002, 1, 17, 14, 55, 21),\n",
       "    442320.0,\n",
       "    813323.8507374551), 'storage_min': (datetime.datetime(2002, 1, 17, 14, 55, 21),\n",
       "    376635.2990406365,\n",
       "    774060.0), 'storage_path': '/dc_storage/LS7_ETM_LEDAPS/LS7_ETM_LEDAPS4_32618_7_3_20020117145521000000.nc', 'storage_shape': (1,\n",
       "    3686,\n",
       "    3686)},\n",
       "  (datetime.datetime(2002, 1, 17, 14, 55, 21),\n",
       "   552900.0,\n",
       "   623425.4677799352): {'irregular_indices': {'time': [datetime.datetime(2002, 1, 17, 14, 55, 21)]}, 'storage_max': (datetime.datetime(2002, 1, 17, 14, 55, 21),\n",
       "    552900.0,\n",
       "    663480.0), 'storage_min': (datetime.datetime(2002, 1, 17, 14, 55, 21),\n",
       "    442320.0,\n",
       "    623425.4677799352), 'storage_path': '/dc_storage/LS7_ETM_LEDAPS/LS7_ETM_LEDAPS4_32618_5_4_20020117145521000000.nc', 'storage_shape': (1,\n",
       "    3686,\n",
       "    3686)},\n",
       "  (datetime.datetime(2002, 1, 17, 14, 55, 21),\n",
       "   552900.0,\n",
       "   663480.0): {'irregular_indices': {'time': [datetime.datetime(2002, 1, 17, 14, 55, 21)]}, 'storage_max': (datetime.datetime(2002, 1, 17, 14, 55, 21),\n",
       "    552900.0,\n",
       "    774060.0), 'storage_min': (datetime.datetime(2002, 1, 17, 14, 55, 21),\n",
       "    442320.0,\n",
       "    663480.0), 'storage_path': '/dc_storage/LS7_ETM_LEDAPS/LS7_ETM_LEDAPS4_32618_6_4_20020117145521000000.nc', 'storage_shape': (1,\n",
       "    3686,\n",
       "    3686)},\n",
       "  (datetime.datetime(2002, 1, 17, 14, 55, 21),\n",
       "   552900.0,\n",
       "   774060.0): {'irregular_indices': {'time': [datetime.datetime(2002, 1, 17, 14, 55, 21)]}, 'storage_max': (datetime.datetime(2002, 1, 17, 14, 55, 21),\n",
       "    552900.0,\n",
       "    836606.644627119), 'storage_min': (datetime.datetime(2002, 1, 17, 14, 55, 21),\n",
       "    442320.0,\n",
       "    774060.0), 'storage_path': '/dc_storage/LS7_ETM_LEDAPS/LS7_ETM_LEDAPS4_32618_7_4_20020117145521000000.nc', 'storage_shape': (1,\n",
       "    3686,\n",
       "    3686)},\n",
       "  (datetime.datetime(2002, 1, 17, 14, 55, 21),\n",
       "   566660.6975854243,\n",
       "   774060.0): {'irregular_indices': {'time': [datetime.datetime(2002, 1, 17, 14, 55, 21)]}, 'storage_max': (datetime.datetime(2002, 1, 17, 14, 55, 21),\n",
       "    566660.6975854243,\n",
       "    837345.0), 'storage_min': (datetime.datetime(2002, 1, 17, 14, 55, 21),\n",
       "    552900.0,\n",
       "    774060.0), 'storage_path': '/dc_storage/LS7_ETM_LEDAPS/LS7_ETM_LEDAPS4_32618_7_5_20020117145521000000.nc', 'storage_shape': (1,\n",
       "    3686,\n",
       "    3686)},\n",
       "  (datetime.datetime(2002, 1, 17, 14, 55, 21),\n",
       "   582250.9855506873,\n",
       "   663480.0): {'irregular_indices': {'time': [datetime.datetime(2002, 1, 17, 14, 55, 21)]}, 'storage_max': (datetime.datetime(2002, 1, 17, 14, 55, 21),\n",
       "    582250.9855506873,\n",
       "    774060.0), 'storage_min': (datetime.datetime(2002, 1, 17, 14, 55, 21),\n",
       "    552900.0,\n",
       "    663480.0), 'storage_path': '/dc_storage/LS7_ETM_LEDAPS/LS7_ETM_LEDAPS4_32618_6_5_20020117145521000000.nc', 'storage_shape': (1,\n",
       "    3686,\n",
       "    3686)},\n",
       "  (datetime.datetime(2002, 1, 17, 14, 55, 21),\n",
       "   583605.0,\n",
       "   646986.8559602116): {'irregular_indices': {'time': [datetime.datetime(2002, 1, 17, 14, 55, 21)]}, 'storage_max': (datetime.datetime(2002, 1, 17, 14, 55, 21),\n",
       "    583605.0,\n",
       "    663480.0), 'storage_min': (datetime.datetime(2002, 1, 17, 14, 55, 21),\n",
       "    552900.0,\n",
       "    646986.8559602116), 'storage_path': '/dc_storage/LS7_ETM_LEDAPS/LS7_ETM_LEDAPS4_32618_5_5_20020117145521000000.nc', 'storage_shape': (1,\n",
       "    3686,\n",
       "    3686)},\n",
       "  (datetime.datetime(2002, 1, 26, 14, 48, 49),\n",
       "   552900.0,\n",
       "   893892.1650714416): {'irregular_indices': {'time': [datetime.datetime(2002, 1, 26, 14, 48, 49)]}, 'storage_max': (datetime.datetime(2002, 1, 26, 14, 48, 49),\n",
       "    552900.0,\n",
       "    995220.0), 'storage_min': (datetime.datetime(2002, 1, 26, 14, 48, 49),\n",
       "    538774.386560424,\n",
       "    893892.1650714416), 'storage_path': '/dc_storage/LS7_ETM_LEDAPS/LS7_ETM_LEDAPS4_32618_8_4_20020126144849000000.nc', 'storage_shape': (1,\n",
       "    3686,\n",
       "    3686)},\n",
       "  (datetime.datetime(2002, 1, 26, 14, 48, 49),\n",
       "   552900.0,\n",
       "   995220.0): {'irregular_indices': {'time': [datetime.datetime(2002, 1, 26, 14, 48, 49)]}, 'storage_max': (datetime.datetime(2002, 1, 26, 14, 48, 49),\n",
       "    552900.0,\n",
       "    1007774.3917253163), 'storage_min': (datetime.datetime(2002, 1, 26, 14, 48, 49),\n",
       "    537513.5534028228,\n",
       "    995220.0), 'storage_path': '/dc_storage/LS7_ETM_LEDAPS/LS7_ETM_LEDAPS4_32618_9_4_20020126144849000000.nc', 'storage_shape': (1,\n",
       "    3686,\n",
       "    3686)},\n",
       "  (datetime.datetime(2002, 1, 26, 14, 48, 49),\n",
       "   663480.0,\n",
       "   819937.9223854949): {'irregular_indices': {'time': [datetime.datetime(2002, 1, 26, 14, 48, 49)]}, 'storage_max': (datetime.datetime(2002, 1, 26, 14, 48, 49),\n",
       "    663480.0,\n",
       "    884640.0), 'storage_min': (datetime.datetime(2002, 1, 26, 14, 48, 49),\n",
       "    554189.7986754624,\n",
       "    819937.9223854949), 'storage_path': '/dc_storage/LS7_ETM_LEDAPS/LS7_ETM_LEDAPS4_32618_7_5_20020126144849000000.nc', 'storage_shape': (1,\n",
       "    3686,\n",
       "    3686)},\n",
       "  (datetime.datetime(2002, 1, 26, 14, 48, 49),\n",
       "   663480.0,\n",
       "   884640.0): {'irregular_indices': {'time': [datetime.datetime(2002, 1, 26, 14, 48, 49)]}, 'storage_max': (datetime.datetime(2002, 1, 26, 14, 48, 49),\n",
       "    663480.0,\n",
       "    995220.0), 'storage_min': (datetime.datetime(2002, 1, 26, 14, 48, 49),\n",
       "    552900.0,\n",
       "    884640.0), 'storage_path': '/dc_storage/LS7_ETM_LEDAPS/LS7_ETM_LEDAPS4_32618_8_5_20020126144849000000.nc', 'storage_shape': (1,\n",
       "    3686,\n",
       "    3686)},\n",
       "  (datetime.datetime(2002, 1, 26, 14, 48, 49),\n",
       "   663480.0,\n",
       "   995220.0): {'irregular_indices': {'time': [datetime.datetime(2002, 1, 26, 14, 48, 49)]}, 'storage_max': (datetime.datetime(2002, 1, 26, 14, 48, 49),\n",
       "    663480.0,\n",
       "    1030638.7266278962), 'storage_min': (datetime.datetime(2002, 1, 26, 14, 48, 49),\n",
       "    552900.0,\n",
       "    995220.0), 'storage_path': '/dc_storage/LS7_ETM_LEDAPS/LS7_ETM_LEDAPS4_32618_9_5_20020126144849000000.nc', 'storage_shape': (1,\n",
       "    3686,\n",
       "    3686)},\n",
       "  (datetime.datetime(2002, 1, 26, 14, 48, 49),\n",
       "   725514.0353292441,\n",
       "   995220.0): {'irregular_indices': {'time': [datetime.datetime(2002, 1, 26, 14, 48, 49)]}, 'storage_max': (datetime.datetime(2002, 1, 26, 14, 48, 49),\n",
       "    725514.0353292441,\n",
       "    1041902.2797817109), 'storage_min': (datetime.datetime(2002, 1, 26, 14, 48, 49),\n",
       "    663480.0,\n",
       "    995220.0), 'storage_path': '/dc_storage/LS7_ETM_LEDAPS/LS7_ETM_LEDAPS4_32618_9_6_20020126144849000000.nc', 'storage_shape': (1,\n",
       "    3686,\n",
       "    3686)},\n",
       "  (datetime.datetime(2002, 1, 26, 14, 48, 49),\n",
       "   740697.6132604413,\n",
       "   884640.0): {'irregular_indices': {'time': [datetime.datetime(2002, 1, 26, 14, 48, 49)]}, 'storage_max': (datetime.datetime(2002, 1, 26, 14, 48, 49),\n",
       "    740697.6132604413,\n",
       "    995220.0), 'storage_min': (datetime.datetime(2002, 1, 26, 14, 48, 49),\n",
       "    663480.0,\n",
       "    884640.0), 'storage_path': '/dc_storage/LS7_ETM_LEDAPS/LS7_ETM_LEDAPS4_32618_8_6_20020126144849000000.nc', 'storage_shape': (1,\n",
       "    3686,\n",
       "    3686)},\n",
       "  (datetime.datetime(2002, 1, 26, 14, 48, 49),\n",
       "   744391.7538129131,\n",
       "   840597.1721150831): {'irregular_indices': {'time': [datetime.datetime(2002, 1, 26, 14, 48, 49)]},\n",
       "   'storage_max': (datetime.datetime(2002, 1, 26, 14, 48, 49),\n",
       "    744391.7538129131,\n",
       "    884640.0),\n",
       "   'storage_min': (datetime.datetime(2002, 1, 26, 14, 48, 49),\n",
       "    663480.0,\n",
       "    840597.1721150831),\n",
       "   'storage_path': '/dc_storage/LS7_ETM_LEDAPS/LS7_ETM_LEDAPS4_32618_7_6_20020126144849000000.nc',\n",
       "   'storage_shape': (1, 3686, 3686)},\n",
       "  (datetime.datetime(2002, 3, 6, 14, 55, 29),\n",
       "   442320.0,\n",
       "   614295.6075950973): {'irregular_indices': {'time': [datetime.datetime(2002, 3, 6, 14, 55, 29)]}, 'storage_max': (datetime.datetime(2002, 3, 6, 14, 55, 29),\n",
       "    442320.0,\n",
       "    663480.0), 'storage_min': (datetime.datetime(2002, 3, 6, 14, 55, 29),\n",
       "    396744.16431918973,\n",
       "    614295.6075950973), 'storage_path': '/dc_storage/LS7_ETM_LEDAPS/LS7_ETM_LEDAPS4_32618_5_3_20020306145529000000.nc', 'storage_shape': (1,\n",
       "    3686,\n",
       "    3686)},\n",
       "  (datetime.datetime(2002, 3, 6, 14, 55, 29),\n",
       "   442320.0,\n",
       "   663480.0): {'irregular_indices': {'time': [datetime.datetime(2002, 3, 6, 14, 55, 29)]}, 'storage_max': (datetime.datetime(2002, 3, 6, 14, 55, 29),\n",
       "    442320.0,\n",
       "    774060.0), 'storage_min': (datetime.datetime(2002, 3, 6, 14, 55, 29),\n",
       "    381031.03485267813,\n",
       "    663480.0), 'storage_path': '/dc_storage/LS7_ETM_LEDAPS/LS7_ETM_LEDAPS4_32618_6_3_20020306145529000000.nc', 'storage_shape': (1,\n",
       "    3686,\n",
       "    3686)},\n",
       "  (datetime.datetime(2002, 3, 6, 14, 55, 29),\n",
       "   442320.0,\n",
       "   774060.0): {'irregular_indices': {'time': [datetime.datetime(2002, 3, 6, 14, 55, 29)]}, 'storage_max': (datetime.datetime(2002, 3, 6, 14, 55, 29),\n",
       "    442320.0,\n",
       "    812119.4481775427), 'storage_min': (datetime.datetime(2002, 3, 6, 14, 55, 29),\n",
       "    377641.583592135,\n",
       "    774060.0), 'storage_path': '/dc_storage/LS7_ETM_LEDAPS/LS7_ETM_LEDAPS4_32618_7_3_20020306145529000000.nc', 'storage_shape': (1,\n",
       "    3686,\n",
       "    3686)},\n",
       "  (datetime.datetime(2002, 3, 6, 14, 55, 29),\n",
       "   552900.0,\n",
       "   622299.4539579473): {'irregular_indices': {'time': [datetime.datetime(2002, 3, 6, 14, 55, 29)]}, 'storage_max': (datetime.datetime(2002, 3, 6, 14, 55, 29),\n",
       "    552900.0,\n",
       "    663480.0), 'storage_min': (datetime.datetime(2002, 3, 6, 14, 55, 29),\n",
       "    442320.0,\n",
       "    622299.4539579473), 'storage_path': '/dc_storage/LS7_ETM_LEDAPS/LS7_ETM_LEDAPS4_32618_5_4_20020306145529000000.nc', 'storage_shape': (1,\n",
       "    3686,\n",
       "    3686)},\n",
       "  (datetime.datetime(2002, 3, 6, 14, 55, 29),\n",
       "   552900.0,\n",
       "   663480.0): {'irregular_indices': {'time': [datetime.datetime(2002, 3, 6, 14, 55, 29)]}, 'storage_max': (datetime.datetime(2002, 3, 6, 14, 55, 29),\n",
       "    552900.0,\n",
       "    774060.0), 'storage_min': (datetime.datetime(2002, 3, 6, 14, 55, 29),\n",
       "    442320.0,\n",
       "    663480.0), 'storage_path': '/dc_storage/LS7_ETM_LEDAPS/LS7_ETM_LEDAPS4_32618_6_4_20020306145529000000.nc', 'storage_shape': (1,\n",
       "    3686,\n",
       "    3686)},\n",
       "  (datetime.datetime(2002, 3, 6, 14, 55, 29),\n",
       "   552900.0,\n",
       "   774060.0): {'irregular_indices': {'time': [datetime.datetime(2002, 3, 6, 14, 55, 29)]}, 'storage_max': (datetime.datetime(2002, 3, 6, 14, 55, 29),\n",
       "    552900.0,\n",
       "    835379.8201050968), 'storage_min': (datetime.datetime(2002, 3, 6, 14, 55, 29),\n",
       "    442320.0,\n",
       "    774060.0), 'storage_path': '/dc_storage/LS7_ETM_LEDAPS/LS7_ETM_LEDAPS4_32618_7_4_20020306145529000000.nc', 'storage_shape': (1,\n",
       "    3686,\n",
       "    3686)},\n",
       "  (datetime.datetime(2002, 3, 6, 14, 55, 29),\n",
       "   567538.7504150962,\n",
       "   774060.0): {'irregular_indices': {'time': [datetime.datetime(2002, 3, 6, 14, 55, 29)]}, 'storage_max': (datetime.datetime(2002, 3, 6, 14, 55, 29),\n",
       "    567538.7504150962,\n",
       "    836325.0), 'storage_min': (datetime.datetime(2002, 3, 6, 14, 55, 29),\n",
       "    552900.0,\n",
       "    774060.0), 'storage_path': '/dc_storage/LS7_ETM_LEDAPS/LS7_ETM_LEDAPS4_32618_7_5_20020306145529000000.nc', 'storage_shape': (1,\n",
       "    3686,\n",
       "    3686)},\n",
       "  (datetime.datetime(2002, 3, 6, 14, 55, 29),\n",
       "   583098.9520136028,\n",
       "   663480.0): {'irregular_indices': {'time': [datetime.datetime(2002, 3, 6, 14, 55, 29)]}, 'storage_max': (datetime.datetime(2002, 3, 6, 14, 55, 29),\n",
       "    583098.9520136028,\n",
       "    774060.0), 'storage_min': (datetime.datetime(2002, 3, 6, 14, 55, 29),\n",
       "    552900.0,\n",
       "    663480.0), 'storage_path': '/dc_storage/LS7_ETM_LEDAPS/LS7_ETM_LEDAPS4_32618_6_5_20020306145529000000.nc', 'storage_shape': (1,\n",
       "    3686,\n",
       "    3686)},\n",
       "  (datetime.datetime(2002, 3, 6, 14, 55, 29),\n",
       "   584625.0,\n",
       "   645834.7585881305): {'irregular_indices': {'time': [datetime.datetime(2002, 3, 6, 14, 55, 29)]}, 'storage_max': (datetime.datetime(2002, 3, 6, 14, 55, 29),\n",
       "    584625.0,\n",
       "    663480.0), 'storage_min': (datetime.datetime(2002, 3, 6, 14, 55, 29),\n",
       "    552900.0,\n",
       "    645834.7585881305), 'storage_path': '/dc_storage/LS7_ETM_LEDAPS/LS7_ETM_LEDAPS4_32618_5_5_20020306145529000000.nc', 'storage_shape': (1,\n",
       "    3686,\n",
       "    3686)},\n",
       "  (datetime.datetime(2002, 3, 15, 14, 49, 14),\n",
       "   442320.0,\n",
       "   787416.945106644): {'irregular_indices': {'time': [datetime.datetime(2002, 3, 15, 14, 49, 14)]}, 'storage_max': (datetime.datetime(2002, 3, 15, 14, 49, 14),\n",
       "    442320.0,\n",
       "    884640.0), 'storage_min': (datetime.datetime(2002, 3, 15, 14, 49, 14),\n",
       "    390787.2924142933,\n",
       "    787416.945106644), 'storage_path': '/dc_storage/LS7_ETM_LEDAPS/LS7_ETM_LEDAPS4_32618_7_3_20020315144914000000.nc', 'storage_shape': (1,\n",
       "    3686,\n",
       "    3686)},\n",
       "  (datetime.datetime(2002, 3, 15, 14, 49, 14),\n",
       "   442320.0,\n",
       "   884640.0): {'irregular_indices': {'time': [datetime.datetime(2002, 3, 15, 14, 49, 14)]}, 'storage_max': (datetime.datetime(2002, 3, 15, 14, 49, 14),\n",
       "    442320.0,\n",
       "    985411.7419711292), 'storage_min': (datetime.datetime(2002, 3, 15, 14, 49, 14),\n",
       "    378534.30067904136,\n",
       "    884640.0), 'storage_path': '/dc_storage/LS7_ETM_LEDAPS/LS7_ETM_LEDAPS4_32618_8_3_20020315144914000000.nc', 'storage_shape': (1,\n",
       "    3686,\n",
       "    3686)},\n",
       "  (datetime.datetime(2002, 3, 15, 14, 49, 14),\n",
       "   552900.0,\n",
       "   795285.8915406838): {'irregular_indices': {'time': [datetime.datetime(2002, 3, 15, 14, 49, 14)]}, 'storage_max': (datetime.datetime(2002, 3, 15, 14, 49, 14),\n",
       "    552900.0,\n",
       "    884640.0), 'storage_min': (datetime.datetime(2002, 3, 15, 14, 49, 14),\n",
       "    442320.0,\n",
       "    795285.8915406838), 'storage_path': '/dc_storage/LS7_ETM_LEDAPS/LS7_ETM_LEDAPS4_32618_7_4_20020315144914000000.nc', 'storage_shape': (1,\n",
       "    3686,\n",
       "    3686)},\n",
       "  (datetime.datetime(2002, 3, 15, 14, 49, 14),\n",
       "   552900.0,\n",
       "   884640.0): {'irregular_indices': {'time': [datetime.datetime(2002, 3, 15, 14, 49, 14)]}, 'storage_max': (datetime.datetime(2002, 3, 15, 14, 49, 14),\n",
       "    552900.0,\n",
       "    995220.0), 'storage_min': (datetime.datetime(2002, 3, 15, 14, 49, 14),\n",
       "    442320.0,\n",
       "    884640.0), 'storage_path': '/dc_storage/LS7_ETM_LEDAPS/LS7_ETM_LEDAPS4_32618_8_4_20020315144914000000.nc', 'storage_shape': (1,\n",
       "    3686,\n",
       "    3686)},\n",
       "  (datetime.datetime(2002, 3, 15, 14, 49, 14),\n",
       "   552900.0,\n",
       "   995220.0): {'irregular_indices': {'time': [datetime.datetime(2002, 3, 15, 14, 49, 14)]}, 'storage_max': (datetime.datetime(2002, 3, 15, 14, 49, 14),\n",
       "    552900.0,\n",
       "    1008413.709503536), 'storage_min': (datetime.datetime(2002, 3, 15, 14, 49, 14),\n",
       "    489188.4497056004,\n",
       "    995220.0), 'storage_path': '/dc_storage/LS7_ETM_LEDAPS/LS7_ETM_LEDAPS4_32618_9_4_20020315144914000000.nc', 'storage_shape': (1,\n",
       "    3686,\n",
       "    3686)},\n",
       "  (datetime.datetime(2002, 3, 15, 14, 49, 14),\n",
       "   562046.7690973807,\n",
       "   995220.0): {'irregular_indices': {'time': [datetime.datetime(2002, 3, 15, 14, 49, 14)]}, 'storage_max': (datetime.datetime(2002, 3, 15, 14, 49, 14),\n",
       "    562046.7690973807,\n",
       "    1009661.20497687), 'storage_min': (datetime.datetime(2002, 3, 15, 14, 49, 14),\n",
       "    552900.0,\n",
       "    995220.0), 'storage_path': '/dc_storage/LS7_ETM_LEDAPS/LS7_ETM_LEDAPS4_32618_9_5_20020315144914000000.nc', 'storage_shape': (1,\n",
       "    3686,\n",
       "    3686)},\n",
       "  (datetime.datetime(2002, 3, 15, 14, 49, 14),\n",
       "   577372.984988326,\n",
       "   884640.0): {'irregular_indices': {'time': [datetime.datetime(2002, 3, 15, 14, 49, 14)]}, 'storage_max': (datetime.datetime(2002, 3, 15, 14, 49, 14),\n",
       "    577372.984988326,\n",
       "    995220.0), 'storage_min': (datetime.datetime(2002, 3, 15, 14, 49, 14),\n",
       "    552900.0,\n",
       "    884640.0), 'storage_path': '/dc_storage/LS7_ETM_LEDAPS/LS7_ETM_LEDAPS4_32618_8_5_20020315144914000000.nc', 'storage_shape': (1,\n",
       "    3686,\n",
       "    3686)},\n",
       "  (datetime.datetime(2002, 3, 15, 14, 49, 14),\n",
       "   585604.3201705787,\n",
       "   818393.542133533): {'irregular_indices': {'time': [datetime.datetime(2002, 3, 15, 14, 49, 14)]},\n",
       "   'storage_max': (datetime.datetime(2002, 3, 15, 14, 49, 14),\n",
       "    585604.3201705787,\n",
       "    884640.0),\n",
       "   'storage_min': (datetime.datetime(2002, 3, 15, 14, 49, 14),\n",
       "    552900.0,\n",
       "    818393.542133533),\n",
       "   'storage_path': '/dc_storage/LS7_ETM_LEDAPS/LS7_ETM_LEDAPS4_32618_7_5_20020315144914000000.nc',\n",
       "   'storage_shape': (1, 3686, 3686)},\n",
       "  (datetime.datetime(2016, 4, 29, 15, 10, 7),\n",
       "   0.0,\n",
       "   511829.7893962031): {'irregular_indices': {'time': [datetime.datetime(2016, 4, 29, 15, 10, 7)]}, 'storage_max': (datetime.datetime(2016, 4, 29, 15, 10, 7),\n",
       "    0.0,\n",
       "    552900.0), 'storage_min': (datetime.datetime(2016, 4, 29, 15, 10, 7),\n",
       "    -80804.95790500903,\n",
       "    511829.7893962031), 'storage_path': '/dc_storage/LS7_ETM_LEDAPS/LS7_ETM_LEDAPS4_32618_4_-1_20160429151007000000.nc', 'storage_shape': (1,\n",
       "    3686,\n",
       "    3686)},\n",
       "  (datetime.datetime(2016, 4, 29, 15, 10, 7),\n",
       "   0.0,\n",
       "   552900.0): {'irregular_indices': {'time': [datetime.datetime(2016, 4, 29, 15, 10, 7)]}, 'storage_max': (datetime.datetime(2016, 4, 29, 15, 10, 7),\n",
       "    0.0,\n",
       "    663480.0), 'storage_min': (datetime.datetime(2016, 4, 29, 15, 10, 7),\n",
       "    -97029.65863289151,\n",
       "    552900.0), 'storage_path': '/dc_storage/LS7_ETM_LEDAPS/LS7_ETM_LEDAPS4_32618_5_-1_20160429151007000000.nc', 'storage_shape': (1,\n",
       "    3686,\n",
       "    3686)},\n",
       "  (datetime.datetime(2016, 4, 29, 15, 10, 7),\n",
       "   0.0,\n",
       "   663480.0): {'irregular_indices': {'time': [datetime.datetime(2016, 4, 29, 15, 10, 7)]}, 'storage_max': (datetime.datetime(2016, 4, 29, 15, 10, 7),\n",
       "    0.0,\n",
       "    726855.5265832745), 'storage_min': (datetime.datetime(2016, 4, 29, 15, 10, 7),\n",
       "    -103005.0,\n",
       "    663480.0), 'storage_path': '/dc_storage/LS7_ETM_LEDAPS/LS7_ETM_LEDAPS4_32618_6_-1_20160429151007000000.nc', 'storage_shape': (1,\n",
       "    3686,\n",
       "    3686)},\n",
       "  (datetime.datetime(2016, 4, 29, 15, 10, 7),\n",
       "   87377.75643534139,\n",
       "   663480.0): {'irregular_indices': {'time': [datetime.datetime(2016, 4, 29, 15, 10, 7)]}, 'storage_max': (datetime.datetime(2016, 4, 29, 15, 10, 7),\n",
       "    87377.75643534139,\n",
       "    742784.3503021803), 'storage_min': (datetime.datetime(2016, 4, 29, 15, 10, 7),\n",
       "    0.0,\n",
       "    663480.0), 'storage_path': '/dc_storage/LS7_ETM_LEDAPS/LS7_ETM_LEDAPS4_32618_6_0_20160429151007000000.nc', 'storage_shape': (1,\n",
       "    3686,\n",
       "    3686)},\n",
       "  (datetime.datetime(2016, 4, 29, 15, 10, 7),\n",
       "   103524.35896620019,\n",
       "   552900.0): {'irregular_indices': {'time': [datetime.datetime(2016, 4, 29, 15, 10, 7)]}, 'storage_max': (datetime.datetime(2016, 4, 29, 15, 10, 7),\n",
       "    103524.35896620019,\n",
       "    663480.0), 'storage_min': (datetime.datetime(2016, 4, 29, 15, 10, 7),\n",
       "    0.0,\n",
       "    552900.0), 'storage_path': '/dc_storage/LS7_ETM_LEDAPS/LS7_ETM_LEDAPS4_32618_5_0_20160429151007000000.nc', 'storage_shape': (1,\n",
       "    3686,\n",
       "    3686)},\n",
       "  (datetime.datetime(2016, 4, 29, 15, 10, 7),\n",
       "   103785.0,\n",
       "   527671.0996288843): {'irregular_indices': {'time': [datetime.datetime(2016, 4, 29, 15, 10, 7)]}, 'storage_max': (datetime.datetime(2016, 4, 29, 15, 10, 7),\n",
       "    103785.0,\n",
       "    552900.0), 'storage_min': (datetime.datetime(2016, 4, 29, 15, 10, 7),\n",
       "    0.0,\n",
       "    527671.0996288843), 'storage_path': '/dc_storage/LS7_ETM_LEDAPS/LS7_ETM_LEDAPS4_32618_4_0_20160429151007000000.nc', 'storage_shape': (1,\n",
       "    3686,\n",
       "    3686)}},\n",
       " 'variables': {u'adjacent_cloud_qa': {'datatype_name': u'int16',\n",
       "   'nodata_value': 255},\n",
       "  u'atmos_opacity': {'datatype_name': u'int16', 'nodata_value': -9999},\n",
       "  u'blue': {'datatype_name': u'int16', 'nodata_value': -9999},\n",
       "  u'cf_mask': {'datatype_name': u'int16', 'nodata_value': 255},\n",
       "  u'cf_mask_conf': {'datatype_name': u'int16', 'nodata_value': 255},\n",
       "  u'cloud_qa': {'datatype_name': u'int16', 'nodata_value': 0},\n",
       "  u'cloud_shadow_qa': {'datatype_name': u'int16', 'nodata_value': 0},\n",
       "  u'ddv_qa': {'datatype_name': u'int16', 'nodata_value': 0},\n",
       "  u'fill_qa': {'datatype_name': u'int16', 'nodata_value': 0},\n",
       "  u'green': {'datatype_name': u'int16', 'nodata_value': -9999},\n",
       "  u'land_water_qa': {'datatype_name': u'int16', 'nodata_value': 0},\n",
       "  u'nir': {'datatype_name': u'int16', 'nodata_value': -9999},\n",
       "  u'red': {'datatype_name': u'int16', 'nodata_value': -9999},\n",
       "  u'snow_qa': {'datatype_name': u'int16', 'nodata_value': 0},\n",
       "  u'swir1': {'datatype_name': u'int16', 'nodata_value': -9999},\n",
       "  u'swir2': {'datatype_name': u'int16', 'nodata_value': -9999}}}"
      ]
     },
     "execution_count": 36,
     "metadata": {},
     "output_type": "execute_result"
    }
   ],
   "source": [
    "descriptor"
   ]
  },
  {
   "cell_type": "markdown",
   "metadata": {},
   "source": [
    "**Execute the following code and then use the generated form to choose the extents of your desired data.**"
   ]
  },
  {
   "cell_type": "code",
   "execution_count": 41,
   "metadata": {
    "collapsed": true
   },
   "outputs": [],
   "source": [
    " extent_values = create_extents_gui(min_date_str, max_date_str,\n",
    "                                   min_lon_rounded, max_lon_rounded,\n",
    "                                   min_lat_rounded, max_lat_rounded)"
   ]
  },
  {
   "cell_type": "markdown",
   "metadata": {},
   "source": [
    "**Now that we have filled out the above two forms, we have enough information to query our data cube.** The following code snippet ends with the actual Data Cube query, which will return the dataset with all the data matching our query."
   ]
  },
  {
   "cell_type": "code",
   "execution_count": 44,
   "metadata": {
    "collapsed": false
   },
   "outputs": [],
   "source": [
    "# Save form values\n",
    "start_date = datetime.strptime(extent_values[0].value, '%Y-%m-%d')\n",
    "end_date = datetime.strptime(extent_values[1].value, '%Y-%m-%d')\n",
    "min_lon = extent_values[2].value\n",
    "max_lon = extent_values[3].value\n",
    "min_lat = extent_values[4].value\n",
    "max_lat = extent_values[5].value\n",
    "\n",
    "# Query the Data Cube\n",
    "dataset_in = dc.load(platform=platform,\n",
    "                     product=product,\n",
    "                     time=(start_date, end_date),\n",
    "                     lat=(6,7), \n",
    "                     lon=(-75, -74))"
   ]
  },
  {
   "cell_type": "code",
   "execution_count": 45,
   "metadata": {
    "collapsed": false
   },
   "outputs": [
    {
     "data": {
      "text/plain": [
       "<xarray.Dataset>\n",
       "Dimensions:            (time: 6, x: 3690, y: 3690)\n",
       "Coordinates:\n",
       "  * time               (time) datetime64[ns] 2000-04-08T15:04:44 ...\n",
       "  * y                  (y) float64 7.739e+05 7.738e+05 7.738e+05 7.738e+05 ...\n",
       "  * x                  (x) float64 5e+05 5e+05 5.001e+05 5.001e+05 5.001e+05 ...\n",
       "Data variables:\n",
       "    blue               (time, y, x) int16 -9999 -9999 -9999 -9999 -9999 ...\n",
       "    green              (time, y, x) int16 -9999 -9999 -9999 -9999 -9999 ...\n",
       "    red                (time, y, x) int16 -9999 -9999 -9999 -9999 -9999 ...\n",
       "    nir                (time, y, x) int16 -9999 -9999 -9999 -9999 -9999 ...\n",
       "    swir1              (time, y, x) int16 -9999 -9999 -9999 -9999 -9999 ...\n",
       "    swir2              (time, y, x) int16 -9999 -9999 -9999 -9999 -9999 ...\n",
       "    cf_mask            (time, y, x) int16 255 255 255 255 255 255 255 255 ...\n",
       "    cf_mask_conf       (time, y, x) int16 255 255 255 255 255 255 255 255 ...\n",
       "    adjacent_cloud_qa  (time, y, x) int16 255 255 255 255 255 255 255 255 ...\n",
       "    atmos_opacity      (time, y, x) int16 -9999 -9999 -9999 -9999 -9999 ...\n",
       "    cloud_qa           (time, y, x) int16 0 0 0 0 0 0 0 0 0 0 0 0 0 0 0 0 0 ...\n",
       "    cloud_shadow_qa    (time, y, x) int16 0 0 0 0 0 0 0 0 0 0 0 0 0 0 0 0 0 ...\n",
       "    ddv_qa             (time, y, x) int16 0 0 0 0 0 0 0 0 0 0 0 0 0 0 0 0 0 ...\n",
       "    fill_qa            (time, y, x) int16 0 0 0 0 0 0 0 0 0 0 0 0 0 0 0 0 0 ...\n",
       "    land_water_qa      (time, y, x) int16 0 0 0 0 0 0 0 0 0 0 0 0 0 0 0 0 0 ...\n",
       "    snow_qa            (time, y, x) int16 0 0 0 0 0 0 0 0 0 0 0 0 0 0 0 0 0 ...\n",
       "Attributes:\n",
       "    crs: EPSG:32618"
      ]
     },
     "execution_count": 45,
     "metadata": {},
     "output_type": "execute_result"
    }
   ],
   "source": [
    "dataset_in"
   ]
  },
  {
   "cell_type": "markdown",
   "metadata": {},
   "source": [
    "**At this point, we have finished accessing our data cube and we can turn to analyzing our data.** In this example, we will run the WOfS algorithm. The wofs_classify function, seen below, will return a modified dataset, where a value of 1 indicates the pixel has been classified as water by the WoFS algorithm and 0 represents the pixel is non-water.\n",
    "\n",
    "*****\n",
    "\n",
    "For more information on the WOfS algorithm, refer to:\n",
    "\n",
    "Mueller, et al. (2015) \"Water observations from space: Mapping surface water from 25 years of Landsat imagery across Australia.\" *Remote Sensing of Environment*."
   ]
  },
  {
   "cell_type": "code",
   "execution_count": 46,
   "metadata": {
    "collapsed": false
   },
   "outputs": [
    {
     "name": "stderr",
     "output_type": "stream",
     "text": [
      "/home/developer/anaconda2/lib/python2.7/site-packages/numpy/core/numeric.py:301: FutureWarning: in the future, full((6, 3690, 3690), -9999) will return an array of dtype('int64')\n",
      "  format(shape, fill_value, array(fill_value).dtype), FutureWarning)\n"
     ]
    },
    {
     "ename": "AttributeError",
     "evalue": "'Dataset' object has no attribute 'latitude'",
     "output_type": "error",
     "traceback": [
      "\u001b[1;31m---------------------------------------------------------------------------\u001b[0m",
      "\u001b[1;31mAttributeError\u001b[0m                            Traceback (most recent call last)",
      "\u001b[1;32m<ipython-input-46-67b7efee915c>\u001b[0m in \u001b[0;36m<module>\u001b[1;34m()\u001b[0m\n\u001b[1;32m----> 1\u001b[1;33m \u001b[0mwater_class\u001b[0m \u001b[1;33m=\u001b[0m \u001b[0mwofs_classify\u001b[0m\u001b[1;33m(\u001b[0m\u001b[0mdataset_in\u001b[0m\u001b[1;33m)\u001b[0m\u001b[1;33m\u001b[0m\u001b[0m\n\u001b[0m",
      "\u001b[1;32m/home/developer/notebooks/dc_water_classifier.pyc\u001b[0m in \u001b[0;36mwofs_classify\u001b[1;34m(dataset_in, clean_mask, no_data, enforce_float64)\u001b[0m\n\u001b[0;32m    247\u001b[0m     \u001b[1;31m# Create xarray of data\u001b[0m\u001b[1;33m\u001b[0m\u001b[1;33m\u001b[0m\u001b[0m\n\u001b[0;32m    248\u001b[0m     \u001b[0mtime\u001b[0m \u001b[1;33m=\u001b[0m \u001b[0mdataset_in\u001b[0m\u001b[1;33m.\u001b[0m\u001b[0mtime\u001b[0m\u001b[1;33m\u001b[0m\u001b[0m\n\u001b[1;32m--> 249\u001b[1;33m     \u001b[0mlatitude\u001b[0m \u001b[1;33m=\u001b[0m \u001b[0mdataset_in\u001b[0m\u001b[1;33m.\u001b[0m\u001b[0mlatitude\u001b[0m\u001b[1;33m\u001b[0m\u001b[0m\n\u001b[0m\u001b[0;32m    250\u001b[0m     \u001b[0mlongitude\u001b[0m \u001b[1;33m=\u001b[0m \u001b[0mdataset_in\u001b[0m\u001b[1;33m.\u001b[0m\u001b[0mlongitude\u001b[0m\u001b[1;33m\u001b[0m\u001b[0m\n\u001b[0;32m    251\u001b[0m \u001b[1;33m\u001b[0m\u001b[0m\n",
      "\u001b[1;32m/home/developer/anaconda2/lib/python2.7/site-packages/xarray-0.7.2-py2.7.egg/xarray/core/common.pyc\u001b[0m in \u001b[0;36m__getattr__\u001b[1;34m(self, name)\u001b[0m\n\u001b[0;32m    192\u001b[0m                     \u001b[1;32mreturn\u001b[0m \u001b[0msource\u001b[0m\u001b[1;33m[\u001b[0m\u001b[0mname\u001b[0m\u001b[1;33m]\u001b[0m\u001b[1;33m\u001b[0m\u001b[0m\n\u001b[0;32m    193\u001b[0m         raise AttributeError(\"%r object has no attribute %r\" %\n\u001b[1;32m--> 194\u001b[1;33m                              (type(self).__name__, name))\n\u001b[0m\u001b[0;32m    195\u001b[0m \u001b[1;33m\u001b[0m\u001b[0m\n\u001b[0;32m    196\u001b[0m     \u001b[1;32mdef\u001b[0m \u001b[0m__setattr__\u001b[0m\u001b[1;33m(\u001b[0m\u001b[0mself\u001b[0m\u001b[1;33m,\u001b[0m \u001b[0mname\u001b[0m\u001b[1;33m,\u001b[0m \u001b[0mvalue\u001b[0m\u001b[1;33m)\u001b[0m\u001b[1;33m:\u001b[0m\u001b[1;33m\u001b[0m\u001b[0m\n",
      "\u001b[1;31mAttributeError\u001b[0m: 'Dataset' object has no attribute 'latitude'"
     ]
    }
   ],
   "source": [
    "water_class = wofs_classify(dataset_in)"
   ]
  },
  {
   "cell_type": "markdown",
   "metadata": {},
   "source": [
    "**Execute the following code and then use the generated form to choose your desired acquisition date.** The following two code blocks are only necessary if you would like to see the water mask of a single acquisition date. "
   ]
  },
  {
   "cell_type": "code",
   "execution_count": 10,
   "metadata": {
    "collapsed": false
   },
   "outputs": [],
   "source": [
    "acq_dates = list(water_class.time.values.astype(str))\n",
    "acq_date_input = create_acq_date_gui(acq_dates)"
   ]
  },
  {
   "cell_type": "code",
   "execution_count": 11,
   "metadata": {
    "collapsed": false
   },
   "outputs": [
    {
     "data": {
      "image/png": "[encoded data removed]",
      "text/plain": [
       "<matplotlib.figure.Figure at 0x7f93c480b8d0>"
      ]
     },
     "metadata": {},
     "output_type": "display_data"
    }
   ],
   "source": [
    "# Save form value\n",
    "acq_date = acq_date_input.value\n",
    "acq_date_index = acq_dates.index(acq_date)\n",
    "\n",
    "# Get water class for selected acquisition date and mask no data values\n",
    "water_class_for_acq_date = water_class.wofs[acq_date_index]\n",
    "water_class_for_acq_date.values = water_class_for_acq_date.values.astype('float')\n",
    "water_class_for_acq_date.values[water_class_for_acq_date.values == -9999] = np.nan\n",
    "\n",
    "water_observations_for_acq_date_plot = water_class_for_acq_date.plot(cmap='BuPu')"
   ]
  },
  {
   "cell_type": "markdown",
   "metadata": {},
   "source": [
    "**With all of the pixels classified as either water/non-water, let's perform a time series analysis over our derived water class.** The function, perform_timeseries_analysis, takes in a dataset of 3 dimensions (time, latitude, and longitude), then sums the values of each pixel over time. It also keeps track of the number of clear observations we have at each pixel. We can then normalize each pixel to determine areas at risk of flooding. The normalization calculation is simply:\n",
    "\n",
    "$$normalized\\_water\\_observations = \\dfrac{total\\_water\\_observations}{total\\_clear\\_observations}$$.\n",
    "\n",
    "The output each of the three calculations can be seen below."
   ]
  },
  {
   "cell_type": "code",
   "execution_count": 12,
   "metadata": {
    "collapsed": false
   },
   "outputs": [],
   "source": [
    "time_series = perform_timeseries_analysis(water_class)"
   ]
  },
  {
   "cell_type": "markdown",
   "metadata": {},
   "source": [
    "**The following plots visualize the results of our timeseries analysis.** You may change the color scales with the cmap option. For color scales available for use by cmap, see http://matplotlib.org/examples/color/colormaps_reference.html. You can also define discrete color scales by using the levels and colors. For example:\n",
    "\n",
    "* normalized_water_observations_plot = normalized_water_observations.plot(levels=3, colors=['#E5E5FF', '#4C4CFF', '#0000FF'])\n",
    "* normalized_water_observations_plot = normalized_water_observations.plot(levels=[0.00, 0.50, 1.01], colors=['#E5E5FF', '#0000FF'])\n",
    "\n",
    "For more examples on how you can modify plots, see http://xarray.pydata.org/en/stable/plotting.html."
   ]
  },
  {
   "cell_type": "code",
   "execution_count": 13,
   "metadata": {
    "collapsed": false
   },
   "outputs": [
    {
     "data": {
      "image/png": "[encoded data removed]",
      "text/plain": [
       "<matplotlib.figure.Figure at 0x7f93c53b7dd0>"
      ]
     },
     "metadata": {},
     "output_type": "display_data"
    }
   ],
   "source": [
    "normalized_water_observations_plot = time_series.normalized_data.plot(cmap='dc_au_WaterSummary')"
   ]
  },
  {
   "cell_type": "code",
   "execution_count": 14,
   "metadata": {
    "collapsed": false
   },
   "outputs": [
    {
     "data": {
      "image/png": "[encoded data removed]",
      "text/plain": [
       "<matplotlib.figure.Figure at 0x7f93c429c250>"
      ]
     },
     "metadata": {},
     "output_type": "display_data"
    }
   ],
   "source": [
    "total_water_observations_plot = time_series.total_data.plot(cmap='dc_au_WaterObservations')"
   ]
  },
  {
   "cell_type": "code",
   "execution_count": 15,
   "metadata": {
    "collapsed": false
   },
   "outputs": [
    {
     "data": {
      "image/png": "[encoded data removed]",
      "text/plain": [
       "<matplotlib.figure.Figure at 0x7f93c4083b50>"
      ]
     },
     "metadata": {},
     "output_type": "display_data"
    }
   ],
   "source": [
    "total_clear_observations_plot = time_series.total_clean.plot(cmap='dc_au_ClearObservations')"
   ]
  },
  {
   "cell_type": "code",
   "execution_count": null,
   "metadata": {
    "collapsed": true
   },
   "outputs": [],
   "source": []
  }
 ],
 "metadata": {
  "anaconda-cloud": {},
  "kernelspec": {
   "display_name": "Python [default]",
   "language": "python",
   "name": "python2"
  },
  "language_info": {
   "codemirror_mode": {
    "name": "ipython",
    "version": 2
   },
   "file_extension": ".py",
   "mimetype": "text/x-python",
   "name": "python",
   "nbconvert_exporter": "python",
   "pygments_lexer": "ipython2",
   "version": "2.7.11"
  },
  "widgets": {
   "state": {
    "08dd9b7c3d0d4fffa60adac83d363bfa": {
     "views": [
      {
       "cell_index": 13
      }
     ]
    },
    "0b66c62c0c1b4a6080bdf05301c17674": {
     "views": [
      {
       "cell_index": 13
      }
     ]
    },
    "0c9c607d3bac4b34a43aff0c8ff7822d": {
     "views": [
      {
       "cell_index": 13
      }
     ]
    },
    "0edd96664569462a875b59ffc2d50687": {
     "views": [
      {
       "cell_index": 13
      }
     ]
    },
    "29a3c0cb10434403bf7dff57df258780": {
     "views": [
      {
       "cell_index": 13
      }
     ]
    },
    "2ab4f07a524f4409bfe8e953dede8127": {
     "views": [
      {
       "cell_index": 13
      }
     ]
    },
    "4a121bd0e302484a8016729babc595ed": {
     "views": [
      {
       "cell_index": 13
      }
     ]
    },
    "4aacf1990584438882b7d42ff40647c7": {
     "views": [
      {
       "cell_index": 13
      }
     ]
    },
    "4b70a8ca131d4d95ad10d5613c116125": {
     "views": [
      {
       "cell_index": 8
      }
     ]
    },
    "5ed8231f41ff46038bc7503d96d4bb23": {
     "views": [
      {
       "cell_index": 13
      }
     ]
    },
    "68dc19fdb7b048ec830fc8fa217e4098": {
     "views": [
      {
       "cell_index": 13
      }
     ]
    },
    "6ca79ab857f94433af1e0879e234181a": {
     "views": [
      {
       "cell_index": 12
      }
     ]
    },
    "6e4143c02dbf46a6a8da3bd4e2fac4e1": {
     "views": [
      {
       "cell_index": 13
      }
     ]
    },
    "734a6c43c1df44a29ef4ac9335a67fe4": {
     "views": [
      {
       "cell_index": 13
      }
     ]
    },
    "77a4c6356cfa4328aedb4d9bb7ec9be9": {
     "views": [
      {
       "cell_index": 13
      }
     ]
    },
    "7afdf4d7dcda4d95b3c8a38ca181f185": {
     "views": [
      {
       "cell_index": 8
      }
     ]
    },
    "85252dc2159b424eaa212c72636df827": {
     "views": [
      {
       "cell_index": 12
      }
     ]
    },
    "88c1ac712a1546bb9070bf034c73f514": {
     "views": [
      {
       "cell_index": 8
      }
     ]
    },
    "9bccd6629d984310a2317a078221376a": {
     "views": [
      {
       "cell_index": 8
      }
     ]
    },
    "aad959a04de240f8b795707759d3afb1": {
     "views": [
      {
       "cell_index": 13
      }
     ]
    },
    "b3ece3a4c1654f8fbbe193c3a3028162": {
     "views": [
      {
       "cell_index": 13
      }
     ]
    },
    "baa51a19bb144e8e9b0a26ea79793a37": {
     "views": [
      {
       "cell_index": 12
      }
     ]
    },
    "bf0109228c6d4132b4b6412d4b03aa06": {
     "views": [
      {
       "cell_index": 13
      }
     ]
    },
    "c1eec0da0e514a79b45f325ba71e3238": {
     "views": [
      {
       "cell_index": 13
      }
     ]
    },
    "c59e8f5945b64f75a4c46953ec0c757e": {
     "views": [
      {
       "cell_index": 13
      }
     ]
    },
    "c62c3520c6414c1e89afed05abc53e46": {
     "views": [
      {
       "cell_index": 13
      }
     ]
    },
    "c768b98ed6ac482b8f1069ef99286b52": {
     "views": [
      {
       "cell_index": 13
      }
     ]
    },
    "ca4b219b9d634ab99278580493909f97": {
     "views": [
      {
       "cell_index": 12
      }
     ]
    },
    "d0306a5a3373404cb5eb2a8f739c8265": {
     "views": [
      {
       "cell_index": 8
      }
     ]
    },
    "d19ce8281a904a84a73c76313519de61": {
     "views": [
      {
       "cell_index": 13
      }
     ]
    },
    "dc885f9ddd8045a69c48eb1fae4014fc": {
     "views": [
      {
       "cell_index": 12
      }
     ]
    },
    "de1457e95f7a4ecfa8b3278851689120": {
     "views": [
      {
       "cell_index": 13
      }
     ]
    },
    "e07aed687ba44e2b841c4660f75aae95": {
     "views": [
      {
       "cell_index": 13
      }
     ]
    },
    "e8381f85e1c44520969377cb61503b8b": {
     "views": [
      {
       "cell_index": 8
      }
     ]
    },
    "eddf6050118148159e7f426fdd9a0916": {
     "views": [
      {
       "cell_index": 12
      }
     ]
    },
    "ef7a363c1dc042b2a4feed3257124ea3": {
     "views": [
      {
       "cell_index": 13
      }
     ]
    }
   },
   "version": "1.2.0"
  }
 },
 "nbformat": 4,
 "nbformat_minor": 0
}
