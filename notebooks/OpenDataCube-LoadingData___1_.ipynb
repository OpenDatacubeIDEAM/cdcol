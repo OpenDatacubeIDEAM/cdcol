{
 "cells": [
  {
   "cell_type": "code",
   "execution_count": null,
   "metadata": {},
   "outputs": [],
   "source": [
    "import datacube\n",
    "dc = datacube.Datacube(app=\"OpenDataCube_Testing_Load\")"
   ]
  },
  {
   "cell_type": "code",
   "execution_count": null,
   "metadata": {},
   "outputs": [],
   "source": [
    "#Tile query\n",
    "xarr_tile=dc.load(product=\"LS8_OLI_LASRC\", longitude=(-72, -71), latitude=(3,4), \n",
    "                  time=(\"2016-01-01\",\"2016-02-29\"), measurements=['blue','green','red'])\n",
    "print(xarr_tile['blue'].shape)\n",
    "\n",
    "#Piece of ingested image query\n",
    "xarr_piece_ingested=dc.load(product=\"LS8_OLI_LASRC\", longitude=(-71.81827, -70.87436), latitude=(2.849349, 3.797007), \n",
    "                            time=(\"2016-01-25 15:00:27\",\"2016-01-25 15:00:27\"), measurements=['blue','green','red'])\n",
    "print(xarr_piece_ingested['blue'].shape)\n",
    "\n",
    "#Tile query starting from .5\n",
    "xarr_tile_5=dc.load(product=\"LS8_OLI_LASRC\", longitude= (-71.5, -70.5), latitude=(2.5, 3.5), \n",
    "                    time=(\"2016-01-01\",\"2016-02-29\"), measurements=['blue','green','red'])\n",
    "print(xarr_tile_5['blue'].shape)\n",
    "\n",
    "#piece of ingested image starting from .5\n",
    "xarr_piece_ingested_5=dc.load(product=\"LS8_OLI_LASRC\", longitude= (-71.5, -70.5), latitude=(2.5, 3.5), \n",
    "                    time=(\"2016-01-25 15:00:27\",\"2016-01-25 15:00:27\"), measurements=['blue','green','red'])\n",
    "print(xarr_piece_ingested_5['blue'].shape)\n",
    "\n"
   ]
  },
  {
   "cell_type": "code",
   "execution_count": null,
   "metadata": {},
   "outputs": [],
   "source": [
    "from datacube.drivers.netcdf import writer as netcdf_writer\n",
    "from datacube.utils.geometry import CRS\n",
    "from datacube.utils import geometry, data_resolution_and_offset\n",
    "import xarray as xr\n",
    "import numpy as np\n",
    "nodata=-9999\n",
    "def saveNC(output,filename,history):\n",
    "    nco=netcdf_writer.create_netcdf(filename)\n",
    "    nco.history = (history.encode('ascii','replace'))\n",
    "\n",
    "    coords=output.coords\n",
    "    cnames=()\n",
    "    for x in coords:\n",
    "        if not 'units' in coords[x].attrs:\n",
    "            if x == \"time\":\n",
    "                coords[x].attrs[\"units\"]=u\"seconds since 1970-01-01 00:00:00\"\n",
    "        netcdf_writer.create_coordinate(nco, x, coords[x].values, coords[x].units)\n",
    "        cnames=cnames+(x,)\n",
    "    _crs=output.crs\n",
    "    if isinstance(_crs, xr.DataArray):\n",
    "        _crs=CRS(str(_crs.spatial_ref))\n",
    "    netcdf_writer.create_grid_mapping_variable(nco, _crs)\n",
    "    for band in output.data_vars:\n",
    "        #Para evitar problemas con xarray <0.11\n",
    "        if band in coords.keys() or band == 'crs':\n",
    "            continue\n",
    "        output.data_vars[band].values[np.isnan(output.data_vars[band].values)]=nodata\n",
    "        var= netcdf_writer.create_variable(nco, band, netcdf_writer.Variable(output.data_vars[band].dtype, nodata, cnames, None) ,set_crs=True)\n",
    "        var[:] = netcdf_writer.netcdfy_data(output.data_vars[band].values)\n",
    "    nco.close()"
   ]
  },
  {
   "cell_type": "code",
   "execution_count": null,
   "metadata": {},
   "outputs": [],
   "source": [
    "#saving querys\n",
    "history = u'Creado con CDCOL y el Open Data Cube'\n",
    "saveNC(xarr_tile,\"/home/cubo/jupyter/odc_testing_query_tile.nc\",history)\n",
    "saveNC(xarr_piece_ingested,\"/home/cubo/jupyter/odc_testing_query_piece_ingested.nc\",history)\n",
    "saveNC(xarr_tile_5,\"/home/cubo/jupyter/odc_testing_query_tile_5.nc\",history)\n",
    "saveNC(xarr_piece_ingested_5,\"/home/cubo/jupyter/odc_testing_query_piece_ingested_5.nc\",history)"
   ]
  },
  {
   "cell_type": "code",
   "execution_count": null,
   "metadata": {},
   "outputs": [],
   "source": []
  }
 ],
 "metadata": {
  "kernelspec": {
   "display_name": "Python 3",
   "language": "python",
   "name": "python3"
  },
  "language_info": {
   "codemirror_mode": {
    "name": "ipython",
    "version": 3
   },
   "file_extension": ".py",
   "mimetype": "text/x-python",
   "name": "python",
   "nbconvert_exporter": "python",
   "pygments_lexer": "ipython3",
   "version": "3.6.8"
  }
 },
 "nbformat": 4,
 "nbformat_minor": 2
}
