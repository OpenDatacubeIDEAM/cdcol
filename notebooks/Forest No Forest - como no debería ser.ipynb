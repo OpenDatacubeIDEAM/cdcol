{
 "cells": [
  {
   "cell_type": "markdown",
   "metadata": {},
   "source": [
    "# Clasificación temática - Bosque/no bosque\n",
    "Implementación de generación del mapa de clasificación temática utilizando las consultas a bajo nivel que ofrece el cubo. \n",
    "## Parámetros"
   ]
  },
  {
   "cell_type": "code",
   "execution_count": 16,
   "metadata": {
    "collapsed": true
   },
   "outputs": [],
   "source": [
    "%matplotlib inline\n",
    "longs=(-75, -74)\n",
    "lats=(5, 6)\n",
    "normalized=True\n",
    "time_range=(\"2000-01-01\",\"2000-12-31\")\n",
    "bands=[\"blue\",\"green\",\"red\",\"nir\", \"swir1\",\"swir2\"]\n",
    "pdct='ls7_ledaps_utm'\n",
    "vegetation_rate = 0.7\n",
    "ndvi_threshold = 0.3\n",
    "slice_size = 3\n",
    "ok_pixels = 1"
   ]
  },
  {
   "cell_type": "markdown",
   "metadata": {},
   "source": [
    "## CONSULTA"
   ]
  },
  {
   "cell_type": "code",
   "execution_count": 17,
   "metadata": {
    "collapsed": true
   },
   "outputs": [],
   "source": [
    "import datacube\n",
    "import numpy as np\n",
    "dc = datacube.Datacube(app='dc-prueba2')\n",
    "minValid=1;\n",
    "nbar = dc.load(product=pdct, longitude=longs, latitude=lats, time=time_range)"
   ]
  },
  {
   "cell_type": "markdown",
   "metadata": {
    "collapsed": true
   },
   "source": [
    "## Medianas"
   ]
  },
  {
   "cell_type": "code",
   "execution_count": 18,
   "metadata": {
    "collapsed": false
   },
   "outputs": [],
   "source": [
    "nodata=-9999\n",
    "medians={}\n",
    "for band in bands:\n",
    "    \n",
    "    datos=np.where(nbar.data_vars[band]!=-9999,nbar.data_vars[band], np.nan)\n",
    "    allNan=~np.isnan(datos)\n",
    "    if normalized:\n",
    "        m=np.nanmean(datos.reshape((datos.shape[0],-1)), axis=1)\n",
    "        st=np.nanstd(datos.reshape((datos.shape[0],-1)), axis=1)\n",
    "        datos=np.true_divide((datos-m[:,np.newaxis,np.newaxis]), st[:,np.newaxis,np.newaxis])*np.nanmean(st)+np.nanmean(m)\n",
    "    medians[band]=np.nanmedian(datos,0)\n",
    "    medians[band][np.sum(allNan,0)<minValid]=np.nan\n",
    "del datos    "
   ]
  },
  {
   "cell_type": "markdown",
   "metadata": {},
   "source": [
    "## NDVI"
   ]
  },
  {
   "cell_type": "code",
   "execution_count": 19,
   "metadata": {
    "collapsed": false
   },
   "outputs": [],
   "source": [
    "period_red = medians[\"red\"]\n",
    "period_nir = medians[\"nir\"]\n",
    "del medians\n",
    "mask_nan=np.logical_or(np.isnan(period_red), np.isnan(period_nir))\n",
    "period_nvdi = np.true_divide( np.subtract(period_nir,period_red) , np.add(period_nir,period_red) )\n",
    "period_nvdi[mask_nan]=np.nan"
   ]
  },
  {
   "cell_type": "markdown",
   "metadata": {},
   "source": [
    "## Bosque/no bosque"
   ]
  },
  {
   "cell_type": "code",
   "execution_count": 20,
   "metadata": {
    "collapsed": false
   },
   "outputs": [],
   "source": [
    "height = period_nvdi.shape[0]\n",
    "width = period_nvdi.shape[1]\n",
    "bosque_nobosque=np.full(period_nvdi.shape, -1)\n",
    "for y1 in xrange(0, height, slice_size):\n",
    "    for x1 in xrange(0, width, slice_size):\n",
    "        x2 = x1 + slice_size\n",
    "        y2 = y1 + slice_size\n",
    "        if(x2 > width):\n",
    "            x2 = width\n",
    "        if(y2 > height):\n",
    "            y2 = height\n",
    "        submatrix = period_nvdi[y1:y2,x1:x2]\n",
    "        ok_pixels = np.count_nonzero(~np.isnan(submatrix))\n",
    "        if ok_pixels==0:\n",
    "            bosque_nobosque[y1:y2,x1:x2] = nodata    \n",
    "        elif float(np.nansum(submatrix>ndvi_threshold))/float(ok_pixels) >= vegetation_rate :\n",
    "            bosque_nobosque[y1:y2,x1:x2] = 1\n",
    "        else:\n",
    "            bosque_nobosque[y1:y2,x1:x2] = 0"
   ]
  },
  {
   "cell_type": "markdown",
   "metadata": {},
   "source": [
    "## Guardar a archivo NetCDF el NDVI "
   ]
  },
  {
   "cell_type": "code",
   "execution_count": 21,
   "metadata": {
    "collapsed": true
   },
   "outputs": [],
   "source": [
    "from datacube.storage import netcdf_writer\n",
    "from datacube.model import Variable, CRS\n",
    "nco=netcdf_writer.create_netcdf(\"ndvi_bnb_2000.nc\")\n",
    "cords=('latitude', 'longitude','time')\n",
    "for x in cords:\n",
    "    if(x!=\"time\"):\n",
    "        netcdf_writer.create_coordinate(nco, x, nbar.coords[x].values, nbar.coords[x].units)\n",
    "    else:\n",
    "        netcdf_writer.create_coordinate(nco, x, np.array([\"t1-t2\"]), \"period\")\n",
    "netcdf_writer.create_grid_mapping_variable(nco, nbar.crs)\n",
    "period_nvdi[np.isnan(period_nvdi)]=nodata\n",
    "var= netcdf_writer.create_variable(nco, 'ndvi', Variable(np.dtype(np.float32), nodata, ('time','latitude', 'longitude'), None) ,set_crs=True)\n",
    "var[:] = netcdf_writer.netcdfy_data(period_nvdi)\n",
    "nco.close()"
   ]
  },
  {
   "cell_type": "markdown",
   "metadata": {},
   "source": [
    "## Guardar a NetCDF el mapa temático"
   ]
  },
  {
   "cell_type": "code",
   "execution_count": 22,
   "metadata": {
    "collapsed": true
   },
   "outputs": [],
   "source": [
    "from datacube.storage import netcdf_writer\n",
    "from datacube.model import Variable, CRS\n",
    "nco=netcdf_writer.create_netcdf(\"bnb_2000.nc\")\n",
    "cords=('latitude', 'longitude','time')\n",
    "for x in cords:\n",
    "    if(x!=\"time\"):\n",
    "        netcdf_writer.create_coordinate(nco, x, nbar.coords[x].values, nbar.coords[x].units)\n",
    "    else:\n",
    "        netcdf_writer.create_coordinate(nco, x, np.array([\"t1-t2\"]), \"period\")\n",
    "netcdf_writer.create_grid_mapping_variable(nco, nbar.crs)\n",
    "var= netcdf_writer.create_variable(nco, 'bosque-noBosque', Variable(np.dtype(np.int16), nodata, ('time','latitude', 'longitude'), None) ,set_crs=True)\n",
    "var[:] = netcdf_writer.netcdfy_data(bosque_nobosque)\n",
    "nco.close()"
   ]
  },
  {
   "cell_type": "code",
   "execution_count": null,
   "metadata": {
    "collapsed": true
   },
   "outputs": [],
   "source": []
  }
 ],
 "metadata": {
  "kernelspec": {
   "display_name": "Python 2",
   "language": "python",
   "name": "python2"
  },
  "language_info": {
   "codemirror_mode": {
    "name": "ipython",
    "version": 2
   },
   "file_extension": ".py",
   "mimetype": "text/x-python",
   "name": "python",
   "nbconvert_exporter": "python",
   "pygments_lexer": "ipython2",
   "version": "2.7.11"
  }
 },
 "nbformat": 4,
 "nbformat_minor": 0
}
