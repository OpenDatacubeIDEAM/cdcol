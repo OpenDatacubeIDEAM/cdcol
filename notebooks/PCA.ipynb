{
 "cells": [
  {
   "cell_type": "code",
   "execution_count": 1,
   "metadata": {
    "collapsed": false
   },
   "outputs": [],
   "source": [
    "import datacube\n",
    "import numpy as np\n",
    "from datacube.storage import netcdf_writer\n",
    "from datacube.model import Variable, CRS\n",
    "import os\n",
    "import re\n",
    "import xarray as xr"
   ]
  },
  {
   "cell_type": "markdown",
   "metadata": {},
   "source": [
    "# Parámetros\n"
   ]
  },
  {
   "cell_type": "code",
   "execution_count": 2,
   "metadata": {
    "collapsed": true
   },
   "outputs": [],
   "source": [
    "execID=\"PCA\"\n",
    "algorithm = \"PCA\"\n",
    "version= 1\n",
    "min_long = -74\n",
    "min_lat = 0\n",
    "time_ranges = [(\"2014-01-01\", \"2014-12-31\"), (\"2015-01-01\", \"2015-12-31\")]\n",
    "product = 'LS8_OLI_LEDAPS'\n",
    "bands = [\"blue\", \"green\", \"red\", \"nir\", \"swir1\", \"swir2\"]\n",
    "normalized=True\n",
    "minValid=1"
   ]
  },
  {
   "cell_type": "markdown",
   "metadata": {},
   "source": [
    "# Consulta"
   ]
  },
  {
   "cell_type": "code",
   "execution_count": 3,
   "metadata": {
    "collapsed": false
   },
   "outputs": [],
   "source": [
    "dc = datacube.Datacube(app=\"PCA\")\n",
    "xarr={}\n",
    "i=0\n",
    "for tr in time_ranges:\n",
    "    xarr[i] = dc.load(product=product, longitude=(min_long, min_long+1.0), latitude=(min_lat, min_lat+1), time=tr)\n",
    "    i+=1"
   ]
  },
  {
   "cell_type": "code",
   "execution_count": 4,
   "metadata": {
    "collapsed": false
   },
   "outputs": [
    {
     "data": {
      "text/plain": [
       "{0: <xarray.Dataset>\n",
       " Dimensions:          (latitude: 3686, longitude: 3705, time: 22)\n",
       " Coordinates:\n",
       "   * time             (time) datetime64[ns] 2014-01-10T15:08:36 ...\n",
       "   * latitude         (latitude) float64 0.9999 0.9996 0.9993 0.9991 0.9988 ...\n",
       "   * longitude        (longitude) float64 -74.0 -74.0 -74.0 -74.0 -74.0 -74.0 ...\n",
       " Data variables:\n",
       "     coastal_aerosol  (time, latitude, longitude) int16 100 101 100 101 100 ...\n",
       "     blue             (time, latitude, longitude) int16 136 134 137 131 136 ...\n",
       "     green            (time, latitude, longitude) int16 301 320 301 300 304 ...\n",
       "     red              (time, latitude, longitude) int16 177 184 176 179 179 ...\n",
       "     nir              (time, latitude, longitude) int16 3066 3235 3068 2989 ...\n",
       "     swir1            (time, latitude, longitude) int16 1503 1451 1415 1365 ...\n",
       "     swir2            (time, latitude, longitude) int16 552 539 529 507 521 ...\n",
       "     cf_mask          (time, latitude, longitude) int16 0 0 0 0 0 0 0 0 0 0 0 ...\n",
       "     cf_mask_conf     (time, latitude, longitude) int16 1 1 1 1 1 1 1 1 1 1 1 ...\n",
       "     cloud            (time, latitude, longitude) int16 32 32 32 32 32 32 32 ...\n",
       " Attributes:\n",
       "     crs: EPSG:4326, 1: <xarray.Dataset>\n",
       " Dimensions:          (latitude: 3686, longitude: 3705, time: 21)\n",
       " Coordinates:\n",
       "   * time             (time) datetime64[ns] 2015-01-13T15:07:24 ...\n",
       "   * latitude         (latitude) float64 0.9999 0.9996 0.9993 0.9991 0.9988 ...\n",
       "   * longitude        (longitude) float64 -74.0 -74.0 -74.0 -74.0 -74.0 -74.0 ...\n",
       " Data variables:\n",
       "     coastal_aerosol  (time, latitude, longitude) int16 4128 4949 5269 5303 ...\n",
       "     blue             (time, latitude, longitude) int16 4218 5101 5476 5531 ...\n",
       "     green            (time, latitude, longitude) int16 4271 5310 5709 5778 ...\n",
       "     red              (time, latitude, longitude) int16 4297 5421 5865 5943 ...\n",
       "     nir              (time, latitude, longitude) int16 5500 6599 7048 7104 ...\n",
       "     swir1            (time, latitude, longitude) int16 4514 5439 5853 5881 ...\n",
       "     swir2            (time, latitude, longitude) int16 3383 4125 4475 4472 ...\n",
       "     cf_mask          (time, latitude, longitude) int16 4 4 4 4 4 4 4 4 4 4 4 ...\n",
       "     cf_mask_conf     (time, latitude, longitude) int16 3 3 3 3 3 3 3 3 3 3 3 ...\n",
       "     cloud            (time, latitude, longitude) int16 2 2 2 2 2 2 2 2 2 2 2 ...\n",
       " Attributes:\n",
       "     crs: EPSG:4326}"
      ]
     },
     "execution_count": 4,
     "metadata": {},
     "output_type": "execute_result"
    }
   ],
   "source": [
    "xarr"
   ]
  },
  {
   "cell_type": "code",
   "execution_count": 5,
   "metadata": {
    "collapsed": true
   },
   "outputs": [],
   "source": [
    "#Sólo para mantener los nombres que estarán en el algoritmo:\n",
    "xarr0=xarr[0]\n",
    "xarr1=xarr[1]\n",
    "del xarr"
   ]
  },
  {
   "cell_type": "markdown",
   "metadata": {},
   "source": [
    "# Algoritmo"
   ]
  },
  {
   "cell_type": "code",
   "execution_count": 6,
   "metadata": {
    "collapsed": false
   },
   "outputs": [
    {
     "name": "stderr",
     "output_type": "stream",
     "text": [
      "/home/developer/anaconda2/lib/python2.7/site-packages/numpy/lib/nanfunctions.py:675: RuntimeWarning: Mean of empty slice\n",
      "  warnings.warn(\"Mean of empty slice\", RuntimeWarning)\n",
      "/home/developer/anaconda2/lib/python2.7/site-packages/numpy/lib/nanfunctions.py:1147: RuntimeWarning: Degrees of freedom <= 0 for slice.\n",
      "  warnings.warn(\"Degrees of freedom <= 0 for slice.\", RuntimeWarning)\n",
      "/home/developer/anaconda2/lib/python2.7/site-packages/numpy/lib/nanfunctions.py:740: RuntimeWarning: All-NaN slice encountered\n",
      "  warnings.warn(\"All-NaN slice encountered\", RuntimeWarning)\n"
     ]
    }
   ],
   "source": [
    "#Calcular el compuesto de medianas para cada uno de las entradas\n",
    "nbar = xarr0\n",
    "nodata=-9999\n",
    "medians1={}\n",
    "cloud_mask=np.where(np.logical_and(nbar[\"cf_mask\"].values!=2, nbar[\"cf_mask\"].values<4), True, False)\n",
    "for band in bands:\n",
    "    datos=np.where(np.logical_and(nbar.data_vars[band]!=nodata,cloud_mask),nbar.data_vars[band], np.nan)\n",
    "    allNan=~np.isnan(datos)\n",
    "    if normalized:\n",
    "        m=np.nanmean(datos.reshape((datos.shape[0],-1)), axis=1)\n",
    "        st=np.nanstd(datos.reshape((datos.shape[0],-1)), axis=1)\n",
    "        datos=np.true_divide((datos-m[:,np.newaxis,np.newaxis]), st[:,np.newaxis,np.newaxis])*np.nanmean(st)+np.nanmean(m)\n",
    "    medians1[band]=np.nanmedian(datos,0)\n",
    "    medians1[band][np.sum(allNan,0)<minValid]=np.nan\n",
    "del datos\n",
    "nbar = xarr1\n",
    "nodata=-9999\n",
    "medians2={}\n",
    "cloud_mask=np.where(np.logical_and(nbar[\"cf_mask\"].values!=2, nbar[\"cf_mask\"].values<4), True, False)\n",
    "for band in bands:\n",
    "    datos=np.where(np.logical_and(nbar.data_vars[band]!=nodata,cloud_mask),nbar.data_vars[band], np.nan)\n",
    "    allNan=~np.isnan(datos)\n",
    "    if normalized:\n",
    "        m=np.nanmean(datos.reshape((datos.shape[0],-1)), axis=1)\n",
    "        st=np.nanstd(datos.reshape((datos.shape[0],-1)), axis=1)\n",
    "        datos=np.true_divide((datos-m[:,np.newaxis,np.newaxis]), st[:,np.newaxis,np.newaxis])*np.nanmean(st)+np.nanmean(m)\n",
    "    medians2[band]=np.nanmedian(datos,0)\n",
    "    medians2[band][np.sum(allNan,0)<minValid]=np.nan\n",
    "del datos"
   ]
  },
  {
   "cell_type": "code",
   "execution_count": null,
   "metadata": {
    "collapsed": false
   },
   "outputs": [],
   "source": []
  },
  {
   "cell_type": "code",
   "execution_count": 7,
   "metadata": {
    "collapsed": true
   },
   "outputs": [],
   "source": [
    "from matplotlib.mlab import PCA\n",
    "from sklearn.preprocessing import normalize\n",
    "from scipy.cluster.vq import kmeans2,vq"
   ]
  },
  {
   "cell_type": "code",
   "execution_count": 8,
   "metadata": {
    "collapsed": false
   },
   "outputs": [],
   "source": [
    "#Preprocesar: \n",
    "nmed=None\n",
    "nan_mask=None\n",
    "for band in medians1:\n",
    "    b=medians1[band].ravel()\n",
    "    if nan_mask is None: \n",
    "        nan_mask=np.isnan(b)\n",
    "    else:\n",
    "        nan_mask=np.logical_or(nan_mask, np.isnan(medians1[band].ravel()))\n",
    "    b[np.isnan(b)]=np.nanmedian(b)\n",
    "    if nmed is None:\n",
    "        sp=medians1[band].shape\n",
    "        nmed=b\n",
    "    else:\n",
    "        nmed=np.vstack((nmed,b))\n",
    "    c=medians2[band].ravel()\n",
    "    nan_mask=np.logical_or(nan_mask, np.isnan(c))\n",
    "    c[np.isnan(c)]=np.nanmedian(c)\n",
    "    nmed=np.vstack((nmed,c))\n",
    "del medians1\n",
    "del medians2"
   ]
  },
  {
   "cell_type": "code",
   "execution_count": 9,
   "metadata": {
    "collapsed": true
   },
   "outputs": [],
   "source": [
    "r_PCA=PCA(nmed.T)"
   ]
  },
  {
   "cell_type": "code",
   "execution_count": 10,
   "metadata": {
    "collapsed": false
   },
   "outputs": [],
   "source": [
    "salida= r_PCA.Y.T.reshape((r_PCA.Y.T.shape[0],)+sp)\n",
    "km_centroids, kmvalues=kmeans2(r_PCA.Y,4)\n",
    "salida[:,nan_mask.reshape(sp)]=np.nan\n"
   ]
  },
  {
   "cell_type": "code",
   "execution_count": 12,
   "metadata": {
    "collapsed": false
   },
   "outputs": [],
   "source": [
    "#kmeans\n",
    "kmv= kmvalues.T.reshape(sp)\n",
    "kmv[nan_mask.reshape(sp)]=nodata"
   ]
  },
  {
   "cell_type": "code",
   "execution_count": 19,
   "metadata": {
    "collapsed": false
   },
   "outputs": [
    {
     "data": {
      "text/plain": [
       "array([[    2,     2,     2, ...,     2,     2,     2],\n",
       "       [    2,     2,     2, ...,     1,     2,     2],\n",
       "       [    2,     2,     2, ...,     1,     1,     2],\n",
       "       ..., \n",
       "       [-9999, -9999, -9999, ..., -9999, -9999, -9999],\n",
       "       [-9999, -9999, -9999, ..., -9999, -9999, -9999],\n",
       "       [-9999, -9999, -9999, ..., -9999, -9999, -9999]], dtype=int32)"
      ]
     },
     "execution_count": 19,
     "metadata": {},
     "output_type": "execute_result"
    }
   ],
   "source": [
    "kmv"
   ]
  },
  {
   "cell_type": "code",
   "execution_count": 13,
   "metadata": {
    "collapsed": false
   },
   "outputs": [],
   "source": [
    "coordenadas = []\n",
    "dimensiones =[]\n",
    "xcords = {}\n",
    "for coordenada in xarr0.coords:\n",
    "    if(coordenada != 'time'):\n",
    "        coordenadas.append( ( coordenada, xarr0.coords[coordenada]) )\n",
    "        dimensiones.append(coordenada)\n",
    "        xcords[coordenada] = xarr0.coords[coordenada]\n",
    "valores = {\"kmeans\": xr.DataArray(kmv, dims=dimensiones, coords=coordenadas)}\n",
    "i=1\n",
    "for x in salida:\n",
    "    valores[\"pc\"+str(i)]=xr.DataArray(x, dims=dimensiones, coords=coordenadas)\n",
    "    i+=1\n",
    "output = xr.Dataset(valores, attrs={'crs': xarr0.crs})\n",
    "for coordenada in output.coords:\n",
    "    output.coords[coordenada].attrs[\"units\"] = xarr0.coords[coordenada].units"
   ]
  },
  {
   "cell_type": "code",
   "execution_count": 14,
   "metadata": {
    "collapsed": false
   },
   "outputs": [
    {
     "data": {
      "text/plain": [
       "<xarray.Dataset>\n",
       "Dimensions:    (latitude: 3686, longitude: 3705)\n",
       "Coordinates:\n",
       "  * latitude   (latitude) float64 0.9999 0.9996 0.9993 0.9991 0.9988 0.9985 ...\n",
       "  * longitude  (longitude) float64 -74.0 -74.0 -74.0 -74.0 -74.0 -74.0 -74.0 ...\n",
       "Data variables:\n",
       "    pc8        (latitude, longitude) float64 0.6087 0.765 0.3897 -0.03688 ...\n",
       "    pc9        (latitude, longitude) float64 -0.1597 -0.1363 -0.0779 0.01788 ...\n",
       "    pc2        (latitude, longitude) float64 2.613 2.392 1.604 0.486 1.063 ...\n",
       "    pc3        (latitude, longitude) float64 1.289 1.612 0.5752 1.385 2.455 ...\n",
       "    pc1        (latitude, longitude) float64 1.831 1.574 -0.01468 -0.5085 ...\n",
       "    pc6        (latitude, longitude) float64 -0.05934 0.3248 -0.1954 ...\n",
       "    kmeans     (latitude, longitude) int32 2 2 2 2 2 2 2 2 2 2 2 2 2 2 2 2 2 ...\n",
       "    pc4        (latitude, longitude) float64 -0.3019 0.0927 0.3629 0.8255 ...\n",
       "    pc5        (latitude, longitude) float64 -0.8287 -0.2217 -1.074 -1.292 ...\n",
       "    pc11       (latitude, longitude) float64 -0.1896 -0.195 -0.204 -0.1035 ...\n",
       "    pc12       (latitude, longitude) float64 -0.008719 -0.0214 -0.003466 ...\n",
       "    pc10       (latitude, longitude) float64 0.08114 -0.01548 0.003864 ...\n",
       "    pc7        (latitude, longitude) float64 0.3145 0.1006 0.2413 0.522 ...\n",
       "Attributes:\n",
       "    crs: EPSG:4326"
      ]
     },
     "execution_count": 14,
     "metadata": {},
     "output_type": "execute_result"
    }
   ],
   "source": [
    "output"
   ]
  },
  {
   "cell_type": "markdown",
   "metadata": {},
   "source": [
    "# Guardar"
   ]
  },
  {
   "cell_type": "code",
   "execution_count": 18,
   "metadata": {
    "collapsed": false
   },
   "outputs": [],
   "source": [
    "folder=\"./\"\n",
    "filename=folder+\"PCA_{}_{}_{}.nc\".format(min_lat,min_long,re.sub('[^\\w_.)(-]', '', str(time_ranges)))\n",
    "nco=netcdf_writer.create_netcdf(filename)\n",
    "coords=output.coords\n",
    "cnames=()\n",
    "for x in coords:\n",
    "    netcdf_writer.create_coordinate(nco, x, coords[x].values, coords[x].units)\n",
    "    cnames=cnames+(x,)\n",
    "netcdf_writer.create_grid_mapping_variable(nco, output.crs)\n",
    "for band in output.data_vars:\n",
    "    output.data_vars[band].values[np.isnan(output.data_vars[band].values)]=nodata\n",
    "    var= netcdf_writer.create_variable(nco, band, Variable(output.data_vars[band].dtype, nodata, cnames, None) ,set_crs=True)\n",
    "    var[:] = netcdf_writer.netcdfy_data(output.data_vars[band].values)\n",
    "nco.close()"
   ]
  },
  {
   "cell_type": "code",
   "execution_count": null,
   "metadata": {
    "collapsed": true
   },
   "outputs": [],
   "source": []
  }
 ],
 "metadata": {
  "anaconda-cloud": {},
  "kernelspec": {
   "display_name": "Python [Root]",
   "language": "python",
   "name": "Python [Root]"
  },
  "language_info": {
   "codemirror_mode": {
    "name": "ipython",
    "version": 2
   },
   "file_extension": ".py",
   "mimetype": "text/x-python",
   "name": "python",
   "nbconvert_exporter": "python",
   "pygments_lexer": "ipython2",
   "version": "2.7.12"
  }
 },
 "nbformat": 4,
 "nbformat_minor": 0
}
