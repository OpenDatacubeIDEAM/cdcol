{
 "cells": [
  {
   "cell_type": "code",
   "execution_count": 1,
   "metadata": {
    "collapsed": false
   },
   "outputs": [],
   "source": [
    "import datacube\n",
    "import numpy as np\n",
    "from datacube.storage import netcdf_writer\n",
    "from datacube.model import Variable, CRS\n",
    "import os\n",
    "import re\n",
    "import xarray as xr"
   ]
  },
  {
   "cell_type": "markdown",
   "metadata": {},
   "source": [
    "# Parámetros\n"
   ]
  },
  {
   "cell_type": "code",
   "execution_count": 2,
   "metadata": {
    "collapsed": true
   },
   "outputs": [],
   "source": [
    "execID=\"PCA\"\n",
    "algorithm = \"PCA\"\n",
    "version= 1\n",
    "min_long = -75\n",
    "min_lat = 5\n",
    "time_ranges = [(\"2000-01-01\", \"2000-06-30\"), (\"2000-07-01\", \"2000-12-31\")]\n",
    "product = 'ls7_ledaps_utm18n4'\n",
    "bands = [\"blue\", \"green\", \"red\", \"nir\", \"swir1\", \"swir2\"]\n",
    "normalized=True\n",
    "minValid=1"
   ]
  },
  {
   "cell_type": "markdown",
   "metadata": {},
   "source": [
    "# Consulta"
   ]
  },
  {
   "cell_type": "code",
   "execution_count": 3,
   "metadata": {
    "collapsed": false
   },
   "outputs": [],
   "source": [
    "dc = datacube.Datacube(app=\"PCA\")\n",
    "xarr={}\n",
    "i=0\n",
    "for tr in time_ranges:\n",
    "    xarr[i] = dc.load(product=product, longitude=(min_long, min_long+1.0), latitude=(min_lat, min_lat+1), time=tr)\n",
    "    i+=1"
   ]
  },
  {
   "cell_type": "code",
   "execution_count": 4,
   "metadata": {
    "collapsed": true
   },
   "outputs": [],
   "source": [
    "#Sólo para mantener los nombres que estarán en el algoritmo:\n",
    "xarr0=xarr[0]\n",
    "xarr1=xarr[1]\n",
    "del xarr"
   ]
  },
  {
   "cell_type": "markdown",
   "metadata": {},
   "source": [
    "# Algoritmo"
   ]
  },
  {
   "cell_type": "code",
   "execution_count": 5,
   "metadata": {
    "collapsed": false
   },
   "outputs": [
    {
     "name": "stderr",
     "output_type": "stream",
     "text": [
      "/home/developer/anaconda2/lib/python2.7/site-packages/numpy/lib/nanfunctions.py:769: RuntimeWarning: All-NaN slice encountered\n",
      "  warnings.warn(\"All-NaN slice encountered\", RuntimeWarning)\n",
      "/home/developer/anaconda2/lib/python2.7/site-packages/numpy/lib/nanfunctions.py:703: RuntimeWarning: Mean of empty slice\n",
      "  warnings.warn(\"Mean of empty slice\", RuntimeWarning)\n",
      "/home/developer/anaconda2/lib/python2.7/site-packages/numpy/lib/nanfunctions.py:1202: RuntimeWarning: Degrees of freedom <= 0 for slice.\n",
      "  warnings.warn(\"Degrees of freedom <= 0 for slice.\", RuntimeWarning)\n"
     ]
    }
   ],
   "source": [
    "#Calcular el compuesto de medianas para cada uno de las entradas\n",
    "nbar = xarr0\n",
    "nodata=-9999\n",
    "medians1={}\n",
    "cloud_mask=np.where(np.logical_and(nbar[\"cf_mask\"].values!=2, nbar[\"cf_mask\"].values<4), True, False)\n",
    "for band in bands:\n",
    "    datos=np.where(np.logical_and(nbar.data_vars[band]!=nodata,cloud_mask),nbar.data_vars[band], np.nan)\n",
    "    allNan=~np.isnan(datos)\n",
    "    if normalized:\n",
    "        m=np.nanmean(datos.reshape((datos.shape[0],-1)), axis=1)\n",
    "        st=np.nanstd(datos.reshape((datos.shape[0],-1)), axis=1)\n",
    "        datos=np.true_divide((datos-m[:,np.newaxis,np.newaxis]), st[:,np.newaxis,np.newaxis])*np.nanmean(st)+np.nanmean(m)\n",
    "    medians1[band]=np.nanmedian(datos,0)\n",
    "    medians1[band][np.sum(allNan,0)<minValid]=np.nan\n",
    "del datos\n",
    "nbar = xarr1\n",
    "nodata=-9999\n",
    "medians2={}\n",
    "cloud_mask=np.where(np.logical_and(nbar[\"cf_mask\"].values!=2, nbar[\"cf_mask\"].values<4), True, False)\n",
    "for band in bands:\n",
    "    datos=np.where(np.logical_and(nbar.data_vars[band]!=nodata,cloud_mask),nbar.data_vars[band], np.nan)\n",
    "    allNan=~np.isnan(datos)\n",
    "    if normalized:\n",
    "        m=np.nanmean(datos.reshape((datos.shape[0],-1)), axis=1)\n",
    "        st=np.nanstd(datos.reshape((datos.shape[0],-1)), axis=1)\n",
    "        datos=np.true_divide((datos-m[:,np.newaxis,np.newaxis]), st[:,np.newaxis,np.newaxis])*np.nanmean(st)+np.nanmean(m)\n",
    "    medians2[band]=np.nanmedian(datos,0)\n",
    "    medians2[band][np.sum(allNan,0)<minValid]=np.nan\n",
    "del datos"
   ]
  },
  {
   "cell_type": "code",
   "execution_count": null,
   "metadata": {
    "collapsed": false
   },
   "outputs": [],
   "source": []
  },
  {
   "cell_type": "code",
   "execution_count": 6,
   "metadata": {
    "collapsed": true
   },
   "outputs": [],
   "source": [
    "from matplotlib.mlab import PCA\n",
    "from sklearn.preprocessing import normalize\n",
    "from scipy.cluster.vq import kmeans2,vq"
   ]
  },
  {
   "cell_type": "code",
   "execution_count": 7,
   "metadata": {
    "collapsed": false
   },
   "outputs": [],
   "source": [
    "#Preprocesar: \n",
    "nmed=None\n",
    "nan_mask=None\n",
    "for band in medians1:\n",
    "    b=medians1[band].ravel()\n",
    "    if nan_mask is None: \n",
    "        nan_mask=np.isnan(b)\n",
    "    else:\n",
    "        nan_mask=np.logical_or(nan_mask, np.isnan(medians1[band].ravel()))\n",
    "    b[np.isnan(b)]=np.nanmedian(b)\n",
    "    if nmed is None:\n",
    "        sp=medians1[band].shape\n",
    "        nmed=b\n",
    "    else:\n",
    "        nmed=np.vstack((nmed,b))\n",
    "    c=medians2[band].ravel()\n",
    "    nan_mask=np.logical_or(nan_mask, np.isnan(c))\n",
    "    c[np.isnan(c)]=np.nanmedian(c)\n",
    "    nmed=np.vstack((nmed,c))\n",
    "del medians1\n",
    "del medians2"
   ]
  },
  {
   "cell_type": "code",
   "execution_count": 8,
   "metadata": {
    "collapsed": true
   },
   "outputs": [],
   "source": [
    "r_PCA=PCA(nmed.T)"
   ]
  },
  {
   "cell_type": "code",
   "execution_count": 9,
   "metadata": {
    "collapsed": false
   },
   "outputs": [],
   "source": [
    "salida= r_PCA.Y.T.reshape((r_PCA.Y.T.shape[0],)+sp)\n",
    "km_centroids, kmvalues=kmeans2(r_PCA.Y,4)\n",
    "salida[:,nan_mask.reshape(sp)]=np.nan\n"
   ]
  },
  {
   "cell_type": "code",
   "execution_count": 11,
   "metadata": {
    "collapsed": false
   },
   "outputs": [],
   "source": [
    "#kmeans\n",
    "kmv= kmvalues.T.reshape(sp)"
   ]
  },
  {
   "cell_type": "code",
   "execution_count": 13,
   "metadata": {
    "collapsed": false
   },
   "outputs": [
    {
     "name": "stdout",
     "output_type": "stream",
     "text": [
      "(3689, 3696)\n",
      "(3689, 3696)\n",
      "(3689, 3696)\n",
      "(3689, 3696)\n",
      "(3689, 3696)\n",
      "(3689, 3696)\n",
      "(3689, 3696)\n",
      "(3689, 3696)\n",
      "(3689, 3696)\n",
      "(3689, 3696)\n",
      "(3689, 3696)\n",
      "(3689, 3696)\n"
     ]
    }
   ],
   "source": []
  },
  {
   "cell_type": "code",
   "execution_count": 28,
   "metadata": {
    "collapsed": false
   },
   "outputs": [],
   "source": [
    "coordenadas = []\n",
    "dimensiones =[]\n",
    "xcords = {}\n",
    "for coordenada in xarr0.coords:\n",
    "    if(coordenada != 'time'):\n",
    "        coordenadas.append( ( coordenada, xarr0.coords[coordenada]) )\n",
    "        dimensiones.append(coordenada)\n",
    "        xcords[coordenada] = xarr0.coords[coordenada]\n",
    "valores = {\"kmeans\": xr.DataArray(kmv, dims=dimensiones, coords=coordenadas)}\n",
    "i=1\n",
    "for x in salida:\n",
    "    valores[\"pc\"+str(i)]=xr.DataArray(x, dims=dimensiones, coords=coordenadas)\n",
    "    i+=1\n",
    "output = xr.Dataset(valores, attrs={'crs': xarr0.crs})\n",
    "for coordenada in output.coords:\n",
    "    output.coords[coordenada].attrs[\"units\"] = xarr0.coords[coordenada].units"
   ]
  },
  {
   "cell_type": "code",
   "execution_count": 29,
   "metadata": {
    "collapsed": false
   },
   "outputs": [
    {
     "data": {
      "text/plain": [
       "<xarray.Dataset>\n",
       "Dimensions:  (x: 3696, y: 3689)\n",
       "Coordinates:\n",
       "  * y        (y) float64 6.633e+05 6.633e+05 6.633e+05 6.632e+05 6.632e+05 ...\n",
       "  * x        (x) float64 5e+05 5e+05 5.001e+05 5.001e+05 5.001e+05 5.001e+05 ...\n",
       "Data variables:\n",
       "    pc8      (y, x) float64 nan nan nan nan nan nan nan nan nan nan nan nan ...\n",
       "    pc9      (y, x) float64 nan nan nan nan nan nan nan nan nan nan nan nan ...\n",
       "    pc2      (y, x) float64 nan nan nan nan nan nan nan nan nan nan nan nan ...\n",
       "    pc3      (y, x) float64 nan nan nan nan nan nan nan nan nan nan nan nan ...\n",
       "    pc1      (y, x) float64 nan nan nan nan nan nan nan nan nan nan nan nan ...\n",
       "    pc6      (y, x) float64 nan nan nan nan nan nan nan nan nan nan nan nan ...\n",
       "    kmeans   (y, x) int32 2 2 2 2 2 2 2 2 2 2 2 2 2 2 2 2 2 2 2 2 2 2 2 2 2 ...\n",
       "    pc4      (y, x) float64 nan nan nan nan nan nan nan nan nan nan nan nan ...\n",
       "    pc5      (y, x) float64 nan nan nan nan nan nan nan nan nan nan nan nan ...\n",
       "    pc11     (y, x) float64 nan nan nan nan nan nan nan nan nan nan nan nan ...\n",
       "    pc12     (y, x) float64 nan nan nan nan nan nan nan nan nan nan nan nan ...\n",
       "    pc10     (y, x) float64 nan nan nan nan nan nan nan nan nan nan nan nan ...\n",
       "    pc7      (y, x) float64 nan nan nan nan nan nan nan nan nan nan nan nan ...\n",
       "Attributes:\n",
       "    crs: EPSG:32618"
      ]
     },
     "execution_count": 29,
     "metadata": {},
     "output_type": "execute_result"
    }
   ],
   "source": [
    "output"
   ]
  },
  {
   "cell_type": "markdown",
   "metadata": {},
   "source": [
    "# Guardar"
   ]
  },
  {
   "cell_type": "code",
   "execution_count": 32,
   "metadata": {
    "collapsed": false
   },
   "outputs": [],
   "source": [
    "folder=\"./\"\n",
    "filename=folder+\"PCA_{}_{}_{}.nc\".format(min_lat,min_long,re.sub('[^\\w_.)(-]', '', str(time_ranges)))\n",
    "nco=netcdf_writer.create_netcdf(filename)\n",
    "coords=output.coords\n",
    "cnames=()\n",
    "for x in coords:\n",
    "    netcdf_writer.create_coordinate(nco, x, coords[x].values, coords[x].units)\n",
    "    cnames=cnames+(x,)\n",
    "netcdf_writer.create_grid_mapping_variable(nco, output.crs)\n",
    "for band in output.data_vars:\n",
    "    output.data_vars[band].values[np.isnan(output.data_vars[band].values)]=nodata\n",
    "    var= netcdf_writer.create_variable(nco, band, Variable(np.dtype(np.float64), nodata, cnames, None) ,set_crs=True)\n",
    "    var[:] = netcdf_writer.netcdfy_data(output.data_vars[band].values)\n",
    "nco.close()"
   ]
  },
  {
   "cell_type": "code",
   "execution_count": null,
   "metadata": {
    "collapsed": true
   },
   "outputs": [],
   "source": []
  }
 ],
 "metadata": {
  "anaconda-cloud": {},
  "kernelspec": {
   "display_name": "Python [default]",
   "language": "python",
   "name": "python2"
  },
  "language_info": {
   "codemirror_mode": {
    "name": "ipython",
    "version": 2
   },
   "file_extension": ".py",
   "mimetype": "text/x-python",
   "name": "python",
   "nbconvert_exporter": "python",
   "pygments_lexer": "ipython2",
   "version": "2.7.11"
  }
 },
 "nbformat": 4,
 "nbformat_minor": 0
}
