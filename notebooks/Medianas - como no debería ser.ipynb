{
 "cells": [
  {
   "cell_type": "markdown",
   "metadata": {},
   "source": [
    "# Medianas - como NO debería ser\n",
    "Implementación de la generación del compuesto temporal de medianas, sobre el cubo V2, utilizando las consultas de bajo nivel provistas por el cubo (no paraleliza, ni utliza las funciones definidas en los componentes GridWorkflow, Analytics ni Execution)\n",
    "## Parámetros"
   ]
  },
  {
   "cell_type": "code",
   "execution_count": null,
   "metadata": {
    "collapsed": true
   },
   "outputs": [],
   "source": [
    "longs=(-75, -74)\n",
    "lats=(5, 6)\n",
    "normalized=True\n",
    "time_range=(\"2000-01-01\",\"2000-12-31\")\n",
    "bands=[\"blue\",\"green\",\"red\",\"nir\", \"swir1\",\"swir2\"]\n",
    "#bands=[\"blue\"]\n",
    "minValid=1;"
   ]
  },
  {
   "cell_type": "markdown",
   "metadata": {},
   "source": [
    "## Consulta"
   ]
  },
  {
   "cell_type": "code",
   "execution_count": null,
   "metadata": {
    "collapsed": false
   },
   "outputs": [],
   "source": [
    "%matplotlib inline\n",
    "import datacube\n",
    "import numpy as np\n",
    "dc = datacube.Datacube(app='dc-prueba1')\n",
    "nbar = dc.load(product='ls7_ledaps_utm', longitude=longs, latitude=lats, time=time_range)"
   ]
  },
  {
   "cell_type": "code",
   "execution_count": null,
   "metadata": {
    "collapsed": false
   },
   "outputs": [],
   "source": [
    "## Opcional (para ver los resultados en el cuaderno de python)\n",
    "nbar"
   ]
  },
  {
   "cell_type": "markdown",
   "metadata": {},
   "source": [
    "## Medianas:"
   ]
  },
  {
   "cell_type": "code",
   "execution_count": null,
   "metadata": {
    "collapsed": false
   },
   "outputs": [],
   "source": [
    "nodata=-9999\n",
    "medians={}\n",
    "for band in bands:\n",
    "    \n",
    "    datos=np.where(nbar.data_vars[band]!=nodata,nbar.data_vars[band], np.nan)\n",
    "    allNan=~np.isnan(datos)\n",
    "    if normalized:\n",
    "        m=np.nanmean(datos.reshape((datos.shape[0],-1)), axis=1)\n",
    "        st=np.nanstd(datos.reshape((datos.shape[0],-1)), axis=1)\n",
    "        datos=np.true_divide((datos-m[:,np.newaxis,np.newaxis]), st[:,np.newaxis,np.newaxis])*np.nanmean(st)+np.nanmean(m)\n",
    "    medians[band]=np.nanmedian(datos,0)\n",
    "    medians[band][np.sum(allNan,0)<minValid]=np.nan\n",
    "del datos    "
   ]
  },
  {
   "cell_type": "code",
   "execution_count": null,
   "metadata": {
    "collapsed": false
   },
   "outputs": [],
   "source": [
    "# Opcional (para ver los resultados en el cuaderno de python)\n",
    "medians"
   ]
  },
  {
   "cell_type": "markdown",
   "metadata": {},
   "source": [
    "## Guardar los resultados a un archivo NetCDF"
   ]
  },
  {
   "cell_type": "code",
   "execution_count": null,
   "metadata": {
    "collapsed": false
   },
   "outputs": [],
   "source": [
    "from datacube.storage import netcdf_writer\n",
    "from datacube.model import Variable, CRS\n",
    "nco=netcdf_writer.create_netcdf(\"salida2000.nc\")\n",
    "cords=('latitude', 'longitude','time')\n",
    "for x in cords:\n",
    "    if(x!=\"time\"):\n",
    "        netcdf_writer.create_coordinate(nco, x, nbar.coords[x].values, nbar.coords[x].units)\n",
    "    else:\n",
    "        netcdf_writer.create_coordinate(nco, x, np.array([\"t1-t2\"]), \"period\")\n",
    "netcdf_writer.create_grid_mapping_variable(nco, nbar.crs)\n",
    "for band in bands:\n",
    "    medians[band][np.isnan(medians[band])]=nodata\n",
    "    var= netcdf_writer.create_variable(nco, band, Variable(np.dtype(np.int32), None, ('time','latitude', 'longitude'), None) ,set_crs=True)\n",
    "    var[:] = netcdf_writer.netcdfy_data(medians[band])\n",
    "nco.close()"
   ]
  }
 ],
 "metadata": {
  "kernelspec": {
   "display_name": "Python [default]",
   "language": "python",
   "name": "python2"
  },
  "language_info": {
   "codemirror_mode": {
    "name": "ipython",
    "version": 2
   },
   "file_extension": ".py",
   "mimetype": "text/x-python",
   "name": "python",
   "nbconvert_exporter": "python",
   "pygments_lexer": "ipython2",
   "version": "2.7.11"
  }
 },
 "nbformat": 4,
 "nbformat_minor": 0
}
