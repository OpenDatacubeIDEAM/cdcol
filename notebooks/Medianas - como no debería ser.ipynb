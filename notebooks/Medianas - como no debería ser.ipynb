{
 "cells": [
  {
   "cell_type": "markdown",
   "metadata": {},
   "source": [
    "# Medianas - como NO debería ser\n",
    "Implementación de la generación del compuesto temporal de medianas, sobre el cubo V2, utilizando las consultas de bajo nivel provistas por el cubo (no paraleliza, ni utliza las funciones definidas en los componentes GridWorkflow, Analytics ni Execution)\n",
    "## Parámetros"
   ]
  },
  {
   "cell_type": "code",
   "execution_count": 1,
   "metadata": {
    "collapsed": true
   },
   "outputs": [],
   "source": [
    "longs=(-75, -74)\n",
    "lats=(5, 6)\n",
    "normalized=True\n",
    "time_range=(\"2000-01-01\",\"2000-12-31\")\n",
    "bands=[\"blue\",\"green\",\"red\",\"nir\", \"swir1\",\"swir2\"]\n",
    "#bands=[\"blue\"]\n",
    "minValid=1;"
   ]
  },
  {
   "cell_type": "markdown",
   "metadata": {},
   "source": [
    "## Consulta"
   ]
  },
  {
   "cell_type": "code",
   "execution_count": 2,
   "metadata": {
    "collapsed": false
   },
   "outputs": [],
   "source": [
    "%matplotlib inline\n",
    "import datacube\n",
    "import numpy as np\n",
    "dc = datacube.Datacube(app='dc-prueba1')\n",
    "nbar = dc.load(product='ls7_ledaps_utm', longitude=longs, latitude=lats, time=time_range)"
   ]
  },
  {
   "cell_type": "code",
   "execution_count": 3,
   "metadata": {
    "collapsed": false
   },
   "outputs": [
    {
     "data": {
      "text/plain": [
       "<xarray.Dataset>\n",
       "Dimensions:            (latitude: 3687, longitude: 3687, time: 7)\n",
       "Coordinates:\n",
       "  * time               (time) datetime64[ns] 2000-02-04T15:05:07 ...\n",
       "  * latitude           (latitude) float64 6.0 6.0 5.999 5.999 5.999 5.999 ...\n",
       "  * longitude          (longitude) float64 -75.0 -75.0 -75.0 -75.0 -75.0 ...\n",
       "Data variables:\n",
       "    blue               (time, latitude, longitude) int16 -9999 -9999 -9999 ...\n",
       "    green              (time, latitude, longitude) int16 -9999 -9999 -9999 ...\n",
       "    red                (time, latitude, longitude) int16 -9999 -9999 -9999 ...\n",
       "    nir                (time, latitude, longitude) int16 -9999 -9999 -9999 ...\n",
       "    swir1              (time, latitude, longitude) int16 -9999 -9999 -9999 ...\n",
       "    swir2              (time, latitude, longitude) int16 -9999 -9999 -9999 ...\n",
       "    cf_mask            (time, latitude, longitude) int16 255 255 255 255 255 ...\n",
       "    cf_mask_conf       (time, latitude, longitude) int16 255 255 255 255 255 ...\n",
       "    adjacent_cloud_qa  (time, latitude, longitude) int16 255 255 255 255 255 ...\n",
       "    atmos_opacity      (time, latitude, longitude) int16 -9999 -9999 -9999 ...\n",
       "    cloud_qa           (time, latitude, longitude) int16 0 0 0 0 0 0 0 0 0 0 ...\n",
       "    cloud_shadow_qa    (time, latitude, longitude) int16 0 0 0 0 0 0 0 0 0 0 ...\n",
       "    ddv_qa             (time, latitude, longitude) int16 0 0 0 0 0 0 0 0 0 0 ...\n",
       "    fill_qa            (time, latitude, longitude) int16 0 255 255 255 255 ...\n",
       "    land_water_qa      (time, latitude, longitude) int16 0 0 0 0 0 0 0 0 0 0 ...\n",
       "    snow_qa            (time, latitude, longitude) int16 0 0 0 0 0 0 0 0 0 0 ...\n",
       "Attributes:\n",
       "    crs: EPSG:4326"
      ]
     },
     "execution_count": 3,
     "metadata": {},
     "output_type": "execute_result"
    }
   ],
   "source": [
    "## Opcional (para ver los resultados en el cuaderno de python)\n",
    "nbar"
   ]
  },
  {
   "cell_type": "markdown",
   "metadata": {},
   "source": [
    "## Medianas:"
   ]
  },
  {
   "cell_type": "code",
   "execution_count": 4,
   "metadata": {
    "collapsed": false
   },
   "outputs": [
    {
     "name": "stderr",
     "output_type": "stream",
     "text": [
      "/home/developer/anaconda2/lib/python2.7/site-packages/numpy/lib/nanfunctions.py:740: RuntimeWarning: All-NaN slice encountered\n",
      "  warnings.warn(\"All-NaN slice encountered\", RuntimeWarning)\n"
     ]
    }
   ],
   "source": [
    "nodata=-9999\n",
    "medians={}\n",
    "for band in bands:\n",
    "    \n",
    "    datos=np.where(nbar.data_vars[band]!=nodata,nbar.data_vars[band], np.nan)\n",
    "    allNan=~np.isnan(datos)\n",
    "    if normalized:\n",
    "        m=np.nanmean(datos.reshape((datos.shape[0],-1)), axis=1)\n",
    "        st=np.nanstd(datos.reshape((datos.shape[0],-1)), axis=1)\n",
    "        datos=np.true_divide((datos-m[:,np.newaxis,np.newaxis]), st[:,np.newaxis,np.newaxis])*np.nanmean(st)+np.nanmean(m)\n",
    "    medians[band]=np.nanmedian(datos,0)\n",
    "    medians[band][np.sum(allNan,0)<minValid]=np.nan\n",
    "del datos    "
   ]
  },
  {
   "cell_type": "code",
   "execution_count": 5,
   "metadata": {
    "collapsed": false
   },
   "outputs": [
    {
     "data": {
      "text/plain": [
       "{'blue': array([[           nan,  6970.64450932,  6576.93792827, ...,\n",
       "          3809.17350076,  3776.15992878,            nan],\n",
       "        [           nan,  7688.13295046,  7596.92679269, ...,\n",
       "          3891.7074307 ,  3792.66671477,            nan],\n",
       "        [           nan,  7983.03286059,  8451.22447049, ...,\n",
       "          3924.72100267,  3825.68028674,            nan],\n",
       "        ..., \n",
       "        [           nan,            nan,            nan, ...,\n",
       "          8775.00633058,  8749.16458588,            nan],\n",
       "        [           nan,            nan,            nan, ...,\n",
       "                    nan,            nan,            nan],\n",
       "        [           nan,            nan,            nan, ...,\n",
       "                    nan,            nan,            nan]]),\n",
       " 'green': array([[           nan,  6031.28917989,  5688.64572794, ...,\n",
       "          3611.88644401,  3593.07562836,            nan],\n",
       "        [           nan,  6942.33648906,  6839.863681  , ...,\n",
       "          3709.70268538,  3650.44861609,            nan],\n",
       "        [           nan,  7276.97425289,  7739.70302679, ...,\n",
       "          3768.95675467,  3709.70268538,            nan],\n",
       "        ..., \n",
       "        [           nan,            nan,            nan, ...,\n",
       "          8311.30915926,  8191.22383731,            nan],\n",
       "        [           nan,            nan,            nan, ...,\n",
       "                    nan,            nan,            nan],\n",
       "        [           nan,            nan,            nan, ...,\n",
       "                    nan,            nan,            nan]]),\n",
       " 'nir': array([[           nan,  4250.95079745,  3860.5761682 , ...,\n",
       "          5125.28282845,  5143.23566431,            nan],\n",
       "        [           nan,  5222.903956  ,  5028.51332429, ...,\n",
       "          4871.28829368,  4744.89420589,            nan],\n",
       "        [           nan,  5544.7638544 ,  6059.42101868, ...,\n",
       "          3994.37202703,  4104.04055393,            nan],\n",
       "        ..., \n",
       "        [           nan,            nan,            nan, ...,\n",
       "          5460.39607665,  5358.10868846,            nan],\n",
       "        [           nan,            nan,            nan, ...,\n",
       "                    nan,            nan,            nan],\n",
       "        [           nan,            nan,            nan, ...,\n",
       "                    nan,            nan,            nan]]),\n",
       " 'red': array([[           nan,  6144.71671833,  5828.62153111, ...,\n",
       "          3581.0962037 ,  3581.0962037 ,            nan],\n",
       "        [           nan,  7032.57231774,  6917.91033806, ...,\n",
       "          3666.00935733,  3615.79190088,            nan],\n",
       "        [           nan,  7371.90979814,  7850.70103761, ...,\n",
       "          3699.79200985,  3615.79190088,            nan],\n",
       "        ..., \n",
       "        [           nan,            nan,            nan, ...,\n",
       "          8388.37275313,  8388.37275313,            nan],\n",
       "        [           nan,            nan,            nan, ...,\n",
       "                    nan,            nan,            nan],\n",
       "        [           nan,            nan,            nan, ...,\n",
       "                    nan,            nan,            nan]]),\n",
       " 'swir1': array([[           nan,  3387.06674599,  2925.53933689, ...,\n",
       "          2647.91037912,  2623.74795619,            nan],\n",
       "        [           nan,  4143.57650524,  4010.90501761, ...,\n",
       "          2700.4373855 ,  2548.10906702,            nan],\n",
       "        [           nan,  4406.0966829 ,  4799.87694937, ...,\n",
       "          2608.4156037 ,  2415.22369114,            nan],\n",
       "        ..., \n",
       "        [           nan,            nan,            nan, ...,\n",
       "          3776.17589795,  3506.27717153,            nan],\n",
       "        [           nan,            nan,            nan, ...,\n",
       "                    nan,            nan,            nan],\n",
       "        [           nan,            nan,            nan, ...,\n",
       "                    nan,            nan,            nan]]),\n",
       " 'swir2': array([[           nan,  2576.37235972,  2076.96670336, ...,\n",
       "          1381.53274399,  1338.93375944,            nan],\n",
       "        [           nan,  3101.44340312,  2943.17351631, ...,\n",
       "          1447.98715989,  1381.53274399,            nan],\n",
       "        [           nan,  3258.64389881,  3336.70945109, ...,\n",
       "          1340.34523424,  1180.56584285,            nan],\n",
       "        ..., \n",
       "        [           nan,            nan,            nan, ...,\n",
       "          2753.45624597,  2583.11586102,            nan],\n",
       "        [           nan,            nan,            nan, ...,\n",
       "                    nan,            nan,            nan],\n",
       "        [           nan,            nan,            nan, ...,\n",
       "                    nan,            nan,            nan]])}"
      ]
     },
     "execution_count": 5,
     "metadata": {},
     "output_type": "execute_result"
    }
   ],
   "source": [
    "# Opcional (para ver los resultados en el cuaderno de python)\n",
    "medians"
   ]
  },
  {
   "cell_type": "markdown",
   "metadata": {},
   "source": [
    "## Guardar los resultados a un archivo NetCDF"
   ]
  },
  {
   "cell_type": "code",
   "execution_count": 6,
   "metadata": {
    "collapsed": false
   },
   "outputs": [],
   "source": [
    "from datacube.storage import netcdf_writer\n",
    "from datacube.model import Variable, CRS\n",
    "nco=netcdf_writer.create_netcdf(\"salida2000.nc\")\n",
    "cords=('latitude', 'longitude','time')\n",
    "for x in cords:\n",
    "    if(x!=\"time\"):\n",
    "        netcdf_writer.create_coordinate(nco, x, nbar.coords[x].values, nbar.coords[x].units)\n",
    "    else:\n",
    "        netcdf_writer.create_coordinate(nco, x, np.array([\"t1-t2\"]), \"period\")\n",
    "netcdf_writer.create_grid_mapping_variable(nco, nbar.crs)\n",
    "for band in bands:\n",
    "    medians[band][np.isnan(medians[band])]=nodata\n",
    "    var= netcdf_writer.create_variable(nco, band, Variable(np.dtype(np.int32), None, ('time','latitude', 'longitude'), None) ,set_crs=True)\n",
    "    var[:] = netcdf_writer.netcdfy_data(medians[band])\n",
    "nco.close()"
   ]
  }
 ],
 "metadata": {
  "kernelspec": {
   "display_name": "Python 2",
   "language": "python",
   "name": "python2"
  },
  "language_info": {
   "codemirror_mode": {
    "name": "ipython",
    "version": 2
   },
   "file_extension": ".py",
   "mimetype": "text/x-python",
   "name": "python",
   "nbconvert_exporter": "python",
   "pygments_lexer": "ipython2",
   "version": "2.7.11"
  }
 },
 "nbformat": 4,
 "nbformat_minor": 0
}
